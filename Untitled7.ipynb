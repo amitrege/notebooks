{
  "nbformat": 4,
  "nbformat_minor": 0,
  "metadata": {
    "colab": {
      "name": "Untitled7.ipynb",
      "version": "0.3.2",
      "provenance": [],
      "include_colab_link": true
    },
    "kernelspec": {
      "name": "python3",
      "display_name": "Python 3"
    }
  },
  "cells": [
    {
      "cell_type": "markdown",
      "metadata": {
        "id": "view-in-github",
        "colab_type": "text"
      },
      "source": [
        "<a href=\"https://colab.research.google.com/github/amitrege/notebooks/blob/master/Untitled7.ipynb\" target=\"_parent\"><img src=\"https://colab.research.google.com/assets/colab-badge.svg\" alt=\"Open In Colab\"/></a>"
      ]
    },
    {
      "cell_type": "code",
      "metadata": {
        "id": "lb91cR2KQeeU",
        "colab_type": "code",
        "colab": {}
      },
      "source": [
        "# import the necessary packages\n",
        "from collections import deque\n",
        "from imutils.video import VideoStream\n",
        "import numpy as np\n",
        "import argparse\n",
        "import cv2\n",
        "import imutils\n",
        "import time\n",
        "from google.colab.patches import cv2_imshow"
      ],
      "execution_count": 0,
      "outputs": []
    },
    {
      "cell_type": "code",
      "metadata": {
        "id": "GDRrcbWkTScG",
        "colab_type": "code",
        "colab": {
          "base_uri": "https://localhost:8080/",
          "height": 34
        },
        "outputId": "e47e993c-ed80-4c30-9b77-9f6580b7a5c1"
      },
      "source": [
        "from google.colab import drive\n",
        "drive.mount('gdrive')"
      ],
      "execution_count": 45,
      "outputs": [
        {
          "output_type": "stream",
          "text": [
            "Drive already mounted at gdrive; to attempt to forcibly remount, call drive.mount(\"gdrive\", force_remount=True).\n"
          ],
          "name": "stdout"
        }
      ]
    },
    {
      "cell_type": "code",
      "metadata": {
        "id": "e6uN2JC3UnDb",
        "colab_type": "code",
        "colab": {
          "base_uri": "https://localhost:8080/",
          "height": 46
        },
        "outputId": "aeb4447c-ab29-4a7c-f988-e6b2f1247b7e"
      },
      "source": [
        "!ls "
      ],
      "execution_count": 47,
      "outputs": [
        {
          "output_type": "stream",
          "text": [
            "gdrive\tIMG_20190505_172034.jpg  sample_data\n"
          ],
          "name": "stdout"
        }
      ]
    },
    {
      "cell_type": "code",
      "metadata": {
        "id": "XsizkmvuTikw",
        "colab_type": "code",
        "colab": {}
      },
      "source": [
        "def classifier(img, colour, reduce_width = False):\n",
        "  if reduce_width:\n",
        "    # Reduce Size of image\n",
        "    img = imutils.resize(img, width = 600)\n",
        "  \n",
        "  # Add gaussian blur to reduce noise\n",
        "  img = cv2.GaussianBlur(img, (11, 11), 0)\n",
        "\n",
        "  # Convert to HSV space\n",
        "  img_hsv = cv2.cvtColor(img, cv2.COLOR_BGR2HSV)\n",
        "\n",
        "  if colour == \"red\":\n",
        "    mask1 = cv2.inRange(img_hsv, (0,50,20), (5,255,255))\n",
        "    mask2 = cv2.inRange(img_hsv, (175,50,20), (180,255,255))\n",
        "    \n",
        "    ## Merge the mask and crop the red regions\n",
        "    mask = cv2.bitwise_or(mask1, mask2 )\n",
        "  elif colour == \"blue\":\n",
        "    mask = cv2.inRange(img_hsv, (110,50,50), (130,255,255))\n",
        "\n",
        "  croped = cv2.bitwise_and(img, img, mask=mask)\n",
        "\n",
        "  # find contours in the mask and initialize the current\n",
        "  # (x, y) center of the ball\n",
        "  cnts = cv2.findContours(mask.copy(), cv2.RETR_EXTERNAL,\n",
        "  cv2.CHAIN_APPROX_SIMPLE)\n",
        "  cnts = imutils.grab_contours(cnts)\n",
        "  center = None\n",
        "  radius = None\n",
        "\n",
        "  if len(cnts) > 0:\n",
        "    c = max(cnts, key=cv2.contourArea)\n",
        "    ((x, y), radius) = cv2.minEnclosingCircle(c)\n",
        "    M = cv2.moments(c)\n",
        "    center = (int(M[\"m10\"] / M[\"m00\"]), int(M[\"m01\"] / M[\"m00\"]))\n",
        "  \n",
        "  return center, radius"
      ],
      "execution_count": 0,
      "outputs": []
    },
    {
      "cell_type": "code",
      "metadata": {
        "id": "cmEhqFnFaSZ8",
        "colab_type": "code",
        "colab": {
          "base_uri": "https://localhost:8080/",
          "height": 34
        },
        "outputId": "50fa1df9-1807-4330-cd91-3e52eec6f7db"
      },
      "source": [
        "i = cv2.imread('IMG_20190505_172034.jpg')\n",
        "classifier(i, 'red')"
      ],
      "execution_count": 64,
      "outputs": [
        {
          "output_type": "execute_result",
          "data": {
            "text/plain": [
              "((1574, 2126), 294.38519287109375)"
            ]
          },
          "metadata": {
            "tags": []
          },
          "execution_count": 64
        }
      ]
    },
    {
      "cell_type": "code",
      "metadata": {
        "id": "jeikTvfvQl4t",
        "colab_type": "code",
        "colab": {}
      },
      "source": [
        "# define the lower and upper boundaries of the \"green\"\n",
        "# ball in the HSV color space, then initialize the\n",
        "# list of tracked points\n",
        "greenLower = (29, 86, 6)\n",
        "greenUpper = (64, 255, 255)\n",
        "pts = deque(maxlen=args[\"buffer\"])\n",
        " \n",
        "# if a video path was not supplied, grab the reference\n",
        "# to the webcam\n",
        "if not args.get(\"video\", False):\n",
        "\tvs = VideoStream(src=0).start()\n",
        "  \n",
        "# otherwise, grab a reference to the video file\n",
        "else:\n",
        "\tvs = cv2.VideoCapture(args[\"video\"])\n",
        "\n",
        "# allow the camera or video file to warm up\n",
        "time.sleep(2.0)"
      ],
      "execution_count": 0,
      "outputs": []
    }
  ]
}