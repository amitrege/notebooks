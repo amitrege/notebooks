{
  "nbformat": 4,
  "nbformat_minor": 0,
  "metadata": {
    "kernelspec": {
      "display_name": "Python 3",
      "language": "python",
      "name": "python3"
    },
    "language_info": {
      "codemirror_mode": {
        "name": "ipython",
        "version": 3
      },
      "file_extension": ".py",
      "mimetype": "text/x-python",
      "name": "python",
      "nbconvert_exporter": "python",
      "pygments_lexer": "ipython3",
      "version": "3.8.3"
    },
    "colab": {
      "name": "Quantum.ipynb",
      "provenance": []
    },
    "accelerator": "GPU"
  },
  "cells": [
    {
      "cell_type": "code",
      "metadata": {
        "id": "Knco-17vnrSR"
      },
      "source": [
        "import torch \n",
        "import torchvision\n",
        "import torch.nn as nn\n",
        "import numpy as np\n",
        "import torchvision.transforms as transforms\n",
        "import matplotlib.pyplot as plt\n",
        "from PIL import Image\n",
        "from sklearn.model_selection import train_test_split\n",
        "from sklearn import svm\n",
        "import pandas as pd\n",
        "from IPython.display import display\n",
        "\n",
        "from __future__ import print_function\n",
        "import os\n",
        "import random\n",
        "import torch.nn.parallel\n",
        "import torch.backends.cudnn as cudnn\n",
        "import torch.optim as optim\n",
        "import torch.utils.data\n",
        "import torchvision.datasets as dset\n",
        "import torchvision.utils as vutils\n",
        "import math"
      ],
      "execution_count": 1,
      "outputs": []
    },
    {
      "cell_type": "code",
      "metadata": {
        "colab": {
          "base_uri": "https://localhost:8080/"
        },
        "id": "UHi2ivTxnyvN",
        "outputId": "71e6392f-cc70-4320-d69b-a2bbd7eca34a"
      },
      "source": [
        "from google.colab import drive\n",
        "drive.mount('/content/gdrive')"
      ],
      "execution_count": 2,
      "outputs": [
        {
          "output_type": "stream",
          "text": [
            "Mounted at /content/gdrive\n"
          ],
          "name": "stdout"
        }
      ]
    },
    {
      "cell_type": "code",
      "metadata": {
        "id": "u04K6YkG8gvz"
      },
      "source": [
        "def setup_data(dir, num_circuits, file_prefix, dir_with_gates, separate_bits, norm = 'max_norm'):\n",
        "  onlyfiles = next(os.walk(dir))[2] #dir is your directory path as string\n",
        "\n",
        "  # Currently, we only count files with frequencies\n",
        "  if dir_with_gates:\n",
        "    num_files = int(math.ceil((len(onlyfiles) - 1)/3))\n",
        "  else:\n",
        "    num_files = len(onlyfiles)\n",
        "\n",
        "  for i in range(num_files): # Only FC files matter and there is an extra IDs file\n",
        "    # Give unique indexes to each circuit in each file\n",
        "    idx = i*num_circuits\n",
        "    d = np.load(dir + \"/\" + file_prefix + str(i) + \".npy\", allow_pickle=True)\n",
        "    circuits = np.concatenate(d[:,0]).reshape(d.shape[0],2) + np.array([idx,idx+ int(num_circuits/2)]) \n",
        "\n",
        "    # Separate out cicruits and freq\n",
        "    d = d[:,1:]\n",
        "\n",
        "    # Stack\n",
        "    if i == 0:\n",
        "      det_c = np.copy(d)\n",
        "      circ = np.copy(circuits)\n",
        "    else:\n",
        "      det_c = np.vstack((det_c, d))\n",
        "      circ = np.vstack((circ, circuits))\n",
        "\n",
        "  # Separate out frequencies by setting on each bit (instead of settings on pairs)\n",
        "  if separate_bits == \"True\":\n",
        "    det_c_copy = np.empty(det_c.shape)\n",
        "\n",
        "    # 0 on qubit_0\n",
        "    det_c_copy[:,0] = det_c[:,0] + det_c[:,2]\n",
        "\n",
        "    # 1 on qubit_0\n",
        "    det_c_copy[:,1] = det_c[:,1] + det_c[:,3]\n",
        "\n",
        "    # 0 on qubit_1\n",
        "    det_c_copy[:,2] = det_c[:,0] + det_c[:,1]\n",
        "\n",
        "    # 1 on qubit_1\n",
        "    det_c_copy[:,3] = det_c[:,2] + det_c[:,3]\n",
        "\n",
        "    det_c = det_c_copy\n",
        "\n",
        "\n",
        "\n",
        "  # Normalize frequencies\n",
        "  if norm == \"max_norm\":\n",
        "    det_c = det_c/np.max(det_c)\n",
        "  elif norm == \"col_max_norm\":\n",
        "    det_c = det_c/det_c.max(axis = 0)\n",
        "  elif norm == \"row_norm\":\n",
        "    det_c = det_c/np.sum(det_c[0,:])\n",
        "\n",
        "  # Used only for testing\n",
        "  elif norm == \"no_norm\":\n",
        "    det_c = det_c\n",
        "\n",
        "  return circ, det_c\n",
        "\n",
        "def create_labels(label, size):\n",
        "  return np.full((size,), label)\n",
        "\n",
        "def create_dataset(features, label):\n",
        "  y = create_labels(label, features.shape[0])\n",
        "  return features, y\n",
        "\n",
        "def combine_datasets(x1, y1, x2, y2):\n",
        "  return np.vstack((x1,x2)), np.concatenate((y1,y2))\n",
        "\n",
        "def binary_comparison_data_pipeline(freq_1, freq_2, test_frac = 0.2):\n",
        "  x1, y1 = create_dataset(freq_1, 1)\n",
        "  x2, y2 = create_dataset(freq_2, 0)\n",
        "  x, y = combine_datasets(x1,y1, x2, y2)\n",
        "  X_train, X_test, y_train, y_test = train_test_split(x, y, test_size=0.2, random_state=42)\n",
        "  return X_train, X_test, y_train, y_test\n",
        "\n",
        "def svm_expt(freq_1, freq_2, test_size = 0.2):\n",
        "  X_train, X_test, y_train, y_test = binary_comparison_data_pipeline(freq_1, freq_2, test_frac = test_size)\n",
        "\n",
        "  clf = svm.SVC()\n",
        "  clf.fit(X_train, y_train)\n",
        "\n",
        "  test_acc = (clf.predict(X_test) == y_test).mean()\n",
        "\n",
        "  return test_acc\n",
        "\n",
        "# Apply binary expt to all possible combinations of data_list and pretty print\n",
        "def create_expt_matrix(dataset_list, data_list, binary_expt):\n",
        "  num_datasets = len(data_list)\n",
        "\n",
        "  # get names of datasets\n",
        "  dataset_names = [d['dir_name'] for d in dataset_list]\n",
        "\n",
        "  expt_matrix = np.zeros((num_datasets, num_datasets))\n",
        "  for i in range(num_datasets):\n",
        "    for j in range(num_datasets):\n",
        "      if (j >= i) :\n",
        "        expt_matrix[i][j] = binary_expt(data_list[i][1], data_list[j][1])\n",
        "\n",
        "  # pretty printing\n",
        "  df = pd.DataFrame(expt_matrix, index=dataset_names, columns=dataset_names)\n",
        "  display(df)\n",
        "\n",
        "  return expt_matrix\n",
        "\n",
        "# Setup a list of data to be experimented on\n",
        "\n",
        "# dir_prefix - path to directory where all data is stored\n",
        "# f_prefix - prefix of file names with frequency data\n",
        "# dir_with_gates - True if data directory has gates included\n",
        "# sep_bits - if True, setup data such that frequency is calculated on each result bit instead of result pairs\n",
        "# normalize - Normalization scheme used\n",
        "def setup_datalist(datasets, dir_prefix, f_prefix, sep_bits, normalize):\n",
        "  data_list = []\n",
        "  data_list.append(setup_data(dir_prefix + datasets[0]['dir_name'],  num_circuits = datasets[0]['num_circuits'], file_prefix = f_prefix, dir_with_gates = datasets[0]['dir_with_gates'], separate_bits = sep_bits, norm = normalize))\n",
        "  data_list.append(setup_data(dir_prefix + datasets[1]['dir_name'],  num_circuits = datasets[1]['num_circuits'], file_prefix = f_prefix, dir_with_gates = datasets[1]['dir_with_gates'], separate_bits = sep_bits, norm = normalize))\n",
        "  data_list.append(setup_data(dir_prefix + datasets[2]['dir_name'],  num_circuits = datasets[2]['num_circuits'], file_prefix = f_prefix, dir_with_gates = datasets[2]['dir_with_gates'], separate_bits = sep_bits, norm = normalize))\n",
        "  data_list.append(setup_data(dir_prefix + datasets[3]['dir_name'],  num_circuits = datasets[3]['num_circuits'], file_prefix = f_prefix, dir_with_gates = datasets[3]['dir_with_gates'], separate_bits = sep_bits, norm = normalize))\n",
        "  data_list.append(setup_data(dir_prefix + datasets[4]['dir_name'],  num_circuits = datasets[4]['num_circuits'], file_prefix = f_prefix, dir_with_gates = datasets[4]['dir_with_gates'], separate_bits = sep_bits, norm = normalize))\n",
        "  data_list.append(setup_data(dir_prefix + datasets[5]['dir_name'],  num_circuits = datasets[5]['num_circuits'], file_prefix = f_prefix, dir_with_gates = datasets[5]['dir_with_gates'], separate_bits = sep_bits, norm = normalize))\n",
        "  data_list.append(setup_data(dir_prefix + datasets[6]['dir_name'],  num_circuits = datasets[6]['num_circuits'], file_prefix = f_prefix, dir_with_gates = datasets[6]['dir_with_gates'], separate_bits = sep_bits, norm = normalize))\n",
        "  data_list.append(setup_data(dir_prefix + datasets[7]['dir_name'],  num_circuits = datasets[7]['num_circuits'], file_prefix = f_prefix, dir_with_gates = datasets[7]['dir_with_gates'], separate_bits = sep_bits, norm = normalize))\n",
        "  data_list.append(setup_data(dir_prefix + datasets[8]['dir_name'],  num_circuits = datasets[8]['num_circuits'], file_prefix = f_prefix, dir_with_gates = datasets[8]['dir_with_gates'], separate_bits = sep_bits, norm = normalize))\n",
        "\n",
        "  return data_list"
      ],
      "execution_count": 3,
      "outputs": []
    },
    {
      "cell_type": "code",
      "metadata": {
        "id": "BONBHUvVT0jq"
      },
      "source": [
        "ideal_circuits, ideal_freq = setup_data(\"gdrive/MyDrive/QuSense/Papers/Simulated-Data-Sarovar/IdealGates\", norm = \"row_norm\")"
      ],
      "execution_count": null,
      "outputs": []
    },
    {
      "cell_type": "code",
      "metadata": {
        "colab": {
          "base_uri": "https://localhost:8080/"
        },
        "id": "ap8L2kcQUCwf",
        "outputId": "e31a4da6-af54-4709-9f90-9d64744373cc"
      },
      "source": [
        "ideal_freq.sum(axis = 1)"
      ],
      "execution_count": null,
      "outputs": [
        {
          "output_type": "execute_result",
          "data": {
            "text/plain": [
              "array([1.0, 1.0, 1.0, ..., 1.0, 1.0, 1.0], dtype=object)"
            ]
          },
          "metadata": {
            "tags": []
          },
          "execution_count": 50
        }
      ]
    },
    {
      "cell_type": "code",
      "metadata": {
        "id": "l1JAsN0-b3CI"
      },
      "source": [
        "ideal_circuits, ideal_freq = setup_data(\"gdrive/MyDrive/QuSense/Papers/Simulated-Data-Sarovar/IdealGates\", separate_bits = \"True\", norm = \"row_norm\")"
      ],
      "execution_count": null,
      "outputs": []
    },
    {
      "cell_type": "code",
      "metadata": {
        "colab": {
          "base_uri": "https://localhost:8080/"
        },
        "id": "4UhVt1Kqb-CS",
        "outputId": "706fb97f-c0eb-4b04-9493-2cff7714b700"
      },
      "source": [
        "ideal_freq.sum(axis = 1)"
      ],
      "execution_count": null,
      "outputs": [
        {
          "output_type": "execute_result",
          "data": {
            "text/plain": [
              "array([1., 1., 1., ..., 1., 1., 1.])"
            ]
          },
          "metadata": {
            "tags": []
          },
          "execution_count": 48
        }
      ]
    },
    {
      "cell_type": "code",
      "metadata": {
        "colab": {
          "base_uri": "https://localhost:8080/",
          "height": 324
        },
        "id": "fnrH1_VYdimt",
        "outputId": "bbdf8dfc-4aba-49fb-ebb3-62e6af0ce3b8"
      },
      "source": [
        "xt2WithGates_circuits, xt2WithGates_freq = setup_data(\"gdrive/MyDrive/QuSense/Papers/Simulated-Data-Sarovar/XT1WithGates\")"
      ],
      "execution_count": null,
      "outputs": [
        {
          "output_type": "stream",
          "text": [
            "100\n"
          ],
          "name": "stdout"
        },
        {
          "output_type": "error",
          "ename": "KeyboardInterrupt",
          "evalue": "ignored",
          "traceback": [
            "\u001b[0;31m---------------------------------------------------------------------------\u001b[0m",
            "\u001b[0;31mKeyboardInterrupt\u001b[0m                         Traceback (most recent call last)",
            "\u001b[0;32m<ipython-input-53-88ff08f4498d>\u001b[0m in \u001b[0;36m<module>\u001b[0;34m()\u001b[0m\n\u001b[0;32m----> 1\u001b[0;31m \u001b[0mxt2WithGates_circuits\u001b[0m\u001b[0;34m,\u001b[0m \u001b[0mxt2WithGates_freq\u001b[0m \u001b[0;34m=\u001b[0m \u001b[0msetup_data\u001b[0m\u001b[0;34m(\u001b[0m\u001b[0;34m\"gdrive/MyDrive/QuSense/Papers/Simulated-Data-Sarovar/XT1WithGates\"\u001b[0m\u001b[0;34m)\u001b[0m\u001b[0;34m\u001b[0m\u001b[0;34m\u001b[0m\u001b[0m\n\u001b[0m",
            "\u001b[0;32m<ipython-input-51-3c745a10748b>\u001b[0m in \u001b[0;36msetup_data\u001b[0;34m(dir, num_circuits, file_prefix, dir_with_gates, separate_bits, norm)\u001b[0m\n\u001b[1;32m     13\u001b[0m     \u001b[0;31m# Give unique indexes to each circuit in each file\u001b[0m\u001b[0;34m\u001b[0m\u001b[0;34m\u001b[0m\u001b[0;34m\u001b[0m\u001b[0m\n\u001b[1;32m     14\u001b[0m     \u001b[0midx\u001b[0m \u001b[0;34m=\u001b[0m \u001b[0mi\u001b[0m\u001b[0;34m*\u001b[0m\u001b[0mnum_circuits\u001b[0m\u001b[0;34m\u001b[0m\u001b[0;34m\u001b[0m\u001b[0m\n\u001b[0;32m---> 15\u001b[0;31m     \u001b[0md\u001b[0m \u001b[0;34m=\u001b[0m \u001b[0mnp\u001b[0m\u001b[0;34m.\u001b[0m\u001b[0mload\u001b[0m\u001b[0;34m(\u001b[0m\u001b[0mdir\u001b[0m \u001b[0;34m+\u001b[0m \u001b[0;34m\"/\"\u001b[0m \u001b[0;34m+\u001b[0m \u001b[0mfile_prefix\u001b[0m \u001b[0;34m+\u001b[0m \u001b[0mstr\u001b[0m\u001b[0;34m(\u001b[0m\u001b[0mi\u001b[0m\u001b[0;34m)\u001b[0m \u001b[0;34m+\u001b[0m \u001b[0;34m\".npy\"\u001b[0m\u001b[0;34m,\u001b[0m \u001b[0mallow_pickle\u001b[0m\u001b[0;34m=\u001b[0m\u001b[0;32mTrue\u001b[0m\u001b[0;34m)\u001b[0m\u001b[0;34m\u001b[0m\u001b[0;34m\u001b[0m\u001b[0m\n\u001b[0m\u001b[1;32m     16\u001b[0m     \u001b[0mcircuits\u001b[0m \u001b[0;34m=\u001b[0m \u001b[0mnp\u001b[0m\u001b[0;34m.\u001b[0m\u001b[0mconcatenate\u001b[0m\u001b[0;34m(\u001b[0m\u001b[0md\u001b[0m\u001b[0;34m[\u001b[0m\u001b[0;34m:\u001b[0m\u001b[0;34m,\u001b[0m\u001b[0;36m0\u001b[0m\u001b[0;34m]\u001b[0m\u001b[0;34m)\u001b[0m\u001b[0;34m.\u001b[0m\u001b[0mreshape\u001b[0m\u001b[0;34m(\u001b[0m\u001b[0md\u001b[0m\u001b[0;34m.\u001b[0m\u001b[0mshape\u001b[0m\u001b[0;34m[\u001b[0m\u001b[0;36m0\u001b[0m\u001b[0;34m]\u001b[0m\u001b[0;34m,\u001b[0m\u001b[0;36m2\u001b[0m\u001b[0;34m)\u001b[0m \u001b[0;34m+\u001b[0m \u001b[0mnp\u001b[0m\u001b[0;34m.\u001b[0m\u001b[0marray\u001b[0m\u001b[0;34m(\u001b[0m\u001b[0;34m[\u001b[0m\u001b[0midx\u001b[0m\u001b[0;34m,\u001b[0m\u001b[0midx\u001b[0m\u001b[0;34m+\u001b[0m \u001b[0mint\u001b[0m\u001b[0;34m(\u001b[0m\u001b[0mnum_circuits\u001b[0m\u001b[0;34m/\u001b[0m\u001b[0;36m2\u001b[0m\u001b[0;34m)\u001b[0m\u001b[0;34m]\u001b[0m\u001b[0;34m)\u001b[0m\u001b[0;34m\u001b[0m\u001b[0;34m\u001b[0m\u001b[0m\n\u001b[1;32m     17\u001b[0m \u001b[0;34m\u001b[0m\u001b[0m\n",
            "\u001b[0;32m/usr/local/lib/python3.7/dist-packages/numpy/lib/npyio.py\u001b[0m in \u001b[0;36mload\u001b[0;34m(file, mmap_mode, allow_pickle, fix_imports, encoding)\u001b[0m\n\u001b[1;32m    421\u001b[0m         \u001b[0m_ZIP_SUFFIX\u001b[0m \u001b[0;34m=\u001b[0m \u001b[0;34mb'PK\\x05\\x06'\u001b[0m \u001b[0;31m# empty zip files start with this\u001b[0m\u001b[0;34m\u001b[0m\u001b[0;34m\u001b[0m\u001b[0m\n\u001b[1;32m    422\u001b[0m         \u001b[0mN\u001b[0m \u001b[0;34m=\u001b[0m \u001b[0mlen\u001b[0m\u001b[0;34m(\u001b[0m\u001b[0mformat\u001b[0m\u001b[0;34m.\u001b[0m\u001b[0mMAGIC_PREFIX\u001b[0m\u001b[0;34m)\u001b[0m\u001b[0;34m\u001b[0m\u001b[0;34m\u001b[0m\u001b[0m\n\u001b[0;32m--> 423\u001b[0;31m         \u001b[0mmagic\u001b[0m \u001b[0;34m=\u001b[0m \u001b[0mfid\u001b[0m\u001b[0;34m.\u001b[0m\u001b[0mread\u001b[0m\u001b[0;34m(\u001b[0m\u001b[0mN\u001b[0m\u001b[0;34m)\u001b[0m\u001b[0;34m\u001b[0m\u001b[0;34m\u001b[0m\u001b[0m\n\u001b[0m\u001b[1;32m    424\u001b[0m         \u001b[0;31m# If the file size is less than N, we need to make sure not\u001b[0m\u001b[0;34m\u001b[0m\u001b[0;34m\u001b[0m\u001b[0;34m\u001b[0m\u001b[0m\n\u001b[1;32m    425\u001b[0m         \u001b[0;31m# to seek past the beginning of the file\u001b[0m\u001b[0;34m\u001b[0m\u001b[0;34m\u001b[0m\u001b[0;34m\u001b[0m\u001b[0m\n",
            "\u001b[0;31mKeyboardInterrupt\u001b[0m: "
          ]
        }
      ]
    },
    {
      "cell_type": "markdown",
      "metadata": {
        "id": "5HUYVTgkg-Jr"
      },
      "source": [
        "## Normalization Schemes\n",
        "\n",
        "\n",
        "1.   max_norm - takes the maximum over the entire frequency matrix (across all circuit settings and all result bit settings)\n",
        "2.   col_max_norm - takes the columnwise maximum (i.e max across all circuit settings for a particular result setting)\n",
        "3. row_norm - uses the row-wise sum (i.e total number of times a circuit setting was simulated)\n",
        "\n"
      ]
    },
    {
      "cell_type": "markdown",
      "metadata": {
        "id": "dzGQi1Sglawy"
      },
      "source": [
        "## Metadata of Datasets used"
      ]
    },
    {
      "cell_type": "code",
      "metadata": {
        "id": "oQy2jrneliIb"
      },
      "source": [
        "datasets = [\n",
        "            {\n",
        "              'dir_name':\"IdealGates\",\n",
        "              'num_circuits':20,\n",
        "              'dir_with_gates':True\n",
        "            },\n",
        "            {\n",
        "              'dir_name':\"Operation Crosstalk 1 (a)\",\n",
        "              'num_circuits':20,\n",
        "              'dir_with_gates':False\n",
        "            },\n",
        "            {\n",
        "              'dir_name':\"Operation Crosstalk 2 (b)\",\n",
        "              'num_circuits':20,\n",
        "              'dir_with_gates':False\n",
        "            },\n",
        "            {\n",
        "              'dir_name':\"Detection Crosstalk (c)\",\n",
        "              'num_circuits':40,\n",
        "              'dir_with_gates':False\n",
        "            },\n",
        "            {\n",
        "              'dir_name':\"XT1WithGates\",\n",
        "              'num_circuits':20,\n",
        "              'dir_with_gates':True\n",
        "            },\n",
        "            {\n",
        "              'dir_name':\"XT2WithGates\",\n",
        "              'num_circuits':20,\n",
        "              'dir_with_gates':True\n",
        "            },\n",
        "            {\n",
        "              'dir_name':\"DetX400\",\n",
        "              'num_circuits':40,\n",
        "              'dir_with_gates':True\n",
        "            },\n",
        "            {\n",
        "              'dir_name':\"DetXWithGates\",\n",
        "              'num_circuits':40,\n",
        "              'dir_with_gates':True\n",
        "            },\n",
        "            {\n",
        "              'dir_name':\"DetX100\",\n",
        "              'num_circuits':20,\n",
        "              'dir_with_gates':True\n",
        "            }\n",
        "]"
      ],
      "execution_count": 4,
      "outputs": []
    },
    {
      "cell_type": "markdown",
      "metadata": {
        "id": "Y2aJkCfsdi1F"
      },
      "source": [
        "## Expts with bit frequencies not separated"
      ]
    },
    {
      "cell_type": "code",
      "metadata": {
        "id": "zxaPRxpFUgOb"
      },
      "source": [
        "ideal_circuits, ideal_freq = setup_data(\"gdrive/MyDrive/QuSense/Papers/Simulated-Data-Sarovar/IdealGates\")\n",
        "a_circuits, a_freq = setup_data(\"gdrive/MyDrive/QuSense/Papers/Simulated-Data-Sarovar/Operation Crosstalk 1 (a)\", dir_with_gates = False)\n",
        "b_circuits, b_freq = setup_data(\"gdrive/MyDrive/QuSense/Papers/Simulated-Data-Sarovar/Operation Crosstalk 2 (b)\", dir_with_gates = False)\n",
        "c_circuits, c_freq = setup_data(\"gdrive/MyDrive/QuSense/Papers/Simulated-Data-Sarovar/Detection Crosstalk (c)\",num_circuits=40, dir_with_gates = False)\n",
        "detx400_circuits, detx400_freq = setup_data(\"gdrive/MyDrive/QuSense/Papers/Simulated-Data-Sarovar/DetX400\", num_circuits=40)\n",
        "detxWithGates_circuits, detxWithGates_freq = setup_data(\"gdrive/MyDrive/QuSense/Papers/Simulated-Data-Sarovar/DetXWithGates\", num_circuits=40)\n",
        "detx100_circuits, detx100_freq = setup_data(\"gdrive/MyDrive/QuSense/Papers/Simulated-Data-Sarovar/DetX100\")\n",
        "xt1WithGates_circuits, xt1WithGates_freq = setup_data(\"gdrive/MyDrive/QuSense/Papers/Simulated-Data-Sarovar/XT1WithGates\")\n",
        "xt2WithGates_circuits, xt2WithGates_freq = setup_data(\"gdrive/MyDrive/QuSense/Papers/Simulated-Data-Sarovar/XT2WithGates\")"
      ],
      "execution_count": null,
      "outputs": []
    },
    {
      "cell_type": "code",
      "metadata": {
        "id": "Uo2FrUh7g2hL"
      },
      "source": [
        "dir_prefix = \"gdrive/MyDrive/QuSense/Papers/Simulated-Data-Sarovar/\"\n",
        "f_prefix = \"FCTexts_\"\n"
      ],
      "execution_count": 5,
      "outputs": []
    },
    {
      "cell_type": "markdown",
      "metadata": {
        "id": "q474DPw1dzXP"
      },
      "source": [
        "### max_norm"
      ]
    },
    {
      "cell_type": "code",
      "metadata": {
        "id": "ESaguss38krG"
      },
      "source": [
        "separate_bits = False\n",
        "norm = \"max_norm\"\n",
        "\n",
        "data_list = setup_datalist(datasets, dir_prefix, file_prefix, separate_bits, norm)"
      ],
      "execution_count": null,
      "outputs": []
    },
    {
      "cell_type": "code",
      "metadata": {
        "colab": {
          "base_uri": "https://localhost:8080/",
          "height": 328
        },
        "id": "bXDnpokAI-J8",
        "outputId": "d11c7f35-28a8-4eac-c8e1-35b25eca959e"
      },
      "source": [
        "svm_expt_matrix = create_expt_matrix(datasets, data_list, svm_expt)"
      ],
      "execution_count": null,
      "outputs": [
        {
          "output_type": "display_data",
          "data": {
            "text/html": [
              "<div>\n",
              "<style scoped>\n",
              "    .dataframe tbody tr th:only-of-type {\n",
              "        vertical-align: middle;\n",
              "    }\n",
              "\n",
              "    .dataframe tbody tr th {\n",
              "        vertical-align: top;\n",
              "    }\n",
              "\n",
              "    .dataframe thead th {\n",
              "        text-align: right;\n",
              "    }\n",
              "</style>\n",
              "<table border=\"1\" class=\"dataframe\">\n",
              "  <thead>\n",
              "    <tr style=\"text-align: right;\">\n",
              "      <th></th>\n",
              "      <th>IdealGates</th>\n",
              "      <th>Operation Crosstalk 1 (a)</th>\n",
              "      <th>Operation Crosstalk 2 (b)</th>\n",
              "      <th>Detection Crosstalk (c)</th>\n",
              "      <th>XT1WithGates</th>\n",
              "      <th>XT2WithGates</th>\n",
              "      <th>DetX400</th>\n",
              "      <th>DetXWithGates</th>\n",
              "      <th>DetX100</th>\n",
              "    </tr>\n",
              "  </thead>\n",
              "  <tbody>\n",
              "    <tr>\n",
              "      <th>IdealGates</th>\n",
              "      <td>0.488</td>\n",
              "      <td>0.99325</td>\n",
              "      <td>0.51575</td>\n",
              "      <td>1.000000</td>\n",
              "      <td>0.99875</td>\n",
              "      <td>0.48800</td>\n",
              "      <td>0.795437</td>\n",
              "      <td>1.000000</td>\n",
              "      <td>0.504750</td>\n",
              "    </tr>\n",
              "    <tr>\n",
              "      <th>Operation Crosstalk 1 (a)</th>\n",
              "      <td>0.000</td>\n",
              "      <td>0.47950</td>\n",
              "      <td>0.99050</td>\n",
              "      <td>1.000000</td>\n",
              "      <td>1.00000</td>\n",
              "      <td>0.99075</td>\n",
              "      <td>0.992460</td>\n",
              "      <td>1.000000</td>\n",
              "      <td>0.988250</td>\n",
              "    </tr>\n",
              "    <tr>\n",
              "      <th>Operation Crosstalk 2 (b)</th>\n",
              "      <td>0.000</td>\n",
              "      <td>0.00000</td>\n",
              "      <td>0.48550</td>\n",
              "      <td>1.000000</td>\n",
              "      <td>0.99850</td>\n",
              "      <td>0.50075</td>\n",
              "      <td>0.795437</td>\n",
              "      <td>1.000000</td>\n",
              "      <td>0.500250</td>\n",
              "    </tr>\n",
              "    <tr>\n",
              "      <th>Detection Crosstalk (c)</th>\n",
              "      <td>0.000</td>\n",
              "      <td>0.00000</td>\n",
              "      <td>0.00000</td>\n",
              "      <td>0.487875</td>\n",
              "      <td>1.00000</td>\n",
              "      <td>1.00000</td>\n",
              "      <td>1.000000</td>\n",
              "      <td>0.518346</td>\n",
              "      <td>1.000000</td>\n",
              "    </tr>\n",
              "    <tr>\n",
              "      <th>XT1WithGates</th>\n",
              "      <td>0.000</td>\n",
              "      <td>0.00000</td>\n",
              "      <td>0.00000</td>\n",
              "      <td>0.000000</td>\n",
              "      <td>0.48800</td>\n",
              "      <td>0.99875</td>\n",
              "      <td>0.999702</td>\n",
              "      <td>1.000000</td>\n",
              "      <td>0.999000</td>\n",
              "    </tr>\n",
              "    <tr>\n",
              "      <th>XT2WithGates</th>\n",
              "      <td>0.000</td>\n",
              "      <td>0.00000</td>\n",
              "      <td>0.00000</td>\n",
              "      <td>0.000000</td>\n",
              "      <td>0.00000</td>\n",
              "      <td>0.48800</td>\n",
              "      <td>0.795437</td>\n",
              "      <td>1.000000</td>\n",
              "      <td>0.515750</td>\n",
              "    </tr>\n",
              "    <tr>\n",
              "      <th>DetX400</th>\n",
              "      <td>0.000</td>\n",
              "      <td>0.00000</td>\n",
              "      <td>0.00000</td>\n",
              "      <td>0.000000</td>\n",
              "      <td>0.00000</td>\n",
              "      <td>0.00000</td>\n",
              "      <td>0.492450</td>\n",
              "      <td>1.000000</td>\n",
              "      <td>0.804067</td>\n",
              "    </tr>\n",
              "    <tr>\n",
              "      <th>DetXWithGates</th>\n",
              "      <td>0.000</td>\n",
              "      <td>0.00000</td>\n",
              "      <td>0.00000</td>\n",
              "      <td>0.000000</td>\n",
              "      <td>0.00000</td>\n",
              "      <td>0.00000</td>\n",
              "      <td>0.000000</td>\n",
              "      <td>0.491275</td>\n",
              "      <td>1.000000</td>\n",
              "    </tr>\n",
              "    <tr>\n",
              "      <th>DetX100</th>\n",
              "      <td>0.000</td>\n",
              "      <td>0.00000</td>\n",
              "      <td>0.00000</td>\n",
              "      <td>0.000000</td>\n",
              "      <td>0.00000</td>\n",
              "      <td>0.00000</td>\n",
              "      <td>0.000000</td>\n",
              "      <td>0.000000</td>\n",
              "      <td>0.487750</td>\n",
              "    </tr>\n",
              "  </tbody>\n",
              "</table>\n",
              "</div>"
            ],
            "text/plain": [
              "                           IdealGates  ...   DetX100\n",
              "IdealGates                      0.488  ...  0.504750\n",
              "Operation Crosstalk 1 (a)       0.000  ...  0.988250\n",
              "Operation Crosstalk 2 (b)       0.000  ...  0.500250\n",
              "Detection Crosstalk (c)         0.000  ...  1.000000\n",
              "XT1WithGates                    0.000  ...  0.999000\n",
              "XT2WithGates                    0.000  ...  0.515750\n",
              "DetX400                         0.000  ...  0.804067\n",
              "DetXWithGates                   0.000  ...  1.000000\n",
              "DetX100                         0.000  ...  0.487750\n",
              "\n",
              "[9 rows x 9 columns]"
            ]
          },
          "metadata": {
            "tags": []
          }
        }
      ]
    },
    {
      "cell_type": "markdown",
      "metadata": {
        "id": "a4Mo8ioTfnlr"
      },
      "source": [
        "### col_max_norm"
      ]
    },
    {
      "cell_type": "code",
      "metadata": {
        "id": "uDkv-huAHCjv"
      },
      "source": [
        "separate_bits = False\n",
        "norm = \"col_max_norm\"\n",
        "\n",
        "data_list = setup_datalist(datasets, dir_prefix, file_prefix, separate_bits, norm)"
      ],
      "execution_count": null,
      "outputs": []
    },
    {
      "cell_type": "code",
      "metadata": {
        "colab": {
          "base_uri": "https://localhost:8080/",
          "height": 328
        },
        "id": "2_oWcCKbgs1h",
        "outputId": "7f19af48-e2a2-41e2-9611-f7227586b480"
      },
      "source": [
        "svm_expt_matrix = create_expt_matrix(datasets, data_list, svm_expt)"
      ],
      "execution_count": null,
      "outputs": [
        {
          "output_type": "display_data",
          "data": {
            "text/html": [
              "<div>\n",
              "<style scoped>\n",
              "    .dataframe tbody tr th:only-of-type {\n",
              "        vertical-align: middle;\n",
              "    }\n",
              "\n",
              "    .dataframe tbody tr th {\n",
              "        vertical-align: top;\n",
              "    }\n",
              "\n",
              "    .dataframe thead th {\n",
              "        text-align: right;\n",
              "    }\n",
              "</style>\n",
              "<table border=\"1\" class=\"dataframe\">\n",
              "  <thead>\n",
              "    <tr style=\"text-align: right;\">\n",
              "      <th></th>\n",
              "      <th>IdealGates</th>\n",
              "      <th>Operation Crosstalk 1 (a)</th>\n",
              "      <th>Operation Crosstalk 2 (b)</th>\n",
              "      <th>Detection Crosstalk (c)</th>\n",
              "      <th>XT1WithGates</th>\n",
              "      <th>XT2WithGates</th>\n",
              "      <th>DetX400</th>\n",
              "      <th>DetXWithGates</th>\n",
              "      <th>DetX100</th>\n",
              "    </tr>\n",
              "  </thead>\n",
              "  <tbody>\n",
              "    <tr>\n",
              "      <th>IdealGates</th>\n",
              "      <td>0.488</td>\n",
              "      <td>0.7900</td>\n",
              "      <td>0.51575</td>\n",
              "      <td>1.000000</td>\n",
              "      <td>0.99875</td>\n",
              "      <td>0.48800</td>\n",
              "      <td>0.795437</td>\n",
              "      <td>1.000000</td>\n",
              "      <td>0.548000</td>\n",
              "    </tr>\n",
              "    <tr>\n",
              "      <th>Operation Crosstalk 1 (a)</th>\n",
              "      <td>0.000</td>\n",
              "      <td>0.4795</td>\n",
              "      <td>0.78525</td>\n",
              "      <td>1.000000</td>\n",
              "      <td>0.91775</td>\n",
              "      <td>0.77925</td>\n",
              "      <td>0.869643</td>\n",
              "      <td>1.000000</td>\n",
              "      <td>0.808250</td>\n",
              "    </tr>\n",
              "    <tr>\n",
              "      <th>Operation Crosstalk 2 (b)</th>\n",
              "      <td>0.000</td>\n",
              "      <td>0.0000</td>\n",
              "      <td>0.48550</td>\n",
              "      <td>1.000000</td>\n",
              "      <td>0.99875</td>\n",
              "      <td>0.50075</td>\n",
              "      <td>0.795437</td>\n",
              "      <td>1.000000</td>\n",
              "      <td>0.516250</td>\n",
              "    </tr>\n",
              "    <tr>\n",
              "      <th>Detection Crosstalk (c)</th>\n",
              "      <td>0.000</td>\n",
              "      <td>0.0000</td>\n",
              "      <td>0.00000</td>\n",
              "      <td>0.487875</td>\n",
              "      <td>1.00000</td>\n",
              "      <td>1.00000</td>\n",
              "      <td>1.000000</td>\n",
              "      <td>0.518346</td>\n",
              "      <td>1.000000</td>\n",
              "    </tr>\n",
              "    <tr>\n",
              "      <th>XT1WithGates</th>\n",
              "      <td>0.000</td>\n",
              "      <td>0.0000</td>\n",
              "      <td>0.00000</td>\n",
              "      <td>0.000000</td>\n",
              "      <td>0.48800</td>\n",
              "      <td>0.99900</td>\n",
              "      <td>0.999603</td>\n",
              "      <td>1.000000</td>\n",
              "      <td>0.999000</td>\n",
              "    </tr>\n",
              "    <tr>\n",
              "      <th>XT2WithGates</th>\n",
              "      <td>0.000</td>\n",
              "      <td>0.0000</td>\n",
              "      <td>0.00000</td>\n",
              "      <td>0.000000</td>\n",
              "      <td>0.00000</td>\n",
              "      <td>0.48800</td>\n",
              "      <td>0.795437</td>\n",
              "      <td>1.000000</td>\n",
              "      <td>0.570000</td>\n",
              "    </tr>\n",
              "    <tr>\n",
              "      <th>DetX400</th>\n",
              "      <td>0.000</td>\n",
              "      <td>0.0000</td>\n",
              "      <td>0.00000</td>\n",
              "      <td>0.000000</td>\n",
              "      <td>0.00000</td>\n",
              "      <td>0.00000</td>\n",
              "      <td>0.492450</td>\n",
              "      <td>1.000000</td>\n",
              "      <td>0.804067</td>\n",
              "    </tr>\n",
              "    <tr>\n",
              "      <th>DetXWithGates</th>\n",
              "      <td>0.000</td>\n",
              "      <td>0.0000</td>\n",
              "      <td>0.00000</td>\n",
              "      <td>0.000000</td>\n",
              "      <td>0.00000</td>\n",
              "      <td>0.00000</td>\n",
              "      <td>0.000000</td>\n",
              "      <td>0.491275</td>\n",
              "      <td>1.000000</td>\n",
              "    </tr>\n",
              "    <tr>\n",
              "      <th>DetX100</th>\n",
              "      <td>0.000</td>\n",
              "      <td>0.0000</td>\n",
              "      <td>0.00000</td>\n",
              "      <td>0.000000</td>\n",
              "      <td>0.00000</td>\n",
              "      <td>0.00000</td>\n",
              "      <td>0.000000</td>\n",
              "      <td>0.000000</td>\n",
              "      <td>0.487750</td>\n",
              "    </tr>\n",
              "  </tbody>\n",
              "</table>\n",
              "</div>"
            ],
            "text/plain": [
              "                           IdealGates  ...   DetX100\n",
              "IdealGates                      0.488  ...  0.548000\n",
              "Operation Crosstalk 1 (a)       0.000  ...  0.808250\n",
              "Operation Crosstalk 2 (b)       0.000  ...  0.516250\n",
              "Detection Crosstalk (c)         0.000  ...  1.000000\n",
              "XT1WithGates                    0.000  ...  0.999000\n",
              "XT2WithGates                    0.000  ...  0.570000\n",
              "DetX400                         0.000  ...  0.804067\n",
              "DetXWithGates                   0.000  ...  1.000000\n",
              "DetX100                         0.000  ...  0.487750\n",
              "\n",
              "[9 rows x 9 columns]"
            ]
          },
          "metadata": {
            "tags": []
          }
        }
      ]
    },
    {
      "cell_type": "markdown",
      "metadata": {
        "id": "TObOQaAziM64"
      },
      "source": [
        "### row_norm"
      ]
    },
    {
      "cell_type": "code",
      "metadata": {
        "id": "FHcM7mzwiPKH"
      },
      "source": [
        "separate_bits = False\n",
        "norm = \"row_norm\"\n",
        "\n",
        "data_list = setup_datalist(datasets, dir_prefix, file_prefix, separate_bits, norm)"
      ],
      "execution_count": null,
      "outputs": []
    },
    {
      "cell_type": "code",
      "metadata": {
        "colab": {
          "base_uri": "https://localhost:8080/",
          "height": 328
        },
        "id": "rZjV9BgfieU6",
        "outputId": "082cfb44-8055-401f-e005-b5b3de9286cb"
      },
      "source": [
        "svm_expt_matrix = create_expt_matrix(datasets, data_list, svm_expt)"
      ],
      "execution_count": null,
      "outputs": [
        {
          "output_type": "display_data",
          "data": {
            "text/html": [
              "<div>\n",
              "<style scoped>\n",
              "    .dataframe tbody tr th:only-of-type {\n",
              "        vertical-align: middle;\n",
              "    }\n",
              "\n",
              "    .dataframe tbody tr th {\n",
              "        vertical-align: top;\n",
              "    }\n",
              "\n",
              "    .dataframe thead th {\n",
              "        text-align: right;\n",
              "    }\n",
              "</style>\n",
              "<table border=\"1\" class=\"dataframe\">\n",
              "  <thead>\n",
              "    <tr style=\"text-align: right;\">\n",
              "      <th></th>\n",
              "      <th>IdealGates</th>\n",
              "      <th>Operation Crosstalk 1 (a)</th>\n",
              "      <th>Operation Crosstalk 2 (b)</th>\n",
              "      <th>Detection Crosstalk (c)</th>\n",
              "      <th>XT1WithGates</th>\n",
              "      <th>XT2WithGates</th>\n",
              "      <th>DetX400</th>\n",
              "      <th>DetXWithGates</th>\n",
              "      <th>DetX100</th>\n",
              "    </tr>\n",
              "  </thead>\n",
              "  <tbody>\n",
              "    <tr>\n",
              "      <th>IdealGates</th>\n",
              "      <td>0.488</td>\n",
              "      <td>0.6940</td>\n",
              "      <td>0.51575</td>\n",
              "      <td>0.910000</td>\n",
              "      <td>0.65250</td>\n",
              "      <td>0.48800</td>\n",
              "      <td>0.795437</td>\n",
              "      <td>0.909623</td>\n",
              "      <td>0.504750</td>\n",
              "    </tr>\n",
              "    <tr>\n",
              "      <th>Operation Crosstalk 1 (a)</th>\n",
              "      <td>0.000</td>\n",
              "      <td>0.4795</td>\n",
              "      <td>0.68925</td>\n",
              "      <td>0.917800</td>\n",
              "      <td>0.55375</td>\n",
              "      <td>0.68825</td>\n",
              "      <td>0.868552</td>\n",
              "      <td>0.918155</td>\n",
              "      <td>0.690750</td>\n",
              "    </tr>\n",
              "    <tr>\n",
              "      <th>Operation Crosstalk 2 (b)</th>\n",
              "      <td>0.000</td>\n",
              "      <td>0.0000</td>\n",
              "      <td>0.48550</td>\n",
              "      <td>0.910600</td>\n",
              "      <td>0.66025</td>\n",
              "      <td>0.50075</td>\n",
              "      <td>0.795437</td>\n",
              "      <td>0.910714</td>\n",
              "      <td>0.499500</td>\n",
              "    </tr>\n",
              "    <tr>\n",
              "      <th>Detection Crosstalk (c)</th>\n",
              "      <td>0.000</td>\n",
              "      <td>0.0000</td>\n",
              "      <td>0.00000</td>\n",
              "      <td>0.487875</td>\n",
              "      <td>0.91250</td>\n",
              "      <td>0.91250</td>\n",
              "      <td>0.790112</td>\n",
              "      <td>0.518346</td>\n",
              "      <td>0.911000</td>\n",
              "    </tr>\n",
              "    <tr>\n",
              "      <th>XT1WithGates</th>\n",
              "      <td>0.000</td>\n",
              "      <td>0.0000</td>\n",
              "      <td>0.00000</td>\n",
              "      <td>0.000000</td>\n",
              "      <td>0.48800</td>\n",
              "      <td>0.65275</td>\n",
              "      <td>0.861111</td>\n",
              "      <td>0.909623</td>\n",
              "      <td>0.707750</td>\n",
              "    </tr>\n",
              "    <tr>\n",
              "      <th>XT2WithGates</th>\n",
              "      <td>0.000</td>\n",
              "      <td>0.0000</td>\n",
              "      <td>0.00000</td>\n",
              "      <td>0.000000</td>\n",
              "      <td>0.00000</td>\n",
              "      <td>0.48800</td>\n",
              "      <td>0.795437</td>\n",
              "      <td>0.909623</td>\n",
              "      <td>0.509750</td>\n",
              "    </tr>\n",
              "    <tr>\n",
              "      <th>DetX400</th>\n",
              "      <td>0.000</td>\n",
              "      <td>0.0000</td>\n",
              "      <td>0.00000</td>\n",
              "      <td>0.000000</td>\n",
              "      <td>0.00000</td>\n",
              "      <td>0.00000</td>\n",
              "      <td>0.492450</td>\n",
              "      <td>0.779889</td>\n",
              "      <td>0.804067</td>\n",
              "    </tr>\n",
              "    <tr>\n",
              "      <th>DetXWithGates</th>\n",
              "      <td>0.000</td>\n",
              "      <td>0.0000</td>\n",
              "      <td>0.00000</td>\n",
              "      <td>0.000000</td>\n",
              "      <td>0.00000</td>\n",
              "      <td>0.00000</td>\n",
              "      <td>0.000000</td>\n",
              "      <td>0.491275</td>\n",
              "      <td>0.915079</td>\n",
              "    </tr>\n",
              "    <tr>\n",
              "      <th>DetX100</th>\n",
              "      <td>0.000</td>\n",
              "      <td>0.0000</td>\n",
              "      <td>0.00000</td>\n",
              "      <td>0.000000</td>\n",
              "      <td>0.00000</td>\n",
              "      <td>0.00000</td>\n",
              "      <td>0.000000</td>\n",
              "      <td>0.000000</td>\n",
              "      <td>0.487750</td>\n",
              "    </tr>\n",
              "  </tbody>\n",
              "</table>\n",
              "</div>"
            ],
            "text/plain": [
              "                           IdealGates  ...   DetX100\n",
              "IdealGates                      0.488  ...  0.504750\n",
              "Operation Crosstalk 1 (a)       0.000  ...  0.690750\n",
              "Operation Crosstalk 2 (b)       0.000  ...  0.499500\n",
              "Detection Crosstalk (c)         0.000  ...  0.911000\n",
              "XT1WithGates                    0.000  ...  0.707750\n",
              "XT2WithGates                    0.000  ...  0.509750\n",
              "DetX400                         0.000  ...  0.804067\n",
              "DetXWithGates                   0.000  ...  0.915079\n",
              "DetX100                         0.000  ...  0.487750\n",
              "\n",
              "[9 rows x 9 columns]"
            ]
          },
          "metadata": {
            "tags": []
          }
        }
      ]
    },
    {
      "cell_type": "markdown",
      "metadata": {
        "id": "3G8wj_1OdxGs"
      },
      "source": [
        "## Expts with bit frequencies separated"
      ]
    },
    {
      "cell_type": "markdown",
      "metadata": {
        "id": "9RwWtcpaijNK"
      },
      "source": [
        "### max_norm"
      ]
    },
    {
      "cell_type": "code",
      "metadata": {
        "id": "T6YqOEsxGSLd"
      },
      "source": [
        "separate_bits = True\n",
        "norm = \"max_norm\"\n",
        "\n",
        "data_list = setup_datalist(datasets, dir_prefix, file_prefix, separate_bits, norm)"
      ],
      "execution_count": null,
      "outputs": []
    },
    {
      "cell_type": "code",
      "metadata": {
        "colab": {
          "base_uri": "https://localhost:8080/",
          "height": 328
        },
        "id": "vbr2p1fIAhbO",
        "outputId": "2a02e1be-dcac-45d3-b9b5-3a76b26d3698"
      },
      "source": [
        "svm_expt_matrix = create_expt_matrix(datasets, data_list, svm_expt)"
      ],
      "execution_count": null,
      "outputs": [
        {
          "output_type": "display_data",
          "data": {
            "text/html": [
              "<div>\n",
              "<style scoped>\n",
              "    .dataframe tbody tr th:only-of-type {\n",
              "        vertical-align: middle;\n",
              "    }\n",
              "\n",
              "    .dataframe tbody tr th {\n",
              "        vertical-align: top;\n",
              "    }\n",
              "\n",
              "    .dataframe thead th {\n",
              "        text-align: right;\n",
              "    }\n",
              "</style>\n",
              "<table border=\"1\" class=\"dataframe\">\n",
              "  <thead>\n",
              "    <tr style=\"text-align: right;\">\n",
              "      <th></th>\n",
              "      <th>IdealGates</th>\n",
              "      <th>Operation Crosstalk 1 (a)</th>\n",
              "      <th>Operation Crosstalk 2 (b)</th>\n",
              "      <th>Detection Crosstalk (c)</th>\n",
              "      <th>XT1WithGates</th>\n",
              "      <th>XT2WithGates</th>\n",
              "      <th>DetX400</th>\n",
              "      <th>DetXWithGates</th>\n",
              "      <th>DetX100</th>\n",
              "    </tr>\n",
              "  </thead>\n",
              "  <tbody>\n",
              "    <tr>\n",
              "      <th>IdealGates</th>\n",
              "      <td>0.488</td>\n",
              "      <td>0.99325</td>\n",
              "      <td>0.51575</td>\n",
              "      <td>1.000000</td>\n",
              "      <td>0.99875</td>\n",
              "      <td>0.48800</td>\n",
              "      <td>0.795437</td>\n",
              "      <td>1.000000</td>\n",
              "      <td>0.504750</td>\n",
              "    </tr>\n",
              "    <tr>\n",
              "      <th>Operation Crosstalk 1 (a)</th>\n",
              "      <td>0.000</td>\n",
              "      <td>0.47950</td>\n",
              "      <td>0.99050</td>\n",
              "      <td>1.000000</td>\n",
              "      <td>1.00000</td>\n",
              "      <td>0.99075</td>\n",
              "      <td>0.992460</td>\n",
              "      <td>1.000000</td>\n",
              "      <td>0.988250</td>\n",
              "    </tr>\n",
              "    <tr>\n",
              "      <th>Operation Crosstalk 2 (b)</th>\n",
              "      <td>0.000</td>\n",
              "      <td>0.00000</td>\n",
              "      <td>0.48550</td>\n",
              "      <td>1.000000</td>\n",
              "      <td>0.99850</td>\n",
              "      <td>0.50075</td>\n",
              "      <td>0.795437</td>\n",
              "      <td>1.000000</td>\n",
              "      <td>0.500250</td>\n",
              "    </tr>\n",
              "    <tr>\n",
              "      <th>Detection Crosstalk (c)</th>\n",
              "      <td>0.000</td>\n",
              "      <td>0.00000</td>\n",
              "      <td>0.00000</td>\n",
              "      <td>0.487875</td>\n",
              "      <td>1.00000</td>\n",
              "      <td>1.00000</td>\n",
              "      <td>1.000000</td>\n",
              "      <td>0.518346</td>\n",
              "      <td>1.000000</td>\n",
              "    </tr>\n",
              "    <tr>\n",
              "      <th>XT1WithGates</th>\n",
              "      <td>0.000</td>\n",
              "      <td>0.00000</td>\n",
              "      <td>0.00000</td>\n",
              "      <td>0.000000</td>\n",
              "      <td>0.48800</td>\n",
              "      <td>0.99875</td>\n",
              "      <td>0.999702</td>\n",
              "      <td>1.000000</td>\n",
              "      <td>0.999000</td>\n",
              "    </tr>\n",
              "    <tr>\n",
              "      <th>XT2WithGates</th>\n",
              "      <td>0.000</td>\n",
              "      <td>0.00000</td>\n",
              "      <td>0.00000</td>\n",
              "      <td>0.000000</td>\n",
              "      <td>0.00000</td>\n",
              "      <td>0.48800</td>\n",
              "      <td>0.795437</td>\n",
              "      <td>1.000000</td>\n",
              "      <td>0.515750</td>\n",
              "    </tr>\n",
              "    <tr>\n",
              "      <th>DetX400</th>\n",
              "      <td>0.000</td>\n",
              "      <td>0.00000</td>\n",
              "      <td>0.00000</td>\n",
              "      <td>0.000000</td>\n",
              "      <td>0.00000</td>\n",
              "      <td>0.00000</td>\n",
              "      <td>0.492450</td>\n",
              "      <td>1.000000</td>\n",
              "      <td>0.804067</td>\n",
              "    </tr>\n",
              "    <tr>\n",
              "      <th>DetXWithGates</th>\n",
              "      <td>0.000</td>\n",
              "      <td>0.00000</td>\n",
              "      <td>0.00000</td>\n",
              "      <td>0.000000</td>\n",
              "      <td>0.00000</td>\n",
              "      <td>0.00000</td>\n",
              "      <td>0.000000</td>\n",
              "      <td>0.491275</td>\n",
              "      <td>1.000000</td>\n",
              "    </tr>\n",
              "    <tr>\n",
              "      <th>DetX100</th>\n",
              "      <td>0.000</td>\n",
              "      <td>0.00000</td>\n",
              "      <td>0.00000</td>\n",
              "      <td>0.000000</td>\n",
              "      <td>0.00000</td>\n",
              "      <td>0.00000</td>\n",
              "      <td>0.000000</td>\n",
              "      <td>0.000000</td>\n",
              "      <td>0.487750</td>\n",
              "    </tr>\n",
              "  </tbody>\n",
              "</table>\n",
              "</div>"
            ],
            "text/plain": [
              "                           IdealGates  ...   DetX100\n",
              "IdealGates                      0.488  ...  0.504750\n",
              "Operation Crosstalk 1 (a)       0.000  ...  0.988250\n",
              "Operation Crosstalk 2 (b)       0.000  ...  0.500250\n",
              "Detection Crosstalk (c)         0.000  ...  1.000000\n",
              "XT1WithGates                    0.000  ...  0.999000\n",
              "XT2WithGates                    0.000  ...  0.515750\n",
              "DetX400                         0.000  ...  0.804067\n",
              "DetXWithGates                   0.000  ...  1.000000\n",
              "DetX100                         0.000  ...  0.487750\n",
              "\n",
              "[9 rows x 9 columns]"
            ]
          },
          "metadata": {
            "tags": []
          }
        }
      ]
    },
    {
      "cell_type": "markdown",
      "metadata": {
        "id": "rggZsIm9ilnW"
      },
      "source": [
        "### col_max_norm"
      ]
    },
    {
      "cell_type": "code",
      "metadata": {
        "id": "T9jRPVsxny3Q"
      },
      "source": [
        "separate_bits = True\n",
        "norm = \"col_max_norm\"\n",
        "\n",
        "data_list = setup_datalist(datasets, dir_prefix, file_prefix, separate_bits, norm)"
      ],
      "execution_count": null,
      "outputs": []
    },
    {
      "cell_type": "code",
      "metadata": {
        "id": "VIn2rDa6ny6A",
        "colab": {
          "base_uri": "https://localhost:8080/",
          "height": 328
        },
        "outputId": "622f8451-1548-488e-9514-d7a87abacbde"
      },
      "source": [
        "svm_expt_matrix = create_expt_matrix(datasets, data_list, svm_expt)"
      ],
      "execution_count": null,
      "outputs": [
        {
          "output_type": "display_data",
          "data": {
            "text/html": [
              "<div>\n",
              "<style scoped>\n",
              "    .dataframe tbody tr th:only-of-type {\n",
              "        vertical-align: middle;\n",
              "    }\n",
              "\n",
              "    .dataframe tbody tr th {\n",
              "        vertical-align: top;\n",
              "    }\n",
              "\n",
              "    .dataframe thead th {\n",
              "        text-align: right;\n",
              "    }\n",
              "</style>\n",
              "<table border=\"1\" class=\"dataframe\">\n",
              "  <thead>\n",
              "    <tr style=\"text-align: right;\">\n",
              "      <th></th>\n",
              "      <th>IdealGates</th>\n",
              "      <th>Operation Crosstalk 1 (a)</th>\n",
              "      <th>Operation Crosstalk 2 (b)</th>\n",
              "      <th>Detection Crosstalk (c)</th>\n",
              "      <th>XT1WithGates</th>\n",
              "      <th>XT2WithGates</th>\n",
              "      <th>DetX400</th>\n",
              "      <th>DetXWithGates</th>\n",
              "      <th>DetX100</th>\n",
              "    </tr>\n",
              "  </thead>\n",
              "  <tbody>\n",
              "    <tr>\n",
              "      <th>IdealGates</th>\n",
              "      <td>0.488</td>\n",
              "      <td>0.7900</td>\n",
              "      <td>0.51575</td>\n",
              "      <td>1.000000</td>\n",
              "      <td>0.99875</td>\n",
              "      <td>0.48800</td>\n",
              "      <td>0.795437</td>\n",
              "      <td>1.000000</td>\n",
              "      <td>0.548000</td>\n",
              "    </tr>\n",
              "    <tr>\n",
              "      <th>Operation Crosstalk 1 (a)</th>\n",
              "      <td>0.000</td>\n",
              "      <td>0.4795</td>\n",
              "      <td>0.78525</td>\n",
              "      <td>1.000000</td>\n",
              "      <td>0.91775</td>\n",
              "      <td>0.77925</td>\n",
              "      <td>0.869643</td>\n",
              "      <td>1.000000</td>\n",
              "      <td>0.808250</td>\n",
              "    </tr>\n",
              "    <tr>\n",
              "      <th>Operation Crosstalk 2 (b)</th>\n",
              "      <td>0.000</td>\n",
              "      <td>0.0000</td>\n",
              "      <td>0.48550</td>\n",
              "      <td>1.000000</td>\n",
              "      <td>0.99875</td>\n",
              "      <td>0.50075</td>\n",
              "      <td>0.795437</td>\n",
              "      <td>1.000000</td>\n",
              "      <td>0.516250</td>\n",
              "    </tr>\n",
              "    <tr>\n",
              "      <th>Detection Crosstalk (c)</th>\n",
              "      <td>0.000</td>\n",
              "      <td>0.0000</td>\n",
              "      <td>0.00000</td>\n",
              "      <td>0.487875</td>\n",
              "      <td>1.00000</td>\n",
              "      <td>1.00000</td>\n",
              "      <td>1.000000</td>\n",
              "      <td>0.518346</td>\n",
              "      <td>1.000000</td>\n",
              "    </tr>\n",
              "    <tr>\n",
              "      <th>XT1WithGates</th>\n",
              "      <td>0.000</td>\n",
              "      <td>0.0000</td>\n",
              "      <td>0.00000</td>\n",
              "      <td>0.000000</td>\n",
              "      <td>0.48800</td>\n",
              "      <td>0.99900</td>\n",
              "      <td>0.999603</td>\n",
              "      <td>1.000000</td>\n",
              "      <td>0.999000</td>\n",
              "    </tr>\n",
              "    <tr>\n",
              "      <th>XT2WithGates</th>\n",
              "      <td>0.000</td>\n",
              "      <td>0.0000</td>\n",
              "      <td>0.00000</td>\n",
              "      <td>0.000000</td>\n",
              "      <td>0.00000</td>\n",
              "      <td>0.48800</td>\n",
              "      <td>0.795437</td>\n",
              "      <td>1.000000</td>\n",
              "      <td>0.570000</td>\n",
              "    </tr>\n",
              "    <tr>\n",
              "      <th>DetX400</th>\n",
              "      <td>0.000</td>\n",
              "      <td>0.0000</td>\n",
              "      <td>0.00000</td>\n",
              "      <td>0.000000</td>\n",
              "      <td>0.00000</td>\n",
              "      <td>0.00000</td>\n",
              "      <td>0.492450</td>\n",
              "      <td>1.000000</td>\n",
              "      <td>0.804067</td>\n",
              "    </tr>\n",
              "    <tr>\n",
              "      <th>DetXWithGates</th>\n",
              "      <td>0.000</td>\n",
              "      <td>0.0000</td>\n",
              "      <td>0.00000</td>\n",
              "      <td>0.000000</td>\n",
              "      <td>0.00000</td>\n",
              "      <td>0.00000</td>\n",
              "      <td>0.000000</td>\n",
              "      <td>0.491275</td>\n",
              "      <td>1.000000</td>\n",
              "    </tr>\n",
              "    <tr>\n",
              "      <th>DetX100</th>\n",
              "      <td>0.000</td>\n",
              "      <td>0.0000</td>\n",
              "      <td>0.00000</td>\n",
              "      <td>0.000000</td>\n",
              "      <td>0.00000</td>\n",
              "      <td>0.00000</td>\n",
              "      <td>0.000000</td>\n",
              "      <td>0.000000</td>\n",
              "      <td>0.487750</td>\n",
              "    </tr>\n",
              "  </tbody>\n",
              "</table>\n",
              "</div>"
            ],
            "text/plain": [
              "                           IdealGates  ...   DetX100\n",
              "IdealGates                      0.488  ...  0.548000\n",
              "Operation Crosstalk 1 (a)       0.000  ...  0.808250\n",
              "Operation Crosstalk 2 (b)       0.000  ...  0.516250\n",
              "Detection Crosstalk (c)         0.000  ...  1.000000\n",
              "XT1WithGates                    0.000  ...  0.999000\n",
              "XT2WithGates                    0.000  ...  0.570000\n",
              "DetX400                         0.000  ...  0.804067\n",
              "DetXWithGates                   0.000  ...  1.000000\n",
              "DetX100                         0.000  ...  0.487750\n",
              "\n",
              "[9 rows x 9 columns]"
            ]
          },
          "metadata": {
            "tags": []
          }
        }
      ]
    },
    {
      "cell_type": "markdown",
      "metadata": {
        "id": "oP5ORKKGisn6"
      },
      "source": [
        "### row_norm"
      ]
    },
    {
      "cell_type": "code",
      "metadata": {
        "id": "NM7Lv6J97h_P"
      },
      "source": [
        "separate_bits = True\n",
        "norm = \"row_norm\"\n",
        "\n",
        "data_list = setup_datalist(datasets, dir_prefix, file_prefix, separate_bits, norm)"
      ],
      "execution_count": null,
      "outputs": []
    },
    {
      "cell_type": "code",
      "metadata": {
        "colab": {
          "base_uri": "https://localhost:8080/",
          "height": 328
        },
        "id": "ag8iWrEA7lhO",
        "outputId": "a5b71c4e-db52-477e-c3eb-ec2a069438fa"
      },
      "source": [
        "svm_expt_matrix = create_expt_matrix(datasets, data_list, svm_expt)"
      ],
      "execution_count": null,
      "outputs": [
        {
          "output_type": "display_data",
          "data": {
            "text/html": [
              "<div>\n",
              "<style scoped>\n",
              "    .dataframe tbody tr th:only-of-type {\n",
              "        vertical-align: middle;\n",
              "    }\n",
              "\n",
              "    .dataframe tbody tr th {\n",
              "        vertical-align: top;\n",
              "    }\n",
              "\n",
              "    .dataframe thead th {\n",
              "        text-align: right;\n",
              "    }\n",
              "</style>\n",
              "<table border=\"1\" class=\"dataframe\">\n",
              "  <thead>\n",
              "    <tr style=\"text-align: right;\">\n",
              "      <th></th>\n",
              "      <th>IdealGates</th>\n",
              "      <th>Operation Crosstalk 1 (a)</th>\n",
              "      <th>Operation Crosstalk 2 (b)</th>\n",
              "      <th>Detection Crosstalk (c)</th>\n",
              "      <th>XT1WithGates</th>\n",
              "      <th>XT2WithGates</th>\n",
              "      <th>DetX400</th>\n",
              "      <th>DetXWithGates</th>\n",
              "      <th>DetX100</th>\n",
              "    </tr>\n",
              "  </thead>\n",
              "  <tbody>\n",
              "    <tr>\n",
              "      <th>IdealGates</th>\n",
              "      <td>0.488</td>\n",
              "      <td>0.6940</td>\n",
              "      <td>0.51575</td>\n",
              "      <td>0.910000</td>\n",
              "      <td>0.65250</td>\n",
              "      <td>0.48800</td>\n",
              "      <td>0.795437</td>\n",
              "      <td>0.909623</td>\n",
              "      <td>0.504750</td>\n",
              "    </tr>\n",
              "    <tr>\n",
              "      <th>Operation Crosstalk 1 (a)</th>\n",
              "      <td>0.000</td>\n",
              "      <td>0.4795</td>\n",
              "      <td>0.68925</td>\n",
              "      <td>0.917800</td>\n",
              "      <td>0.55375</td>\n",
              "      <td>0.68825</td>\n",
              "      <td>0.868552</td>\n",
              "      <td>0.918155</td>\n",
              "      <td>0.690750</td>\n",
              "    </tr>\n",
              "    <tr>\n",
              "      <th>Operation Crosstalk 2 (b)</th>\n",
              "      <td>0.000</td>\n",
              "      <td>0.0000</td>\n",
              "      <td>0.48550</td>\n",
              "      <td>0.910600</td>\n",
              "      <td>0.66025</td>\n",
              "      <td>0.50075</td>\n",
              "      <td>0.795437</td>\n",
              "      <td>0.910714</td>\n",
              "      <td>0.499500</td>\n",
              "    </tr>\n",
              "    <tr>\n",
              "      <th>Detection Crosstalk (c)</th>\n",
              "      <td>0.000</td>\n",
              "      <td>0.0000</td>\n",
              "      <td>0.00000</td>\n",
              "      <td>0.487875</td>\n",
              "      <td>0.91250</td>\n",
              "      <td>0.91250</td>\n",
              "      <td>0.790112</td>\n",
              "      <td>0.518346</td>\n",
              "      <td>0.911000</td>\n",
              "    </tr>\n",
              "    <tr>\n",
              "      <th>XT1WithGates</th>\n",
              "      <td>0.000</td>\n",
              "      <td>0.0000</td>\n",
              "      <td>0.00000</td>\n",
              "      <td>0.000000</td>\n",
              "      <td>0.48800</td>\n",
              "      <td>0.65275</td>\n",
              "      <td>0.861111</td>\n",
              "      <td>0.909623</td>\n",
              "      <td>0.707750</td>\n",
              "    </tr>\n",
              "    <tr>\n",
              "      <th>XT2WithGates</th>\n",
              "      <td>0.000</td>\n",
              "      <td>0.0000</td>\n",
              "      <td>0.00000</td>\n",
              "      <td>0.000000</td>\n",
              "      <td>0.00000</td>\n",
              "      <td>0.48800</td>\n",
              "      <td>0.795437</td>\n",
              "      <td>0.909623</td>\n",
              "      <td>0.509750</td>\n",
              "    </tr>\n",
              "    <tr>\n",
              "      <th>DetX400</th>\n",
              "      <td>0.000</td>\n",
              "      <td>0.0000</td>\n",
              "      <td>0.00000</td>\n",
              "      <td>0.000000</td>\n",
              "      <td>0.00000</td>\n",
              "      <td>0.00000</td>\n",
              "      <td>0.492450</td>\n",
              "      <td>0.779889</td>\n",
              "      <td>0.804067</td>\n",
              "    </tr>\n",
              "    <tr>\n",
              "      <th>DetXWithGates</th>\n",
              "      <td>0.000</td>\n",
              "      <td>0.0000</td>\n",
              "      <td>0.00000</td>\n",
              "      <td>0.000000</td>\n",
              "      <td>0.00000</td>\n",
              "      <td>0.00000</td>\n",
              "      <td>0.000000</td>\n",
              "      <td>0.491275</td>\n",
              "      <td>0.915079</td>\n",
              "    </tr>\n",
              "    <tr>\n",
              "      <th>DetX100</th>\n",
              "      <td>0.000</td>\n",
              "      <td>0.0000</td>\n",
              "      <td>0.00000</td>\n",
              "      <td>0.000000</td>\n",
              "      <td>0.00000</td>\n",
              "      <td>0.00000</td>\n",
              "      <td>0.000000</td>\n",
              "      <td>0.000000</td>\n",
              "      <td>0.487750</td>\n",
              "    </tr>\n",
              "  </tbody>\n",
              "</table>\n",
              "</div>"
            ],
            "text/plain": [
              "                           IdealGates  ...   DetX100\n",
              "IdealGates                      0.488  ...  0.504750\n",
              "Operation Crosstalk 1 (a)       0.000  ...  0.690750\n",
              "Operation Crosstalk 2 (b)       0.000  ...  0.499500\n",
              "Detection Crosstalk (c)         0.000  ...  0.911000\n",
              "XT1WithGates                    0.000  ...  0.707750\n",
              "XT2WithGates                    0.000  ...  0.509750\n",
              "DetX400                         0.000  ...  0.804067\n",
              "DetXWithGates                   0.000  ...  0.915079\n",
              "DetX100                         0.000  ...  0.487750\n",
              "\n",
              "[9 rows x 9 columns]"
            ]
          },
          "metadata": {
            "tags": []
          }
        }
      ]
    },
    {
      "cell_type": "markdown",
      "metadata": {
        "id": "1GxWjAtWaBDD"
      },
      "source": [
        "## Transfer Learning"
      ]
    },
    {
      "cell_type": "code",
      "metadata": {
        "id": "ye8heAjVaDE7"
      },
      "source": [
        "def transfer_svm_expt(freq_1, freq_2, freq_3):\n",
        "  # freq_1 gets label 1, freq_2 gets label 0\n",
        "  # freq_3 is assumed to have label 1 (this is the dataset we are transferrig to)\n",
        "  # No need for a test set since we are performing transfer learning\n",
        "  X_train, X_test, y_train, y_test = binary_comparison_data_pipeline(freq_1, freq_2, test_frac = 0.0)\n",
        "\n",
        "  clf = svm.SVC()\n",
        "  clf.fit(X_train, y_train)\n",
        "\n",
        "  X_transfer, y_transfer = create_dataset(freq_3, 1)\n",
        "\n",
        "  transfer_acc = (clf.predict(X_transfer) == y_transfer).mean()\n",
        "\n",
        "  return transfer_acc"
      ],
      "execution_count": null,
      "outputs": []
    },
    {
      "cell_type": "code",
      "metadata": {
        "id": "bHuMfn-UgyqO"
      },
      "source": [
        "# Apply binary expt to all possible combinations of data_list and pretty print\n",
        "\n",
        "# Rows - trained on\n",
        "# Columns - transferred to\n",
        "\n",
        "def create_transfer_expt_matrix(dataset_list, data_list, binary_expt):\n",
        "  num_datasets = len(data_list) \n",
        "\n",
        "  # get names of datasets\n",
        "  dataset_names = [d['dir_name'] for d in dataset_list]\n",
        "\n",
        "  expt_matrix = np.zeros((num_datasets - 1, num_datasets - 1))\n",
        "\n",
        "  for i in range(1, num_datasets):\n",
        "    for j in range(1, num_datasets):\n",
        "      expt_matrix[i-1][j-1] = binary_expt(data_list[i][1], data_list[0][1], data_list[j][1])\n",
        "\n",
        "  # pretty printing\n",
        "  df = pd.DataFrame(expt_matrix, index=dataset_names[1:], columns=dataset_names[1:])\n",
        "  display(df)\n",
        "\n",
        "  return expt_matrix"
      ],
      "execution_count": null,
      "outputs": []
    },
    {
      "cell_type": "code",
      "metadata": {
        "id": "xTXUaKD1cUXq"
      },
      "source": [
        "separate_bits = True\n",
        "norm = \"row_norm\"\n",
        "\n",
        "data_list = setup_datalist(datasets, dir_prefix, file_prefix, separate_bits, norm)"
      ],
      "execution_count": null,
      "outputs": []
    },
    {
      "cell_type": "code",
      "metadata": {
        "id": "q-OiJYZzgmpF",
        "colab": {
          "base_uri": "https://localhost:8080/",
          "height": 297
        },
        "outputId": "8da12bd4-5e8d-4fa8-9b17-cc5de752b3ab"
      },
      "source": [
        "svm_expt_matrix = create_transfer_expt_matrix(datasets, data_list, transfer_svm_expt)"
      ],
      "execution_count": null,
      "outputs": [
        {
          "output_type": "display_data",
          "data": {
            "text/html": [
              "<div>\n",
              "<style scoped>\n",
              "    .dataframe tbody tr th:only-of-type {\n",
              "        vertical-align: middle;\n",
              "    }\n",
              "\n",
              "    .dataframe tbody tr th {\n",
              "        vertical-align: top;\n",
              "    }\n",
              "\n",
              "    .dataframe thead th {\n",
              "        text-align: right;\n",
              "    }\n",
              "</style>\n",
              "<table border=\"1\" class=\"dataframe\">\n",
              "  <thead>\n",
              "    <tr style=\"text-align: right;\">\n",
              "      <th></th>\n",
              "      <th>Operation Crosstalk 1 (a)</th>\n",
              "      <th>Operation Crosstalk 2 (b)</th>\n",
              "      <th>Detection Crosstalk (c)</th>\n",
              "      <th>XT1WithGates</th>\n",
              "      <th>XT2WithGates</th>\n",
              "      <th>DetX400</th>\n",
              "      <th>DetXWithGates</th>\n",
              "      <th>DetX100</th>\n",
              "    </tr>\n",
              "  </thead>\n",
              "  <tbody>\n",
              "    <tr>\n",
              "      <th>Operation Crosstalk 1 (a)</th>\n",
              "      <td>0.4737</td>\n",
              "      <td>0.1069</td>\n",
              "      <td>0.111650</td>\n",
              "      <td>0.4236</td>\n",
              "      <td>0.1133</td>\n",
              "      <td>0.112203</td>\n",
              "      <td>0.112302</td>\n",
              "      <td>0.1110</td>\n",
              "    </tr>\n",
              "    <tr>\n",
              "      <th>Operation Crosstalk 2 (b)</th>\n",
              "      <td>0.4256</td>\n",
              "      <td>0.3977</td>\n",
              "      <td>0.395625</td>\n",
              "      <td>0.3689</td>\n",
              "      <td>0.3689</td>\n",
              "      <td>0.386584</td>\n",
              "      <td>0.377277</td>\n",
              "      <td>0.3738</td>\n",
              "    </tr>\n",
              "    <tr>\n",
              "      <th>Detection Crosstalk (c)</th>\n",
              "      <td>0.4003</td>\n",
              "      <td>0.4437</td>\n",
              "      <td>1.000000</td>\n",
              "      <td>0.4616</td>\n",
              "      <td>0.4616</td>\n",
              "      <td>0.442252</td>\n",
              "      <td>1.000000</td>\n",
              "      <td>0.4632</td>\n",
              "    </tr>\n",
              "    <tr>\n",
              "      <th>XT1WithGates</th>\n",
              "      <td>0.3482</td>\n",
              "      <td>0.0000</td>\n",
              "      <td>0.000000</td>\n",
              "      <td>0.3097</td>\n",
              "      <td>0.0000</td>\n",
              "      <td>0.000000</td>\n",
              "      <td>0.000000</td>\n",
              "      <td>0.0000</td>\n",
              "    </tr>\n",
              "    <tr>\n",
              "      <th>XT2WithGates</th>\n",
              "      <td>0.3455</td>\n",
              "      <td>0.3036</td>\n",
              "      <td>0.310325</td>\n",
              "      <td>0.2847</td>\n",
              "      <td>0.2847</td>\n",
              "      <td>0.297005</td>\n",
              "      <td>0.306559</td>\n",
              "      <td>0.2924</td>\n",
              "    </tr>\n",
              "    <tr>\n",
              "      <th>DetX400</th>\n",
              "      <td>1.0000</td>\n",
              "      <td>1.0000</td>\n",
              "      <td>0.723325</td>\n",
              "      <td>1.0000</td>\n",
              "      <td>1.0000</td>\n",
              "      <td>1.000000</td>\n",
              "      <td>0.739876</td>\n",
              "      <td>1.0000</td>\n",
              "    </tr>\n",
              "    <tr>\n",
              "      <th>DetXWithGates</th>\n",
              "      <td>0.4003</td>\n",
              "      <td>0.4437</td>\n",
              "      <td>1.000000</td>\n",
              "      <td>0.4616</td>\n",
              "      <td>0.4616</td>\n",
              "      <td>0.442252</td>\n",
              "      <td>1.000000</td>\n",
              "      <td>0.4632</td>\n",
              "    </tr>\n",
              "    <tr>\n",
              "      <th>DetX100</th>\n",
              "      <td>0.6869</td>\n",
              "      <td>0.6957</td>\n",
              "      <td>0.661375</td>\n",
              "      <td>0.6936</td>\n",
              "      <td>0.6922</td>\n",
              "      <td>0.679604</td>\n",
              "      <td>0.685149</td>\n",
              "      <td>0.7051</td>\n",
              "    </tr>\n",
              "  </tbody>\n",
              "</table>\n",
              "</div>"
            ],
            "text/plain": [
              "                           Operation Crosstalk 1 (a)  ...  DetX100\n",
              "Operation Crosstalk 1 (a)                     0.4737  ...   0.1110\n",
              "Operation Crosstalk 2 (b)                     0.4256  ...   0.3738\n",
              "Detection Crosstalk (c)                       0.4003  ...   0.4632\n",
              "XT1WithGates                                  0.3482  ...   0.0000\n",
              "XT2WithGates                                  0.3455  ...   0.2924\n",
              "DetX400                                       1.0000  ...   1.0000\n",
              "DetXWithGates                                 0.4003  ...   0.4632\n",
              "DetX100                                       0.6869  ...   0.7051\n",
              "\n",
              "[8 rows x 8 columns]"
            ]
          },
          "metadata": {
            "tags": []
          }
        }
      ]
    },
    {
      "cell_type": "code",
      "metadata": {
        "id": "oqR8qY9mgxhU"
      },
      "source": [
        "separate_bits = True\n",
        "norm = \"max_norm\"\n",
        "\n",
        "data_list = setup_datalist(datasets, dir_prefix, file_prefix, separate_bits, norm)"
      ],
      "execution_count": null,
      "outputs": []
    },
    {
      "cell_type": "code",
      "metadata": {
        "id": "ipNKG52Cb_8L",
        "colab": {
          "base_uri": "https://localhost:8080/",
          "height": 297
        },
        "outputId": "f70c4c12-5a7f-468e-c751-d8c6f194e707"
      },
      "source": [
        "svm_expt_matrix = create_transfer_expt_matrix(datasets, data_list, transfer_svm_expt)"
      ],
      "execution_count": null,
      "outputs": [
        {
          "output_type": "display_data",
          "data": {
            "text/html": [
              "<div>\n",
              "<style scoped>\n",
              "    .dataframe tbody tr th:only-of-type {\n",
              "        vertical-align: middle;\n",
              "    }\n",
              "\n",
              "    .dataframe tbody tr th {\n",
              "        vertical-align: top;\n",
              "    }\n",
              "\n",
              "    .dataframe thead th {\n",
              "        text-align: right;\n",
              "    }\n",
              "</style>\n",
              "<table border=\"1\" class=\"dataframe\">\n",
              "  <thead>\n",
              "    <tr style=\"text-align: right;\">\n",
              "      <th></th>\n",
              "      <th>Operation Crosstalk 1 (a)</th>\n",
              "      <th>Operation Crosstalk 2 (b)</th>\n",
              "      <th>Detection Crosstalk (c)</th>\n",
              "      <th>XT1WithGates</th>\n",
              "      <th>XT2WithGates</th>\n",
              "      <th>DetX400</th>\n",
              "      <th>DetXWithGates</th>\n",
              "      <th>DetX100</th>\n",
              "    </tr>\n",
              "  </thead>\n",
              "  <tbody>\n",
              "    <tr>\n",
              "      <th>Operation Crosstalk 1 (a)</th>\n",
              "      <td>0.9798</td>\n",
              "      <td>0.0000</td>\n",
              "      <td>0.884550</td>\n",
              "      <td>0.0764</td>\n",
              "      <td>0.0000</td>\n",
              "      <td>0.000000</td>\n",
              "      <td>0.893391</td>\n",
              "      <td>0.0000</td>\n",
              "    </tr>\n",
              "    <tr>\n",
              "      <th>Operation Crosstalk 2 (b)</th>\n",
              "      <td>0.4256</td>\n",
              "      <td>0.3977</td>\n",
              "      <td>0.395625</td>\n",
              "      <td>0.3689</td>\n",
              "      <td>0.3689</td>\n",
              "      <td>0.386584</td>\n",
              "      <td>0.377277</td>\n",
              "      <td>0.3738</td>\n",
              "    </tr>\n",
              "    <tr>\n",
              "      <th>Detection Crosstalk (c)</th>\n",
              "      <td>0.0000</td>\n",
              "      <td>0.0000</td>\n",
              "      <td>1.000000</td>\n",
              "      <td>0.0000</td>\n",
              "      <td>0.0000</td>\n",
              "      <td>0.000000</td>\n",
              "      <td>1.000000</td>\n",
              "      <td>0.0000</td>\n",
              "    </tr>\n",
              "    <tr>\n",
              "      <th>XT1WithGates</th>\n",
              "      <td>0.2871</td>\n",
              "      <td>0.0000</td>\n",
              "      <td>0.000000</td>\n",
              "      <td>0.9981</td>\n",
              "      <td>0.0000</td>\n",
              "      <td>0.000000</td>\n",
              "      <td>0.000000</td>\n",
              "      <td>0.0000</td>\n",
              "    </tr>\n",
              "    <tr>\n",
              "      <th>XT2WithGates</th>\n",
              "      <td>0.3455</td>\n",
              "      <td>0.3036</td>\n",
              "      <td>0.310325</td>\n",
              "      <td>0.2847</td>\n",
              "      <td>0.2847</td>\n",
              "      <td>0.297005</td>\n",
              "      <td>0.306559</td>\n",
              "      <td>0.2924</td>\n",
              "    </tr>\n",
              "    <tr>\n",
              "      <th>DetX400</th>\n",
              "      <td>1.0000</td>\n",
              "      <td>1.0000</td>\n",
              "      <td>0.946500</td>\n",
              "      <td>0.9851</td>\n",
              "      <td>1.0000</td>\n",
              "      <td>1.000000</td>\n",
              "      <td>0.948119</td>\n",
              "      <td>1.0000</td>\n",
              "    </tr>\n",
              "    <tr>\n",
              "      <th>DetXWithGates</th>\n",
              "      <td>0.0000</td>\n",
              "      <td>0.0000</td>\n",
              "      <td>1.000000</td>\n",
              "      <td>0.0000</td>\n",
              "      <td>0.0000</td>\n",
              "      <td>0.000000</td>\n",
              "      <td>1.000000</td>\n",
              "      <td>0.0000</td>\n",
              "    </tr>\n",
              "    <tr>\n",
              "      <th>DetX100</th>\n",
              "      <td>0.6994</td>\n",
              "      <td>0.6957</td>\n",
              "      <td>0.692575</td>\n",
              "      <td>0.6921</td>\n",
              "      <td>0.6922</td>\n",
              "      <td>0.679604</td>\n",
              "      <td>0.715149</td>\n",
              "      <td>0.7051</td>\n",
              "    </tr>\n",
              "  </tbody>\n",
              "</table>\n",
              "</div>"
            ],
            "text/plain": [
              "                           Operation Crosstalk 1 (a)  ...  DetX100\n",
              "Operation Crosstalk 1 (a)                     0.9798  ...   0.0000\n",
              "Operation Crosstalk 2 (b)                     0.4256  ...   0.3738\n",
              "Detection Crosstalk (c)                       0.0000  ...   0.0000\n",
              "XT1WithGates                                  0.2871  ...   0.0000\n",
              "XT2WithGates                                  0.3455  ...   0.2924\n",
              "DetX400                                       1.0000  ...   1.0000\n",
              "DetXWithGates                                 0.0000  ...   0.0000\n",
              "DetX100                                       0.6994  ...   0.7051\n",
              "\n",
              "[8 rows x 8 columns]"
            ]
          },
          "metadata": {
            "tags": []
          }
        }
      ]
    },
    {
      "cell_type": "code",
      "metadata": {
        "id": "4vtb8BdOjvso"
      },
      "source": [
        "separate_bits = True\n",
        "norm = \"col_max_norm\"\n",
        "\n",
        "data_list = setup_datalist(datasets, dir_prefix, file_prefix, separate_bits, norm)"
      ],
      "execution_count": null,
      "outputs": []
    },
    {
      "cell_type": "code",
      "metadata": {
        "id": "7lz_kN5Yjv0t",
        "colab": {
          "base_uri": "https://localhost:8080/",
          "height": 297
        },
        "outputId": "540794fd-2d2f-49a2-b4a5-4a062a698836"
      },
      "source": [
        "svm_expt_matrix = create_transfer_expt_matrix(datasets, data_list, transfer_svm_expt)"
      ],
      "execution_count": null,
      "outputs": [
        {
          "output_type": "display_data",
          "data": {
            "text/html": [
              "<div>\n",
              "<style scoped>\n",
              "    .dataframe tbody tr th:only-of-type {\n",
              "        vertical-align: middle;\n",
              "    }\n",
              "\n",
              "    .dataframe tbody tr th {\n",
              "        vertical-align: top;\n",
              "    }\n",
              "\n",
              "    .dataframe thead th {\n",
              "        text-align: right;\n",
              "    }\n",
              "</style>\n",
              "<table border=\"1\" class=\"dataframe\">\n",
              "  <thead>\n",
              "    <tr style=\"text-align: right;\">\n",
              "      <th></th>\n",
              "      <th>Operation Crosstalk 1 (a)</th>\n",
              "      <th>Operation Crosstalk 2 (b)</th>\n",
              "      <th>Detection Crosstalk (c)</th>\n",
              "      <th>XT1WithGates</th>\n",
              "      <th>XT2WithGates</th>\n",
              "      <th>DetX400</th>\n",
              "      <th>DetXWithGates</th>\n",
              "      <th>DetX100</th>\n",
              "    </tr>\n",
              "  </thead>\n",
              "  <tbody>\n",
              "    <tr>\n",
              "      <th>Operation Crosstalk 1 (a)</th>\n",
              "      <td>0.6659</td>\n",
              "      <td>0.1188</td>\n",
              "      <td>0.111650</td>\n",
              "      <td>0.7027</td>\n",
              "      <td>0.1270</td>\n",
              "      <td>0.112228</td>\n",
              "      <td>0.112302</td>\n",
              "      <td>0.1111</td>\n",
              "    </tr>\n",
              "    <tr>\n",
              "      <th>Operation Crosstalk 2 (b)</th>\n",
              "      <td>0.4256</td>\n",
              "      <td>0.3977</td>\n",
              "      <td>0.395625</td>\n",
              "      <td>0.3689</td>\n",
              "      <td>0.3689</td>\n",
              "      <td>0.386584</td>\n",
              "      <td>0.377277</td>\n",
              "      <td>0.3738</td>\n",
              "    </tr>\n",
              "    <tr>\n",
              "      <th>Detection Crosstalk (c)</th>\n",
              "      <td>0.0000</td>\n",
              "      <td>0.0000</td>\n",
              "      <td>1.000000</td>\n",
              "      <td>0.0000</td>\n",
              "      <td>0.0000</td>\n",
              "      <td>0.000000</td>\n",
              "      <td>1.000000</td>\n",
              "      <td>0.0000</td>\n",
              "    </tr>\n",
              "    <tr>\n",
              "      <th>XT1WithGates</th>\n",
              "      <td>0.4347</td>\n",
              "      <td>0.0000</td>\n",
              "      <td>0.000000</td>\n",
              "      <td>0.9984</td>\n",
              "      <td>0.0000</td>\n",
              "      <td>0.000000</td>\n",
              "      <td>0.000000</td>\n",
              "      <td>0.0000</td>\n",
              "    </tr>\n",
              "    <tr>\n",
              "      <th>XT2WithGates</th>\n",
              "      <td>0.3455</td>\n",
              "      <td>0.3036</td>\n",
              "      <td>0.188850</td>\n",
              "      <td>0.2847</td>\n",
              "      <td>0.2847</td>\n",
              "      <td>0.297005</td>\n",
              "      <td>0.189975</td>\n",
              "      <td>0.2924</td>\n",
              "    </tr>\n",
              "    <tr>\n",
              "      <th>DetX400</th>\n",
              "      <td>1.0000</td>\n",
              "      <td>1.0000</td>\n",
              "      <td>0.061950</td>\n",
              "      <td>1.0000</td>\n",
              "      <td>1.0000</td>\n",
              "      <td>1.000000</td>\n",
              "      <td>0.054728</td>\n",
              "      <td>1.0000</td>\n",
              "    </tr>\n",
              "    <tr>\n",
              "      <th>DetXWithGates</th>\n",
              "      <td>0.0000</td>\n",
              "      <td>0.0000</td>\n",
              "      <td>1.000000</td>\n",
              "      <td>0.0000</td>\n",
              "      <td>0.0000</td>\n",
              "      <td>0.000000</td>\n",
              "      <td>1.000000</td>\n",
              "      <td>0.0000</td>\n",
              "    </tr>\n",
              "    <tr>\n",
              "      <th>DetX100</th>\n",
              "      <td>0.4622</td>\n",
              "      <td>0.4952</td>\n",
              "      <td>0.031200</td>\n",
              "      <td>0.6282</td>\n",
              "      <td>0.5114</td>\n",
              "      <td>0.679431</td>\n",
              "      <td>0.030000</td>\n",
              "      <td>0.7051</td>\n",
              "    </tr>\n",
              "  </tbody>\n",
              "</table>\n",
              "</div>"
            ],
            "text/plain": [
              "                           Operation Crosstalk 1 (a)  ...  DetX100\n",
              "Operation Crosstalk 1 (a)                     0.6659  ...   0.1111\n",
              "Operation Crosstalk 2 (b)                     0.4256  ...   0.3738\n",
              "Detection Crosstalk (c)                       0.0000  ...   0.0000\n",
              "XT1WithGates                                  0.4347  ...   0.0000\n",
              "XT2WithGates                                  0.3455  ...   0.2924\n",
              "DetX400                                       1.0000  ...   1.0000\n",
              "DetXWithGates                                 0.0000  ...   0.0000\n",
              "DetX100                                       0.4622  ...   0.7051\n",
              "\n",
              "[8 rows x 8 columns]"
            ]
          },
          "metadata": {
            "tags": []
          }
        }
      ]
    },
    {
      "cell_type": "markdown",
      "metadata": {
        "id": "AkyJqaOM8Npy"
      },
      "source": [
        "## MADE"
      ]
    },
    {
      "cell_type": "code",
      "metadata": {
        "id": "4JOPC1xtwuaS"
      },
      "source": [
        "hidden_sizes = [512, 512, 512]\n",
        "nin = 784\n",
        "\n",
        "L = len(hidden_sizes)\n",
        "\n",
        "m = {}\n",
        "\n",
        "# sample the order of the inputs and the connectivity of all neurons\n",
        "m[-1] = np.arange(nin)\n",
        "for l in range(L):\n",
        "  # min so that we don't have indep node in between\n",
        "  m[l] = np.random.randint(m[l - 1].min(), nin - 1, size=hidden_sizes[l])\n",
        "\n",
        "# construct the mask matrices\n",
        "masks = [m[l - 1][:, None] <= m[l][None, :] for l in range(L)]\n",
        "\n",
        "# No equality bcoz we cant have variable dependent on itself\n",
        "masks.append(m[L - 1][:, None] < m[-1][None, :])\n"
      ],
      "execution_count": 3,
      "outputs": []
    },
    {
      "cell_type": "code",
      "metadata": {
        "colab": {
          "base_uri": "https://localhost:8080/"
        },
        "id": "Rv9WBjp20q_3",
        "outputId": "3a8ea12e-d127-4f8c-f5d1-b740be28ba64"
      },
      "source": [
        "m[-1][:,None].shape"
      ],
      "execution_count": 4,
      "outputs": [
        {
          "output_type": "execute_result",
          "data": {
            "text/plain": [
              "(784, 1)"
            ]
          },
          "metadata": {
            "tags": []
          },
          "execution_count": 4
        }
      ]
    },
    {
      "cell_type": "code",
      "metadata": {
        "colab": {
          "base_uri": "https://localhost:8080/"
        },
        "id": "Y_m2bY_1xt2v",
        "outputId": "084e3813-4fca-4bb0-e4d7-261f78b04f95"
      },
      "source": [
        "(m[-1][:,None] <= m[0][None,:]).shape"
      ],
      "execution_count": 15,
      "outputs": [
        {
          "output_type": "execute_result",
          "data": {
            "text/plain": [
              "(784, 512)"
            ]
          },
          "metadata": {
            "tags": []
          },
          "execution_count": 15
        }
      ]
    },
    {
      "cell_type": "code",
      "metadata": {
        "colab": {
          "base_uri": "https://localhost:8080/"
        },
        "id": "ZzGFKhmiyjsy",
        "outputId": "6c091b9f-04c1-4e9d-a198-08c16c1c5c74"
      },
      "source": [
        "m[0][None,:].shape"
      ],
      "execution_count": 13,
      "outputs": [
        {
          "output_type": "execute_result",
          "data": {
            "text/plain": [
              "(1, 512)"
            ]
          },
          "metadata": {
            "tags": []
          },
          "execution_count": 13
        }
      ]
    },
    {
      "cell_type": "code",
      "metadata": {
        "colab": {
          "base_uri": "https://localhost:8080/",
          "height": 341
        },
        "id": "-N8gF_7MOznK",
        "outputId": "451c78c4-cd56-4d91-abb4-de42b8e92cb2"
      },
      "source": [
        "np.repeat(np.array([0,1]), 25, axis = 1)"
      ],
      "execution_count": 2,
      "outputs": [
        {
          "output_type": "error",
          "ename": "AxisError",
          "evalue": "ignored",
          "traceback": [
            "\u001b[0;31m---------------------------------------------------------------------------\u001b[0m",
            "\u001b[0;31mAxisError\u001b[0m                                 Traceback (most recent call last)",
            "\u001b[0;32m<ipython-input-2-3165537352b3>\u001b[0m in \u001b[0;36m<module>\u001b[0;34m()\u001b[0m\n\u001b[0;32m----> 1\u001b[0;31m \u001b[0mnp\u001b[0m\u001b[0;34m.\u001b[0m\u001b[0mrepeat\u001b[0m\u001b[0;34m(\u001b[0m\u001b[0mnp\u001b[0m\u001b[0;34m.\u001b[0m\u001b[0marray\u001b[0m\u001b[0;34m(\u001b[0m\u001b[0;34m[\u001b[0m\u001b[0;36m0\u001b[0m\u001b[0;34m,\u001b[0m\u001b[0;36m1\u001b[0m\u001b[0;34m]\u001b[0m\u001b[0;34m)\u001b[0m\u001b[0;34m,\u001b[0m \u001b[0;36m25\u001b[0m\u001b[0;34m,\u001b[0m \u001b[0maxis\u001b[0m \u001b[0;34m=\u001b[0m \u001b[0;36m1\u001b[0m\u001b[0;34m)\u001b[0m\u001b[0;34m\u001b[0m\u001b[0;34m\u001b[0m\u001b[0m\n\u001b[0m",
            "\u001b[0;32m<__array_function__ internals>\u001b[0m in \u001b[0;36mrepeat\u001b[0;34m(*args, **kwargs)\u001b[0m\n",
            "\u001b[0;32m/usr/local/lib/python3.7/dist-packages/numpy/core/fromnumeric.py\u001b[0m in \u001b[0;36mrepeat\u001b[0;34m(a, repeats, axis)\u001b[0m\n\u001b[1;32m    477\u001b[0m \u001b[0;34m\u001b[0m\u001b[0m\n\u001b[1;32m    478\u001b[0m     \"\"\"\n\u001b[0;32m--> 479\u001b[0;31m     \u001b[0;32mreturn\u001b[0m \u001b[0m_wrapfunc\u001b[0m\u001b[0;34m(\u001b[0m\u001b[0ma\u001b[0m\u001b[0;34m,\u001b[0m \u001b[0;34m'repeat'\u001b[0m\u001b[0;34m,\u001b[0m \u001b[0mrepeats\u001b[0m\u001b[0;34m,\u001b[0m \u001b[0maxis\u001b[0m\u001b[0;34m=\u001b[0m\u001b[0maxis\u001b[0m\u001b[0;34m)\u001b[0m\u001b[0;34m\u001b[0m\u001b[0;34m\u001b[0m\u001b[0m\n\u001b[0m\u001b[1;32m    480\u001b[0m \u001b[0;34m\u001b[0m\u001b[0m\n\u001b[1;32m    481\u001b[0m \u001b[0;34m\u001b[0m\u001b[0m\n",
            "\u001b[0;32m/usr/local/lib/python3.7/dist-packages/numpy/core/fromnumeric.py\u001b[0m in \u001b[0;36m_wrapfunc\u001b[0;34m(obj, method, *args, **kwds)\u001b[0m\n\u001b[1;32m     56\u001b[0m \u001b[0;34m\u001b[0m\u001b[0m\n\u001b[1;32m     57\u001b[0m     \u001b[0;32mtry\u001b[0m\u001b[0;34m:\u001b[0m\u001b[0;34m\u001b[0m\u001b[0;34m\u001b[0m\u001b[0m\n\u001b[0;32m---> 58\u001b[0;31m         \u001b[0;32mreturn\u001b[0m \u001b[0mbound\u001b[0m\u001b[0;34m(\u001b[0m\u001b[0;34m*\u001b[0m\u001b[0margs\u001b[0m\u001b[0;34m,\u001b[0m \u001b[0;34m**\u001b[0m\u001b[0mkwds\u001b[0m\u001b[0;34m)\u001b[0m\u001b[0;34m\u001b[0m\u001b[0;34m\u001b[0m\u001b[0m\n\u001b[0m\u001b[1;32m     59\u001b[0m     \u001b[0;32mexcept\u001b[0m \u001b[0mTypeError\u001b[0m\u001b[0;34m:\u001b[0m\u001b[0;34m\u001b[0m\u001b[0;34m\u001b[0m\u001b[0m\n\u001b[1;32m     60\u001b[0m         \u001b[0;31m# A TypeError occurs if the object does have such a method in its\u001b[0m\u001b[0;34m\u001b[0m\u001b[0;34m\u001b[0m\u001b[0;34m\u001b[0m\u001b[0m\n",
            "\u001b[0;31mAxisError\u001b[0m: axis 1 is out of bounds for array of dimension 1"
          ]
        }
      ]
    },
    {
      "cell_type": "code",
      "metadata": {
        "id": "VmyEKYZXaMka"
      },
      "source": [
        "import torch.nn as nn\n",
        "import torch.nn.functional as F\n",
        "import numpy as np\n",
        "\n",
        "def to_one_hot(labels, d):\n",
        "  one_hot = torch.FloatTensor(labels.shape[0], d).cuda()\n",
        "  one_hot.zero_()\n",
        "  one_hot.scatter_(1, labels.unsqueeze(1), 1)\n",
        "  return one_hot\n",
        "\n",
        "# Code based one Andrej Karpathy's implementation: https://github.com/karpathy/pytorch-made\n",
        "class MaskedLinear(nn.Linear):\n",
        "  def __init__(self, in_features, out_features, bias=True):\n",
        "    super().__init__(in_features, out_features, bias)\n",
        "    self.register_buffer('mask', torch.ones(out_features, in_features))\n",
        "\n",
        "  def set_mask(self, mask):\n",
        "    self.mask.data.copy_(torch.from_numpy(mask.astype(np.uint8).T))\n",
        "\n",
        "  def forward(self, input):\n",
        "    return F.linear(input, self.mask * self.weight, self.bias)\n",
        "\n",
        "class MADE(nn.Module):\n",
        "  def __init__(self, input_shape, d, hidden_size=[512, 512, 512], \n",
        "               ordering=None, one_hot_input=False):\n",
        "    super().__init__()\n",
        "    self.input_shape = input_shape\n",
        "    self.nin = np.prod(input_shape)\n",
        "    self.nout = self.nin * d\n",
        "    self.d = d\n",
        "    self.hidden_sizes = hidden_size\n",
        "    self.ordering = np.arange(self.nin) if ordering is None else ordering\n",
        "    self.one_hot_input = one_hot_input\n",
        "\n",
        "    # define a simple MLP neural net\n",
        "    self.net = []\n",
        "    hs = [self.nin * d if one_hot_input else self.nin] + self.hidden_sizes + [self.nout]\n",
        "    for h0, h1 in zip(hs, hs[1:]):\n",
        "      self.net.extend([\n",
        "        MaskedLinear(h0, h1),\n",
        "        nn.ReLU(),\n",
        "      ])\n",
        "    self.net.pop()  # pop the last ReLU for the output layer\n",
        "    self.net = nn.Sequential(*self.net)\n",
        "\n",
        "    self.m = {}\n",
        "    self.create_mask()  # builds the initial self.m connectivity\n",
        "\n",
        "  def create_mask(self):\n",
        "    L = len(self.hidden_sizes)\n",
        "\n",
        "    # sample the order of the inputs and the connectivity of all neurons\n",
        "    self.m[-1] = np.array([0,1])\n",
        "    for l in range(L):\n",
        "      self.m[l] = np.random.randint(self.m[l - 1].min(), \n",
        "                                      self.nin/2 - 1, size=int(self.hidden_sizes[l]/2))\n",
        "\n",
        "    # construct the mask matrices\n",
        "    masks = [self.m[l - 1][:, None] <= self.m[l][None, :] for l in range(L)]\n",
        "    masks.append(self.m[L - 1][:, None] < self.m[-1][None, :])\n",
        "\n",
        "    masks[-1] = np.repeat(masks[-1], self.d, axis=1)\n",
        "    if self.one_hot_input:\n",
        "      masks[0] = np.repeat(masks[0], self.d, axis=0)\n",
        "\n",
        "    final_masks = []\n",
        "    for i in range(len(masks)):\n",
        "      mask = masks[i]\n",
        "      zero_arr = np.zeros(mask.shape)\n",
        "      prefix = np.hstack((zero_arr, mask))\n",
        "      suffix = np.hstack((mask, zero_arr))\n",
        "      final_masks.append(np.vstack((suffix, prefix)))\n",
        "\n",
        "    # set the masks in all MaskedLinear layers\n",
        "    layers = [l for l in self.net.modules() if isinstance(l, MaskedLinear)]\n",
        "    for l, m in zip(layers, final_masks):\n",
        "      l.set_mask(m)\n",
        "\n",
        "  def forward(self, x):\n",
        "    batch_size = x.shape[0]\n",
        "    if self.one_hot_input:\n",
        "      x = x.long().contiguous().view(-1)\n",
        "      x = to_one_hot(x, self.d)\n",
        "      x = x.view(batch_size, -1)\n",
        "    else:\n",
        "      x = x.float()\n",
        "      x = x.view(batch_size, self.nin)\n",
        "    logits = self.net(x).view(batch_size, self.nin, self.d)\n",
        "    return logits.permute(0, 2, 1).contiguous().view(batch_size, self.d, *self.input_shape)\n",
        "\n",
        "  def loss(self, x):\n",
        "      return F.cross_entropy(self(x), x.long())\n",
        "\n",
        "  def sample(self, n):\n",
        "    samples = torch.zeros(n, self.nin).cuda()\n",
        "    self.inv_ordering = {x: i for i, x in enumerate(self.ordering)}\n",
        "    with torch.no_grad():\n",
        "      for i in range(self.nin):\n",
        "        logits = self(samples).view(n, self.d, self.nin)[:, :, self.inv_ordering[i]]\n",
        "        probs = F.softmax(logits, dim=1)\n",
        "        samples[:, self.inv_ordering[i]] = torch.multinomial(probs, 1).squeeze(-1)\n",
        "      samples = samples.view(n, *self.input_shape)\n",
        "    return samples.cpu().numpy()"
      ],
      "execution_count": 46,
      "outputs": []
    },
    {
      "cell_type": "code",
      "metadata": {
        "id": "PUEVrTv_cXSb"
      },
      "source": [
        "def gen_data_2(data, circ, frac):\n",
        "  data = data * (frac)\n",
        "  data = data.astype('int')\n",
        "  ds_size =  np.sum(data)\n",
        "  ds_size_column = np.cumsum(data, axis = 1)\n",
        "  arr = np.zeros((ds_size, 4))\n",
        "\n",
        "  running_sum = 0\n",
        "  for i in range(circ.shape[0]):\n",
        "    arr[running_sum :running_sum + ds_size_column[i][0],:] = [circ[i][0],0,circ[i][1],0]\n",
        "    arr[running_sum + ds_size_column[i][0]:running_sum + ds_size_column[i][1],:] = [circ[i][0],1,circ[i][1],0]\n",
        "    arr[running_sum + ds_size_column[i][1]:running_sum + ds_size_column[i][2],:] = [circ[i][0],0,circ[i][1],1]\n",
        "    arr[running_sum + ds_size_column[i][2]:running_sum + ds_size_column[i][3],:] = [circ[i][0],1,circ[i][1],1]\n",
        "    running_sum += np.sum(data[i])\n",
        "  np.random.shuffle(arr)\n",
        "  return arr"
      ],
      "execution_count": 8,
      "outputs": []
    },
    {
      "cell_type": "code",
      "metadata": {
        "id": "MXMKyAqqLbnj"
      },
      "source": [
        ""
      ],
      "execution_count": null,
      "outputs": []
    },
    {
      "cell_type": "code",
      "metadata": {
        "id": "OPpP8BslJoOs"
      },
      "source": [
        "circ, freq_data = setup_data(dir_prefix + datasets[0]['dir_name'],  num_circuits = datasets[0]['num_circuits'], file_prefix = f_prefix, dir_with_gates = datasets[0]['dir_with_gates'], separate_bits = False, norm = 'no_norm')"
      ],
      "execution_count": 37,
      "outputs": []
    },
    {
      "cell_type": "code",
      "metadata": {
        "id": "tdAlJzz0Lcdc",
        "outputId": "48aa4e67-df6f-4294-d7e8-6ff1bfab4023",
        "colab": {
          "base_uri": "https://localhost:8080/"
        }
      },
      "source": [
        "a = gen_data_2(freq_data[:100], circ[:100], 0.001)\n",
        "a.shape"
      ],
      "execution_count": 38,
      "outputs": [
        {
          "output_type": "execute_result",
          "data": {
            "text/plain": [
              "(9795, 4)"
            ]
          },
          "metadata": {
            "tags": []
          },
          "execution_count": 38
        }
      ]
    },
    {
      "cell_type": "code",
      "metadata": {
        "id": "1riCpyDmcdD_"
      },
      "source": [
        "def gen_data(data, circ, frac):\n",
        "  data = data * (frac)\n",
        "  data = data.astype('int')\n",
        "  ds_size =  np.sum(data)\n",
        "  ds_size_column = np.cumsum(np.sum(data, axis = 0))\n",
        "  print(np.sum(data, axis = 0))\n",
        "  arr = np.zeros((ds_size, 4))\n",
        "  arr[:ds_size_column[0],:] = [0,0,0,0]\n",
        "  arr[ds_size_column[0]:ds_size_column[1],:] = [0,1,0,0]\n",
        "  arr[ds_size_column[1]:ds_size_column[2],:] = [0,0,0,1]\n",
        "  arr[ds_size_column[2]:ds_size_column[3],:] = [0,1,0,1]\n",
        "  np.random.shuffle(arr)\n",
        "  return arr\n",
        "\n",
        "def train(model, train_loader, optimizer, epoch, grad_clip=None):\n",
        "  model.train()\n",
        "  \n",
        "  train_losses = []\n",
        "  for x in train_loader:\n",
        "    x = x.cuda().contiguous()\n",
        "    loss = model.loss(x)\n",
        "    optimizer.zero_grad()\n",
        "    loss.backward()\n",
        "    if grad_clip:\n",
        "      torch.nn.utils.clip_grad_norm_(model.parameters(), grad_clip)\n",
        "    optimizer.step()\n",
        "    train_losses.append(loss.item())\n",
        "  return train_losses\n",
        "\n",
        "def eval_loss(model, data_loader):\n",
        "  model.eval()\n",
        "  total_loss = 0\n",
        "  with torch.no_grad():\n",
        "    for x in data_loader:\n",
        "      x = x.cuda().contiguous()\n",
        "      loss = model.loss(x)\n",
        "      total_loss += loss * x.shape[0]\n",
        "    avg_loss = total_loss / len(data_loader.dataset)\n",
        "\n",
        "  return avg_loss.item()\n",
        "\n",
        "def train_epochs(model, train_loader, test_loader, train_args, quiet = True):\n",
        "  epochs, lr = train_args['epochs'], train_args['lr']\n",
        "  grad_clip = train_args.get('grad_clip', None)\n",
        "  optimizer = optim.Adam(model.parameters(), lr=lr)\n",
        "\n",
        "  train_losses = []\n",
        "  test_losses = [eval_loss(model, test_loader)]\n",
        "  for epoch in range(epochs):\n",
        "    model.train()\n",
        "    train_loss = train(model, train_loader, optimizer, epoch, grad_clip)\n",
        "    train_losses.extend(train_loss)\n",
        "    test_loss = eval_loss(model, test_loader)\n",
        "    test_losses.append(test_loss)\n",
        "    if not quiet:\n",
        "      print(f'Epoch {epoch}  Train Loss : {train_loss[0]}, {train_loss[-1]}  Test loss {test_loss:.4f}')\n",
        "\n",
        "  return train_losses, test_losses\n",
        "\n",
        "# frac - fraction of shots to pick, ex 0.001 would have 100 shots per pair of circuits\n",
        "def MADE_expt(model, dataset, frac, data_fn, ep):\n",
        "\n",
        "  # Load Dataset\n",
        "  circ, freq_data = dataset[0], dataset[1]\n",
        "\n",
        "  d = data_fn(freq_data, circ, frac)\n",
        "  split = int(0.8 * len(d))\n",
        "  train_data, test_data = d[:split], d[split:]\n",
        "\n",
        "  train_loader = torch.utils.data.DataLoader(train_data, batch_size=128, shuffle=True)\n",
        "  test_loader = torch.utils.data.DataLoader(test_data, batch_size=128)\n",
        "  train_losses, test_losses = train_epochs(model, train_loader, test_loader, \n",
        "                                            dict(epochs=ep, lr=2e-3))\n",
        "  return train_losses[-1], test_losses[-1]"
      ],
      "execution_count": 55,
      "outputs": []
    },
    {
      "cell_type": "code",
      "metadata": {
        "colab": {
          "base_uri": "https://localhost:8080/"
        },
        "id": "QTtbl5kHmqZf",
        "outputId": "06342e26-b5ce-4dde-c14e-59e1f7b69814"
      },
      "source": [
        "MADE_expt(0.001, 0, dir_prefix, f_prefix)"
      ],
      "execution_count": 67,
      "outputs": [
        {
          "output_type": "stream",
          "text": [
            "[[43341 43586 6459 6614]\n",
            " [25076 25005 24917 25002]\n",
            " [24841 25072 24936 25151]\n",
            " [24949 24959 25065 25027]\n",
            " [25097 25032 24961 24910]\n",
            " [24962 25038 24965 25035]\n",
            " [24894 25121 24843 25142]\n",
            " [25047 25044 24936 24973]\n",
            " [24886 24875 25134 25105]\n",
            " [6564 6620 43425 43391]]\n",
            "[240750 482597 731312 980050]\n",
            "(784040, 4)\n",
            "Epoch 0  Train Loss : 0.7642644643783569, 0.34820717573165894  Test loss 0.3477\n",
            "Epoch 1  Train Loss : 0.34861886501312256, 0.3463367819786072  Test loss 0.3466\n",
            "Epoch 2  Train Loss : 0.3468921482563019, 0.34552472829818726  Test loss 0.3466\n"
          ],
          "name": "stdout"
        }
      ]
    },
    {
      "cell_type": "code",
      "metadata": {
        "colab": {
          "base_uri": "https://localhost:8080/"
        },
        "id": "3RYcc3WJtfXO",
        "outputId": "3e2e552d-d053-4ac4-e235-9158bdec94ed"
      },
      "source": [
        "MADE_expt(0.01, 4, dir_prefix, f_prefix)"
      ],
      "execution_count": 68,
      "outputs": [
        {
          "output_type": "stream",
          "text": [
            "[[4218 4205 783 794]\n",
            " [2499 2475 2562 2464]\n",
            " [2568 2431 2512 2489]\n",
            " [2479 2536 2492 2493]\n",
            " [2515 2502 2490 2493]\n",
            " [2496 2514 2502 2488]\n",
            " [2582 2512 2445 2461]\n",
            " [2505 2578 2483 2434]\n",
            " [2457 2451 2574 2518]\n",
            " [798 824 4158 4220]]\n",
            "[241255 483420 731769 980295]\n",
            "(784236, 4)\n",
            "Epoch 0  Train Loss : 0.6942412257194519, 0.3478628695011139  Test loss 0.3475\n",
            "Epoch 1  Train Loss : 0.3468514382839203, 0.3468070924282074  Test loss 0.3466\n",
            "Epoch 2  Train Loss : 0.346502423286438, 0.34624841809272766  Test loss 0.3466\n"
          ],
          "name": "stdout"
        }
      ]
    },
    {
      "cell_type": "code",
      "metadata": {
        "colab": {
          "base_uri": "https://localhost:8080/"
        },
        "id": "0xAK4IcWxPJ5",
        "outputId": "21c85499-355f-4fdf-81a5-4aee5eacc3b7"
      },
      "source": [
        "MADE_expt(0.001, 5, dir_prefix, f_prefix)"
      ],
      "execution_count": 70,
      "outputs": [
        {
          "output_type": "stream",
          "text": [
            "[[43704 43378 6339 6579]\n",
            " [25153 24941 25557 24349]\n",
            " [25165 24788 24907 25140]\n",
            " [25153 24992 25299 24556]\n",
            " [25025 24855 25040 25080]\n",
            " [24914 24960 25349 24777]\n",
            " [25014 25177 24854 24955]\n",
            " [25228 24450 24931 25391]\n",
            " [24927 25280 24892 24901]\n",
            " [6542 6454 43102 43902]]\n",
            "[240743 482410 731134 979905]\n",
            "(783924, 4)\n",
            "Epoch 0  Train Loss : 0.6436841487884521, 0.34794971346855164  Test loss 0.3474\n",
            "Epoch 1  Train Loss : 0.3475525677204132, 0.34641405940055847  Test loss 0.3466\n",
            "Epoch 2  Train Loss : 0.3466276228427887, 0.3462686240673065  Test loss 0.3466\n"
          ],
          "name": "stdout"
        }
      ]
    },
    {
      "cell_type": "code",
      "metadata": {
        "id": "Wxdv2ucC9VfM"
      },
      "source": [
        "dataset_idx = 0\n",
        "ep = 15\n",
        "num_lines = 100\n",
        "num_circuits = 20\n",
        "\n",
        "circ, freq = setup_data(dir_prefix + datasets[dataset_idx]['dir_name'],  num_circuits = datasets[dataset_idx]['num_circuits'], file_prefix = f_prefix, dir_with_gates = datasets[dataset_idx]['dir_with_gates'], separate_bits = False, norm = 'no_norm')\n",
        "\n",
        "train_l, test_l = [], []\n",
        "for i in range(100):\n",
        "  c, f = circ[i*num_lines: (i+1)*num_lines], freq[i*num_lines: (i+1)*num_lines]\n",
        "  c = c - i*num_circuits\n",
        "  \n",
        "  model = MADE((4,), 20, hidden_size=[160, 160], one_hot_input=True).cuda()\n",
        "  final_train_loss, final_test_loss = MADE_expt(model, dataset, 0.01, gen_data_2, ep)\n",
        "  train_l.append(final_train_loss)\n",
        "  test_l.append(final_test_loss)"
      ],
      "execution_count": null,
      "outputs": []
    },
    {
      "cell_type": "code",
      "metadata": {
        "id": "mYsB386WH7Js"
      },
      "source": [
        ""
      ],
      "execution_count": null,
      "outputs": []
    },
    {
      "cell_type": "code",
      "metadata": {
        "id": "DvtDqJPXFRys",
        "outputId": "46aa4ba5-d493-42b2-db81-e6e5ab45a130",
        "colab": {
          "base_uri": "https://localhost:8080/"
        }
      },
      "source": [
        "final_train_loss"
      ],
      "execution_count": 50,
      "outputs": [
        {
          "output_type": "execute_result",
          "data": {
            "text/plain": [
              "1.4423638582229614"
            ]
          },
          "metadata": {
            "tags": []
          },
          "execution_count": 50
        }
      ]
    },
    {
      "cell_type": "code",
      "metadata": {
        "id": "mAMZS75NEiti"
      },
      "source": [
        "dataset_idx = 4\n",
        "ep = 10\n",
        "data_idx = 100\n",
        "\n",
        "circ, freq = setup_data(dir_prefix + datasets[dataset_idx]['dir_name'],  num_circuits = datasets[dataset_idx]['num_circuits'], file_prefix = f_prefix, dir_with_gates = datasets[dataset_idx]['dir_with_gates'], separate_bits = False, norm = 'no_norm')\n",
        "dataset = circ[:data_idx], freq[:data_idx]\n",
        "model = MADE((4,), 20, hidden_size=[160, 160], one_hot_input=True).cuda()\n",
        "MADE_expt(model, dataset, 0.1, gen_data_2, ep)"
      ],
      "execution_count": null,
      "outputs": []
    },
    {
      "cell_type": "code",
      "metadata": {
        "colab": {
          "base_uri": "https://localhost:8080/",
          "height": 409
        },
        "id": "Acq6uncGmY0x",
        "outputId": "69d88023-33b6-4f22-8f06-36f5d93c394d"
      },
      "source": [
        "import torch.utils.data as data\n",
        "model = MADE((4,), 2, hidden_size=[16, 16], one_hot_input=True).cuda()\n",
        "train_loader = data.DataLoader(train_data, batch_size=128, shuffle=True)\n",
        "test_loader = data.DataLoader(test_data, batch_size=128)\n",
        "train_losses, test_losses = train_epochs(model, train_loader, test_loader, \n",
        "                                          dict(epochs=20, lr=2e-3))"
      ],
      "execution_count": 36,
      "outputs": [
        {
          "output_type": "stream",
          "text": [
            "Epoch 0 Train Loss 0.34731048345565796 Test loss 0.3475\n",
            "Epoch 1 Train Loss 0.3467375636100769 Test loss 0.3467\n",
            "Epoch 2 Train Loss 0.34679803252220154 Test loss 0.3466\n"
          ],
          "name": "stdout"
        },
        {
          "output_type": "error",
          "ename": "KeyboardInterrupt",
          "evalue": "ignored",
          "traceback": [
            "\u001b[0;31m---------------------------------------------------------------------------\u001b[0m",
            "\u001b[0;31mKeyboardInterrupt\u001b[0m                         Traceback (most recent call last)",
            "\u001b[0;32m<ipython-input-36-c95615634f46>\u001b[0m in \u001b[0;36m<module>\u001b[0;34m()\u001b[0m\n\u001b[1;32m      4\u001b[0m \u001b[0mtest_loader\u001b[0m \u001b[0;34m=\u001b[0m \u001b[0mdata\u001b[0m\u001b[0;34m.\u001b[0m\u001b[0mDataLoader\u001b[0m\u001b[0;34m(\u001b[0m\u001b[0mtest_data\u001b[0m\u001b[0;34m,\u001b[0m \u001b[0mbatch_size\u001b[0m\u001b[0;34m=\u001b[0m\u001b[0;36m128\u001b[0m\u001b[0;34m)\u001b[0m\u001b[0;34m\u001b[0m\u001b[0;34m\u001b[0m\u001b[0m\n\u001b[1;32m      5\u001b[0m train_losses, test_losses = train_epochs(model, train_loader, test_loader, \n\u001b[0;32m----> 6\u001b[0;31m                                           dict(epochs=20, lr=2e-3))\n\u001b[0m",
            "\u001b[0;32m<ipython-input-34-95b998e0b54c>\u001b[0m in \u001b[0;36mtrain_epochs\u001b[0;34m(model, train_loader, test_loader, train_args, quiet)\u001b[0m\n\u001b[1;32m     48\u001b[0m   \u001b[0;32mfor\u001b[0m \u001b[0mepoch\u001b[0m \u001b[0;32min\u001b[0m \u001b[0mrange\u001b[0m\u001b[0;34m(\u001b[0m\u001b[0mepochs\u001b[0m\u001b[0;34m)\u001b[0m\u001b[0;34m:\u001b[0m\u001b[0;34m\u001b[0m\u001b[0;34m\u001b[0m\u001b[0m\n\u001b[1;32m     49\u001b[0m     \u001b[0mmodel\u001b[0m\u001b[0;34m.\u001b[0m\u001b[0mtrain\u001b[0m\u001b[0;34m(\u001b[0m\u001b[0;34m)\u001b[0m\u001b[0;34m\u001b[0m\u001b[0;34m\u001b[0m\u001b[0m\n\u001b[0;32m---> 50\u001b[0;31m     \u001b[0mtrain_loss\u001b[0m \u001b[0;34m=\u001b[0m \u001b[0mtrain\u001b[0m\u001b[0;34m(\u001b[0m\u001b[0mmodel\u001b[0m\u001b[0;34m,\u001b[0m \u001b[0mtrain_loader\u001b[0m\u001b[0;34m,\u001b[0m \u001b[0moptimizer\u001b[0m\u001b[0;34m,\u001b[0m \u001b[0mepoch\u001b[0m\u001b[0;34m,\u001b[0m \u001b[0mgrad_clip\u001b[0m\u001b[0;34m)\u001b[0m\u001b[0;34m\u001b[0m\u001b[0;34m\u001b[0m\u001b[0m\n\u001b[0m\u001b[1;32m     51\u001b[0m     \u001b[0mtrain_losses\u001b[0m\u001b[0;34m.\u001b[0m\u001b[0mextend\u001b[0m\u001b[0;34m(\u001b[0m\u001b[0mtrain_loss\u001b[0m\u001b[0;34m)\u001b[0m\u001b[0;34m\u001b[0m\u001b[0;34m\u001b[0m\u001b[0m\n\u001b[1;32m     52\u001b[0m     \u001b[0mtest_loss\u001b[0m \u001b[0;34m=\u001b[0m \u001b[0meval_loss\u001b[0m\u001b[0;34m(\u001b[0m\u001b[0mmodel\u001b[0m\u001b[0;34m,\u001b[0m \u001b[0mtest_loader\u001b[0m\u001b[0;34m)\u001b[0m\u001b[0;34m\u001b[0m\u001b[0;34m\u001b[0m\u001b[0m\n",
            "\u001b[0;32m<ipython-input-34-95b998e0b54c>\u001b[0m in \u001b[0;36mtrain\u001b[0;34m(model, train_loader, optimizer, epoch, grad_clip)\u001b[0m\n\u001b[1;32m     23\u001b[0m     \u001b[0;32mif\u001b[0m \u001b[0mgrad_clip\u001b[0m\u001b[0;34m:\u001b[0m\u001b[0;34m\u001b[0m\u001b[0;34m\u001b[0m\u001b[0m\n\u001b[1;32m     24\u001b[0m       \u001b[0mtorch\u001b[0m\u001b[0;34m.\u001b[0m\u001b[0mnn\u001b[0m\u001b[0;34m.\u001b[0m\u001b[0mutils\u001b[0m\u001b[0;34m.\u001b[0m\u001b[0mclip_grad_norm_\u001b[0m\u001b[0;34m(\u001b[0m\u001b[0mmodel\u001b[0m\u001b[0;34m.\u001b[0m\u001b[0mparameters\u001b[0m\u001b[0;34m(\u001b[0m\u001b[0;34m)\u001b[0m\u001b[0;34m,\u001b[0m \u001b[0mgrad_clip\u001b[0m\u001b[0;34m)\u001b[0m\u001b[0;34m\u001b[0m\u001b[0;34m\u001b[0m\u001b[0m\n\u001b[0;32m---> 25\u001b[0;31m     \u001b[0moptimizer\u001b[0m\u001b[0;34m.\u001b[0m\u001b[0mstep\u001b[0m\u001b[0;34m(\u001b[0m\u001b[0;34m)\u001b[0m\u001b[0;34m\u001b[0m\u001b[0;34m\u001b[0m\u001b[0m\n\u001b[0m\u001b[1;32m     26\u001b[0m     \u001b[0mtrain_losses\u001b[0m\u001b[0;34m.\u001b[0m\u001b[0mappend\u001b[0m\u001b[0;34m(\u001b[0m\u001b[0mloss\u001b[0m\u001b[0;34m.\u001b[0m\u001b[0mitem\u001b[0m\u001b[0;34m(\u001b[0m\u001b[0;34m)\u001b[0m\u001b[0;34m)\u001b[0m\u001b[0;34m\u001b[0m\u001b[0;34m\u001b[0m\u001b[0m\n\u001b[1;32m     27\u001b[0m   \u001b[0;32mreturn\u001b[0m \u001b[0mtrain_losses\u001b[0m\u001b[0;34m\u001b[0m\u001b[0;34m\u001b[0m\u001b[0m\n",
            "\u001b[0;32m/usr/local/lib/python3.7/dist-packages/torch/optim/optimizer.py\u001b[0m in \u001b[0;36mwrapper\u001b[0;34m(*args, **kwargs)\u001b[0m\n\u001b[1;32m     86\u001b[0m                 \u001b[0mprofile_name\u001b[0m \u001b[0;34m=\u001b[0m \u001b[0;34m\"Optimizer.step#{}.step\"\u001b[0m\u001b[0;34m.\u001b[0m\u001b[0mformat\u001b[0m\u001b[0;34m(\u001b[0m\u001b[0mobj\u001b[0m\u001b[0;34m.\u001b[0m\u001b[0m__class__\u001b[0m\u001b[0;34m.\u001b[0m\u001b[0m__name__\u001b[0m\u001b[0;34m)\u001b[0m\u001b[0;34m\u001b[0m\u001b[0;34m\u001b[0m\u001b[0m\n\u001b[1;32m     87\u001b[0m                 \u001b[0;32mwith\u001b[0m \u001b[0mtorch\u001b[0m\u001b[0;34m.\u001b[0m\u001b[0mautograd\u001b[0m\u001b[0;34m.\u001b[0m\u001b[0mprofiler\u001b[0m\u001b[0;34m.\u001b[0m\u001b[0mrecord_function\u001b[0m\u001b[0;34m(\u001b[0m\u001b[0mprofile_name\u001b[0m\u001b[0;34m)\u001b[0m\u001b[0;34m:\u001b[0m\u001b[0;34m\u001b[0m\u001b[0;34m\u001b[0m\u001b[0m\n\u001b[0;32m---> 88\u001b[0;31m                     \u001b[0;32mreturn\u001b[0m \u001b[0mfunc\u001b[0m\u001b[0;34m(\u001b[0m\u001b[0;34m*\u001b[0m\u001b[0margs\u001b[0m\u001b[0;34m,\u001b[0m \u001b[0;34m**\u001b[0m\u001b[0mkwargs\u001b[0m\u001b[0;34m)\u001b[0m\u001b[0;34m\u001b[0m\u001b[0;34m\u001b[0m\u001b[0m\n\u001b[0m\u001b[1;32m     89\u001b[0m             \u001b[0;32mreturn\u001b[0m \u001b[0mwrapper\u001b[0m\u001b[0;34m\u001b[0m\u001b[0;34m\u001b[0m\u001b[0m\n\u001b[1;32m     90\u001b[0m \u001b[0;34m\u001b[0m\u001b[0m\n",
            "\u001b[0;32m/usr/local/lib/python3.7/dist-packages/torch/autograd/grad_mode.py\u001b[0m in \u001b[0;36mdecorate_context\u001b[0;34m(*args, **kwargs)\u001b[0m\n\u001b[1;32m     26\u001b[0m         \u001b[0;32mdef\u001b[0m \u001b[0mdecorate_context\u001b[0m\u001b[0;34m(\u001b[0m\u001b[0;34m*\u001b[0m\u001b[0margs\u001b[0m\u001b[0;34m,\u001b[0m \u001b[0;34m**\u001b[0m\u001b[0mkwargs\u001b[0m\u001b[0;34m)\u001b[0m\u001b[0;34m:\u001b[0m\u001b[0;34m\u001b[0m\u001b[0;34m\u001b[0m\u001b[0m\n\u001b[1;32m     27\u001b[0m             \u001b[0;32mwith\u001b[0m \u001b[0mself\u001b[0m\u001b[0;34m.\u001b[0m\u001b[0m__class__\u001b[0m\u001b[0;34m(\u001b[0m\u001b[0;34m)\u001b[0m\u001b[0;34m:\u001b[0m\u001b[0;34m\u001b[0m\u001b[0;34m\u001b[0m\u001b[0m\n\u001b[0;32m---> 28\u001b[0;31m                 \u001b[0;32mreturn\u001b[0m \u001b[0mfunc\u001b[0m\u001b[0;34m(\u001b[0m\u001b[0;34m*\u001b[0m\u001b[0margs\u001b[0m\u001b[0;34m,\u001b[0m \u001b[0;34m**\u001b[0m\u001b[0mkwargs\u001b[0m\u001b[0;34m)\u001b[0m\u001b[0;34m\u001b[0m\u001b[0;34m\u001b[0m\u001b[0m\n\u001b[0m\u001b[1;32m     29\u001b[0m         \u001b[0;32mreturn\u001b[0m \u001b[0mcast\u001b[0m\u001b[0;34m(\u001b[0m\u001b[0mF\u001b[0m\u001b[0;34m,\u001b[0m \u001b[0mdecorate_context\u001b[0m\u001b[0;34m)\u001b[0m\u001b[0;34m\u001b[0m\u001b[0;34m\u001b[0m\u001b[0m\n\u001b[1;32m     30\u001b[0m \u001b[0;34m\u001b[0m\u001b[0m\n",
            "\u001b[0;32m/usr/local/lib/python3.7/dist-packages/torch/optim/adam.py\u001b[0m in \u001b[0;36mstep\u001b[0;34m(self, closure)\u001b[0m\n\u001b[1;32m    116\u001b[0m                    \u001b[0mlr\u001b[0m\u001b[0;34m=\u001b[0m\u001b[0mgroup\u001b[0m\u001b[0;34m[\u001b[0m\u001b[0;34m'lr'\u001b[0m\u001b[0;34m]\u001b[0m\u001b[0;34m,\u001b[0m\u001b[0;34m\u001b[0m\u001b[0;34m\u001b[0m\u001b[0m\n\u001b[1;32m    117\u001b[0m                    \u001b[0mweight_decay\u001b[0m\u001b[0;34m=\u001b[0m\u001b[0mgroup\u001b[0m\u001b[0;34m[\u001b[0m\u001b[0;34m'weight_decay'\u001b[0m\u001b[0;34m]\u001b[0m\u001b[0;34m,\u001b[0m\u001b[0;34m\u001b[0m\u001b[0;34m\u001b[0m\u001b[0m\n\u001b[0;32m--> 118\u001b[0;31m                    eps=group['eps'])\n\u001b[0m\u001b[1;32m    119\u001b[0m         \u001b[0;32mreturn\u001b[0m \u001b[0mloss\u001b[0m\u001b[0;34m\u001b[0m\u001b[0;34m\u001b[0m\u001b[0m\n",
            "\u001b[0;32m/usr/local/lib/python3.7/dist-packages/torch/optim/_functional.py\u001b[0m in \u001b[0;36madam\u001b[0;34m(params, grads, exp_avgs, exp_avg_sqs, max_exp_avg_sqs, state_steps, amsgrad, beta1, beta2, lr, weight_decay, eps)\u001b[0m\n\u001b[1;32m     92\u001b[0m             \u001b[0mdenom\u001b[0m \u001b[0;34m=\u001b[0m \u001b[0;34m(\u001b[0m\u001b[0mmax_exp_avg_sqs\u001b[0m\u001b[0;34m[\u001b[0m\u001b[0mi\u001b[0m\u001b[0;34m]\u001b[0m\u001b[0;34m.\u001b[0m\u001b[0msqrt\u001b[0m\u001b[0;34m(\u001b[0m\u001b[0;34m)\u001b[0m \u001b[0;34m/\u001b[0m \u001b[0mmath\u001b[0m\u001b[0;34m.\u001b[0m\u001b[0msqrt\u001b[0m\u001b[0;34m(\u001b[0m\u001b[0mbias_correction2\u001b[0m\u001b[0;34m)\u001b[0m\u001b[0;34m)\u001b[0m\u001b[0;34m.\u001b[0m\u001b[0madd_\u001b[0m\u001b[0;34m(\u001b[0m\u001b[0meps\u001b[0m\u001b[0;34m)\u001b[0m\u001b[0;34m\u001b[0m\u001b[0;34m\u001b[0m\u001b[0m\n\u001b[1;32m     93\u001b[0m         \u001b[0;32melse\u001b[0m\u001b[0;34m:\u001b[0m\u001b[0;34m\u001b[0m\u001b[0;34m\u001b[0m\u001b[0m\n\u001b[0;32m---> 94\u001b[0;31m             \u001b[0mdenom\u001b[0m \u001b[0;34m=\u001b[0m \u001b[0;34m(\u001b[0m\u001b[0mexp_avg_sq\u001b[0m\u001b[0;34m.\u001b[0m\u001b[0msqrt\u001b[0m\u001b[0;34m(\u001b[0m\u001b[0;34m)\u001b[0m \u001b[0;34m/\u001b[0m \u001b[0mmath\u001b[0m\u001b[0;34m.\u001b[0m\u001b[0msqrt\u001b[0m\u001b[0;34m(\u001b[0m\u001b[0mbias_correction2\u001b[0m\u001b[0;34m)\u001b[0m\u001b[0;34m)\u001b[0m\u001b[0;34m.\u001b[0m\u001b[0madd_\u001b[0m\u001b[0;34m(\u001b[0m\u001b[0meps\u001b[0m\u001b[0;34m)\u001b[0m\u001b[0;34m\u001b[0m\u001b[0;34m\u001b[0m\u001b[0m\n\u001b[0m\u001b[1;32m     95\u001b[0m \u001b[0;34m\u001b[0m\u001b[0m\n\u001b[1;32m     96\u001b[0m         \u001b[0mstep_size\u001b[0m \u001b[0;34m=\u001b[0m \u001b[0mlr\u001b[0m \u001b[0;34m/\u001b[0m \u001b[0mbias_correction1\u001b[0m\u001b[0;34m\u001b[0m\u001b[0;34m\u001b[0m\u001b[0m\n",
            "\u001b[0;31mKeyboardInterrupt\u001b[0m: "
          ]
        }
      ]
    },
    {
      "cell_type": "code",
      "metadata": {
        "id": "BIwtLLClhkvK"
      },
      "source": [
        "x = gen_data(ideal_data, 0.001)"
      ],
      "execution_count": 61,
      "outputs": []
    },
    {
      "cell_type": "code",
      "metadata": {
        "colab": {
          "base_uri": "https://localhost:8080/"
        },
        "id": "mKZb8u7il_7L",
        "outputId": "b5db2923-4ca6-42a6-f5c6-eb2913396ffb"
      },
      "source": [
        "x"
      ],
      "execution_count": 62,
      "outputs": [
        {
          "output_type": "execute_result",
          "data": {
            "text/plain": [
              "array([[0., 1., 0., 1.],\n",
              "       [0., 1., 0., 0.],\n",
              "       [0., 0., 0., 1.],\n",
              "       ...,\n",
              "       [0., 0., 0., 0.],\n",
              "       [0., 0., 0., 0.],\n",
              "       [0., 1., 0., 1.]])"
            ]
          },
          "metadata": {
            "tags": []
          },
          "execution_count": 62
        }
      ]
    }
  ]
}