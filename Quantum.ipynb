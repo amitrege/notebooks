{
  "nbformat": 4,
  "nbformat_minor": 0,
  "metadata": {
    "kernelspec": {
      "display_name": "Python 3",
      "language": "python",
      "name": "python3"
    },
    "language_info": {
      "codemirror_mode": {
        "name": "ipython",
        "version": 3
      },
      "file_extension": ".py",
      "mimetype": "text/x-python",
      "name": "python",
      "nbconvert_exporter": "python",
      "pygments_lexer": "ipython3",
      "version": "3.8.3"
    },
    "colab": {
      "name": "Quantum.ipynb",
      "provenance": []
    }
  },
  "cells": [
    {
      "cell_type": "code",
      "metadata": {
        "id": "Knco-17vnrSR"
      },
      "source": [
        "import torch \n",
        "import torchvision\n",
        "import torch.nn as nn\n",
        "import numpy as np\n",
        "import torchvision.transforms as transforms\n",
        "import matplotlib.pyplot as plt\n",
        "from PIL import Image\n",
        "from sklearn.model_selection import train_test_split\n",
        "from sklearn import svm\n",
        "import pandas as pd\n",
        "from IPython.display import display\n",
        "\n",
        "from __future__ import print_function\n",
        "import os\n",
        "import random\n",
        "import torch.nn.parallel\n",
        "import torch.backends.cudnn as cudnn\n",
        "import torch.optim as optim\n",
        "import torch.utils.data\n",
        "import torchvision.datasets as dset\n",
        "import torchvision.utils as vutils\n",
        "import math"
      ],
      "execution_count": 1,
      "outputs": []
    },
    {
      "cell_type": "code",
      "metadata": {
        "colab": {
          "base_uri": "https://localhost:8080/"
        },
        "id": "UHi2ivTxnyvN",
        "outputId": "7e7137dd-8599-40b5-def9-bbcd365ff929"
      },
      "source": [
        "from google.colab import drive\n",
        "drive.mount('/content/gdrive')"
      ],
      "execution_count": 2,
      "outputs": [
        {
          "output_type": "stream",
          "text": [
            "Mounted at /content/gdrive\n"
          ],
          "name": "stdout"
        }
      ]
    },
    {
      "cell_type": "code",
      "metadata": {
        "colab": {
          "base_uri": "https://localhost:8080/"
        },
        "id": "vsZgEEvznyxs",
        "outputId": "abc18d15-c438-4377-c819-3626bf58a0f5"
      },
      "source": [
        "!cp -r gdrive/MyDrive/QuSense/Papers/Simulated\\ Data\\ from\\ Sarovar\\ et\\ al. sim_data"
      ],
      "execution_count": 3,
      "outputs": [
        {
          "output_type": "stream",
          "text": [
            "cp: cannot open 'gdrive/MyDrive/QuSense/Papers/Simulated Data from Sarovar et al./Format of Data.gdoc' for reading: Operation not supported\n",
            "cp: cannot open 'gdrive/MyDrive/QuSense/Papers/Simulated Data from Sarovar et al./Data Description.gdoc' for reading: Operation not supported\n"
          ],
          "name": "stdout"
        }
      ]
    },
    {
      "cell_type": "code",
      "metadata": {
        "id": "MZk0Lj3gny0i"
      },
      "source": [
        "d = np.load(\"gdrive/MyDrive/QuSense/Papers/Simulated-Data-Sarovar/IdealGates/CTexts_0.npy\", allow_pickle=True)"
      ],
      "execution_count": 11,
      "outputs": []
    },
    {
      "cell_type": "code",
      "metadata": {
        "id": "u04K6YkG8gvz"
      },
      "source": [
        "def setup_data(dir, num_circuits = 20, file_prefix = \"FCTexts_\", dir_with_gates = True):\n",
        "  onlyfiles = next(os.walk(dir))[2] #dir is your directory path as string\n",
        "\n",
        "  if dir_with_gates:\n",
        "    num_files = int(math.ceil((len(onlyfiles) - 1)/3))\n",
        "  else:\n",
        "    num_files = len(onlyfiles)\n",
        "\n",
        "  for i in range(num_files): # Only FC files matter and there is an extra IDs file\n",
        "    # Give unique indexes to each circuit in each file\n",
        "    idx = i*num_circuits\n",
        "    d = np.load(dir + \"/\" + file_prefix + str(i) + \".npy\", allow_pickle=True)\n",
        "    circuits = np.concatenate(d[:,0]).reshape(d.shape[0],2) + np.array([idx,idx+ int(num_circuits/2)]) \n",
        "\n",
        "    # Separate out cicruits and freq\n",
        "    d = d[:,1:]\n",
        "\n",
        "    # Stack\n",
        "    if i == 0:\n",
        "      det_c = np.copy(d)\n",
        "      circ = np.copy(circuits)\n",
        "    else:\n",
        "      det_c = np.vstack((det_c, d))\n",
        "      circ = np.vstack((circ, circuits))\n",
        "\n",
        "  # Normalize frequencies\n",
        "  det_c = det_c/np.max(det_c)\n",
        "  return circ, det_c\n",
        "\n",
        "def create_labels(label, size):\n",
        "  return np.full((size,), label)\n",
        "\n",
        "def create_dataset(features, label):\n",
        "  y = create_labels(label, features.shape[0])\n",
        "  return features, y\n",
        "\n",
        "def combine_datasets(x1, y1, x2, y2):\n",
        "  return np.vstack((x1,x2)), np.concatenate((y1,y2))\n",
        "\n",
        "def binary_comparison_data_pipeline(freq_1, freq_2, test_frac = 0.2):\n",
        "  x1, y1 = create_dataset(freq_1, 1)\n",
        "  x2, y2 = create_dataset(freq_2, 0)\n",
        "  x, y = combine_datasets(x1,y1, x2, y2)\n",
        "  X_train, X_test, y_train, y_test = train_test_split(x, y, test_size=0.2, random_state=42)\n",
        "  return X_train, X_test, y_train, y_test\n",
        "\n",
        "def svm_expt(freq_1, freq_2, test_size = 0.2):\n",
        "  X_train, X_test, y_train, y_test = binary_comparison_data_pipeline(freq_1, freq_2, test_frac = test_size)\n",
        "\n",
        "  clf = svm.SVC()\n",
        "  clf.fit(X_train, y_train)\n",
        "\n",
        "  test_acc = (clf.predict(X_test) == y_test).mean()\n",
        "\n",
        "  return test_acc\n",
        "\n",
        "# Apply binary expt to all possible combinations of data_list and pretty print\n",
        "def create_expt_matrix(dataset_list, data_list, binary_expt):\n",
        "  num_datasets = len(data_list)\n",
        "  expt_matrix = np.zeros((num_datasets, num_datasets))\n",
        "  for i in range(num_datasets):\n",
        "    for j in range(num_datasets):\n",
        "      if (j > i) :\n",
        "        expt_matrix[i][j] = binary_expt(data_list[i][1], data_list[j][1])\n",
        "\n",
        "  # pretty printing\n",
        "  df = pd.DataFrame(expt_matrix, index=dataset_list, columns=dataset_list)\n",
        "  display(df)\n",
        "\n",
        "  return expt_matrix"
      ],
      "execution_count": 3,
      "outputs": []
    },
    {
      "cell_type": "code",
      "metadata": {
        "id": "zxaPRxpFUgOb"
      },
      "source": [
        "ideal_circuits, ideal_freq = setup_data(\"gdrive/MyDrive/QuSense/Papers/Simulated-Data-Sarovar/IdealGates\")\n",
        "a_circuits, a_freq = setup_data(\"gdrive/MyDrive/QuSense/Papers/Simulated-Data-Sarovar/Operation Crosstalk 1 (a)\", dir_with_gates = False)\n",
        "b_circuits, b_freq = setup_data(\"gdrive/MyDrive/QuSense/Papers/Simulated-Data-Sarovar/Operation Crosstalk 2 (b)\", dir_with_gates = False)\n",
        "c_circuits, c_freq = setup_data(\"gdrive/MyDrive/QuSense/Papers/Simulated-Data-Sarovar/Detection Crosstalk (c)\",num_circuits=40, dir_with_gates = False)\n",
        "detx400_circuits, detx400_freq = setup_data(\"gdrive/MyDrive/QuSense/Papers/Simulated-Data-Sarovar/DetX400\", num_circuits=40)\n",
        "detxWithGates_circuits, detxWithGates_freq = setup_data(\"gdrive/MyDrive/QuSense/Papers/Simulated-Data-Sarovar/DetXWithGates\", num_circuits=40)\n",
        "detx100_circuits, detx100_freq = setup_data(\"gdrive/MyDrive/QuSense/Papers/Simulated-Data-Sarovar/DetX100\")\n",
        "xt2WithGates_circuits, xt2WithGates_freq = setup_data(\"gdrive/MyDrive/QuSense/Papers/Simulated-Data-Sarovar/XT2WithGates\")"
      ],
      "execution_count": 139,
      "outputs": []
    },
    {
      "cell_type": "code",
      "metadata": {
        "id": "ESaguss38krG"
      },
      "source": [
        "data_list = []\n",
        "data_list.append(setup_data(\"gdrive/MyDrive/QuSense/Papers/Simulated-Data-Sarovar/IdealGates\"))\n",
        "data_list.append(setup_data(\"gdrive/MyDrive/QuSense/Papers/Simulated-Data-Sarovar/Operation Crosstalk 1 (a)\", dir_with_gates = False))\n",
        "data_list.append(setup_data(\"gdrive/MyDrive/QuSense/Papers/Simulated-Data-Sarovar/Operation Crosstalk 2 (b)\", dir_with_gates = False))\n",
        "data_list.append(setup_data(\"gdrive/MyDrive/QuSense/Papers/Simulated-Data-Sarovar/Detection Crosstalk (c)\",num_circuits=40, dir_with_gates = False))\n",
        "data_list.append(setup_data(\"gdrive/MyDrive/QuSense/Papers/Simulated-Data-Sarovar/DetX400\", num_circuits=40))\n",
        "data_list.append(setup_data(\"gdrive/MyDrive/QuSense/Papers/Simulated-Data-Sarovar/DetXWithGates\", num_circuits=40))\n",
        "data_list.append(setup_data(\"gdrive/MyDrive/QuSense/Papers/Simulated-Data-Sarovar/DetX100\"))\n",
        "data_list.append(setup_data(\"gdrive/MyDrive/QuSense/Papers/Simulated-Data-Sarovar/XT2WithGates\"))\n",
        "\n",
        "datasets = [\"IdealGates\", \"Operation Crosstalk 1 (a)\", \"Operation Crosstalk 2 (b)\", \"Detection Crosstalk (c)\", \"DetX400\", \"DetXWithGates\", \"DetX100\", \"XT2WithGates\"]"
      ],
      "execution_count": 145,
      "outputs": []
    },
    {
      "cell_type": "code",
      "metadata": {
        "colab": {
          "base_uri": "https://localhost:8080/",
          "height": 297
        },
        "id": "bXDnpokAI-J8",
        "outputId": "aedd0bf6-10f0-4d83-c1ef-2ed629b0b814"
      },
      "source": [
        "svm_expt_matrix = create_expt_matrix(datasets, data_list, svm_expt)"
      ],
      "execution_count": 147,
      "outputs": [
        {
          "output_type": "display_data",
          "data": {
            "text/html": [
              "<div>\n",
              "<style scoped>\n",
              "    .dataframe tbody tr th:only-of-type {\n",
              "        vertical-align: middle;\n",
              "    }\n",
              "\n",
              "    .dataframe tbody tr th {\n",
              "        vertical-align: top;\n",
              "    }\n",
              "\n",
              "    .dataframe thead th {\n",
              "        text-align: right;\n",
              "    }\n",
              "</style>\n",
              "<table border=\"1\" class=\"dataframe\">\n",
              "  <thead>\n",
              "    <tr style=\"text-align: right;\">\n",
              "      <th></th>\n",
              "      <th>IdealGates</th>\n",
              "      <th>Operation Crosstalk 1 (a)</th>\n",
              "      <th>Operation Crosstalk 2 (b)</th>\n",
              "      <th>Detection Crosstalk (c)</th>\n",
              "      <th>DetX400</th>\n",
              "      <th>DetXWithGates</th>\n",
              "      <th>DetX100</th>\n",
              "      <th>XT2WithGates</th>\n",
              "    </tr>\n",
              "  </thead>\n",
              "  <tbody>\n",
              "    <tr>\n",
              "      <th>IdealGates</th>\n",
              "      <td>0.0</td>\n",
              "      <td>0.99325</td>\n",
              "      <td>0.51575</td>\n",
              "      <td>1.0</td>\n",
              "      <td>0.795437</td>\n",
              "      <td>1.000000</td>\n",
              "      <td>0.504750</td>\n",
              "      <td>0.488000</td>\n",
              "    </tr>\n",
              "    <tr>\n",
              "      <th>Operation Crosstalk 1 (a)</th>\n",
              "      <td>0.0</td>\n",
              "      <td>0.00000</td>\n",
              "      <td>0.99050</td>\n",
              "      <td>1.0</td>\n",
              "      <td>0.992460</td>\n",
              "      <td>1.000000</td>\n",
              "      <td>0.988250</td>\n",
              "      <td>0.990750</td>\n",
              "    </tr>\n",
              "    <tr>\n",
              "      <th>Operation Crosstalk 2 (b)</th>\n",
              "      <td>0.0</td>\n",
              "      <td>0.00000</td>\n",
              "      <td>0.00000</td>\n",
              "      <td>1.0</td>\n",
              "      <td>0.795437</td>\n",
              "      <td>1.000000</td>\n",
              "      <td>0.500250</td>\n",
              "      <td>0.500750</td>\n",
              "    </tr>\n",
              "    <tr>\n",
              "      <th>Detection Crosstalk (c)</th>\n",
              "      <td>0.0</td>\n",
              "      <td>0.00000</td>\n",
              "      <td>0.00000</td>\n",
              "      <td>0.0</td>\n",
              "      <td>1.000000</td>\n",
              "      <td>0.518346</td>\n",
              "      <td>1.000000</td>\n",
              "      <td>1.000000</td>\n",
              "    </tr>\n",
              "    <tr>\n",
              "      <th>DetX400</th>\n",
              "      <td>0.0</td>\n",
              "      <td>0.00000</td>\n",
              "      <td>0.00000</td>\n",
              "      <td>0.0</td>\n",
              "      <td>0.000000</td>\n",
              "      <td>1.000000</td>\n",
              "      <td>0.804067</td>\n",
              "      <td>0.804067</td>\n",
              "    </tr>\n",
              "    <tr>\n",
              "      <th>DetXWithGates</th>\n",
              "      <td>0.0</td>\n",
              "      <td>0.00000</td>\n",
              "      <td>0.00000</td>\n",
              "      <td>0.0</td>\n",
              "      <td>0.000000</td>\n",
              "      <td>0.000000</td>\n",
              "      <td>1.000000</td>\n",
              "      <td>1.000000</td>\n",
              "    </tr>\n",
              "    <tr>\n",
              "      <th>DetX100</th>\n",
              "      <td>0.0</td>\n",
              "      <td>0.00000</td>\n",
              "      <td>0.00000</td>\n",
              "      <td>0.0</td>\n",
              "      <td>0.000000</td>\n",
              "      <td>0.000000</td>\n",
              "      <td>0.000000</td>\n",
              "      <td>0.502000</td>\n",
              "    </tr>\n",
              "    <tr>\n",
              "      <th>XT2WithGates</th>\n",
              "      <td>0.0</td>\n",
              "      <td>0.00000</td>\n",
              "      <td>0.00000</td>\n",
              "      <td>0.0</td>\n",
              "      <td>0.000000</td>\n",
              "      <td>0.000000</td>\n",
              "      <td>0.000000</td>\n",
              "      <td>0.000000</td>\n",
              "    </tr>\n",
              "  </tbody>\n",
              "</table>\n",
              "</div>"
            ],
            "text/plain": [
              "                           IdealGates  ...  XT2WithGates\n",
              "IdealGates                        0.0  ...      0.488000\n",
              "Operation Crosstalk 1 (a)         0.0  ...      0.990750\n",
              "Operation Crosstalk 2 (b)         0.0  ...      0.500750\n",
              "Detection Crosstalk (c)           0.0  ...      1.000000\n",
              "DetX400                           0.0  ...      0.804067\n",
              "DetXWithGates                     0.0  ...      1.000000\n",
              "DetX100                           0.0  ...      0.502000\n",
              "XT2WithGates                      0.0  ...      0.000000\n",
              "\n",
              "[8 rows x 8 columns]"
            ]
          },
          "metadata": {
            "tags": []
          }
        }
      ]
    },
    {
      "cell_type": "code",
      "metadata": {
        "colab": {
          "base_uri": "https://localhost:8080/"
        },
        "id": "uDkv-huAHCjv",
        "outputId": "360e8778-c86c-4d8e-b229-1bbbbdce76f6"
      },
      "source": [
        "expt_matrix"
      ],
      "execution_count": 137,
      "outputs": [
        {
          "output_type": "execute_result",
          "data": {
            "text/plain": [
              "1"
            ]
          },
          "metadata": {
            "tags": []
          },
          "execution_count": 137
        }
      ]
    },
    {
      "cell_type": "code",
      "metadata": {
        "colab": {
          "base_uri": "https://localhost:8080/"
        },
        "id": "T6YqOEsxGSLd",
        "outputId": "b4c2ccec-b2e3-4566-d0b9-7b8954533e57"
      },
      "source": [
        ""
      ],
      "execution_count": 78,
      "outputs": [
        {
          "output_type": "execute_result",
          "data": {
            "text/plain": [
              "SVC(C=1.0, break_ties=False, cache_size=200, class_weight=None, coef0=0.0,\n",
              "    decision_function_shape='ovr', degree=3, gamma='scale', kernel='rbf',\n",
              "    max_iter=-1, probability=False, random_state=None, shrinking=True,\n",
              "    tol=0.001, verbose=False)"
            ]
          },
          "metadata": {
            "tags": []
          },
          "execution_count": 78
        }
      ]
    },
    {
      "cell_type": "code",
      "metadata": {
        "colab": {
          "base_uri": "https://localhost:8080/"
        },
        "id": "vbr2p1fIAhbO",
        "outputId": "a3024298-9438-44d6-e690-4a196031c908"
      },
      "source": [
        "(clf.predict(X_test) == y_test).mean()"
      ],
      "execution_count": 84,
      "outputs": [
        {
          "output_type": "execute_result",
          "data": {
            "text/plain": [
              "0.99325"
            ]
          },
          "metadata": {
            "tags": []
          },
          "execution_count": 84
        }
      ]
    },
    {
      "cell_type": "code",
      "metadata": {
        "colab": {
          "base_uri": "https://localhost:8080/"
        },
        "id": "T9jRPVsxny3Q",
        "outputId": "bccb290f-44d2-4d3b-f46b-18971f44528d"
      },
      "source": [
        "# (2,10,5,2)\n",
        "d[0]"
      ],
      "execution_count": 17,
      "outputs": [
        {
          "output_type": "execute_result",
          "data": {
            "text/plain": [
              "array([[[0, 4],\n",
              "        [0, 5],\n",
              "        [0, 2],\n",
              "        [0, 6],\n",
              "        [0, 3]],\n",
              "\n",
              "       [[1, 3],\n",
              "        [1, 5],\n",
              "        [1, 2],\n",
              "        [1, 3],\n",
              "        [1, 1]],\n",
              "\n",
              "       [[2, 0],\n",
              "        [2, 9],\n",
              "        [2, 2],\n",
              "        [2, 3],\n",
              "        [2, 9]],\n",
              "\n",
              "       [[3, 6],\n",
              "        [3, 1],\n",
              "        [3, 9],\n",
              "        [3, 2],\n",
              "        [3, 1]],\n",
              "\n",
              "       [[4, 8],\n",
              "        [4, 7],\n",
              "        [4, 8],\n",
              "        [4, 8],\n",
              "        [4, 8]],\n",
              "\n",
              "       [[5, 3],\n",
              "        [5, 2],\n",
              "        [5, 8],\n",
              "        [5, 5],\n",
              "        [5, 6]],\n",
              "\n",
              "       [[6, 6],\n",
              "        [6, 1],\n",
              "        [6, 4],\n",
              "        [6, 9],\n",
              "        [6, 6]],\n",
              "\n",
              "       [[7, 6],\n",
              "        [7, 5],\n",
              "        [7, 3],\n",
              "        [7, 5],\n",
              "        [7, 9]],\n",
              "\n",
              "       [[8, 0],\n",
              "        [8, 5],\n",
              "        [8, 6],\n",
              "        [8, 6],\n",
              "        [8, 3]],\n",
              "\n",
              "       [[9, 0],\n",
              "        [9, 0],\n",
              "        [9, 2],\n",
              "        [9, 6],\n",
              "        [9, 7]]])"
            ]
          },
          "metadata": {
            "tags": []
          },
          "execution_count": 17
        }
      ]
    },
    {
      "cell_type": "code",
      "metadata": {
        "id": "VIn2rDa6ny6A"
      },
      "source": [
        "d1 = np.load(\"gdrive/MyDrive/QuSense/Papers/Simulated-Data-Sarovar/IdealGates/Gates_0.npy\", allow_pickle=True)"
      ],
      "execution_count": 15,
      "outputs": []
    },
    {
      "cell_type": "code",
      "metadata": {
        "colab": {
          "base_uri": "https://localhost:8080/"
        },
        "id": "rOFA-bpr6MBp",
        "outputId": "ab99eb5a-b7ed-4b4f-e0d4-62fec002b48b"
      },
      "source": [
        "#(2,10,30)\n",
        "d1[0]"
      ],
      "execution_count": 18,
      "outputs": [
        {
          "output_type": "execute_result",
          "data": {
            "text/plain": [
              "array([[2, 0, 2, 1, 0, 0, 1, 0, 0, 1, 1, 2, 1, 1, 2, 0, 2, 0, 1, 2, 1, 1,\n",
              "        1, 0, 2, 2, 2, 1, 1, 0],\n",
              "       [1, 0, 2, 0, 1, 2, 0, 0, 1, 1, 2, 0, 0, 2, 0, 2, 2, 0, 1, 1, 1, 2,\n",
              "        1, 1, 1, 1, 1, 2, 1, 2],\n",
              "       [0, 2, 2, 0, 2, 1, 0, 1, 2, 0, 2, 2, 2, 2, 0, 1, 1, 0, 1, 1, 1, 1,\n",
              "        0, 2, 2, 0, 0, 2, 0, 0],\n",
              "       [2, 0, 2, 1, 2, 1, 1, 1, 1, 2, 1, 1, 1, 1, 0, 0, 2, 1, 1, 2, 0, 1,\n",
              "        0, 0, 1, 2, 2, 2, 0, 2],\n",
              "       [2, 0, 2, 1, 0, 2, 2, 2, 2, 2, 1, 1, 0, 1, 0, 0, 0, 2, 0, 0, 0, 1,\n",
              "        2, 2, 0, 0, 0, 0, 2, 2],\n",
              "       [2, 0, 1, 2, 2, 2, 0, 0, 2, 0, 1, 0, 0, 0, 1, 2, 0, 2, 1, 2, 0, 1,\n",
              "        0, 1, 1, 0, 2, 0, 1, 1],\n",
              "       [2, 1, 0, 2, 2, 1, 0, 0, 2, 0, 0, 2, 0, 1, 2, 2, 2, 0, 0, 1, 2, 1,\n",
              "        2, 2, 2, 2, 0, 2, 1, 2],\n",
              "       [2, 0, 0, 2, 1, 1, 1, 0, 0, 1, 2, 1, 2, 2, 2, 1, 0, 1, 0, 2, 1, 0,\n",
              "        2, 1, 0, 2, 0, 0, 0, 1],\n",
              "       [2, 0, 0, 2, 2, 0, 0, 2, 2, 1, 2, 1, 0, 2, 1, 1, 0, 2, 2, 0, 0, 2,\n",
              "        2, 2, 0, 2, 0, 2, 2, 0],\n",
              "       [2, 0, 2, 0, 0, 1, 1, 1, 0, 0, 2, 2, 0, 2, 0, 1, 0, 2, 2, 1, 2, 2,\n",
              "        0, 0, 1, 2, 1, 0, 0, 2]])"
            ]
          },
          "metadata": {
            "tags": []
          },
          "execution_count": 18
        }
      ]
    },
    {
      "cell_type": "code",
      "metadata": {
        "id": "NM7Lv6J97h_P"
      },
      "source": [
        "d2 = np.load(\"gdrive/MyDrive/QuSense/Papers/Simulated-Data-Sarovar/DetXWithGates/FCTexts_0.npy\", allow_pickle=True)"
      ],
      "execution_count": 4,
      "outputs": []
    },
    {
      "cell_type": "code",
      "metadata": {
        "colab": {
          "base_uri": "https://localhost:8080/"
        },
        "id": "ag8iWrEA7lhO",
        "outputId": "9bfe0eed-af96-4011-8d87-e1f11e944ddc"
      },
      "source": [
        "d2[:20]"
      ],
      "execution_count": 5,
      "outputs": [
        {
          "output_type": "execute_result",
          "data": {
            "text/plain": [
              "array([[array([ 0, 16]), 24868, 25069, 25371.0, 24692.0],\n",
              "       [array([ 0, 13]), 24851, 25133, 24861.0, 25155.0],\n",
              "       [array([ 0, 13]), 25051, 25099, 24966.0, 24884.0],\n",
              "       [array([0, 1]), 47414, 47773, 2410.0, 2403.0],\n",
              "       [array([ 0, 11]), 25067, 25063, 25007.0, 24863.0],\n",
              "       [array([0, 9]), 2365, 2428, 47872.0, 47335.0],\n",
              "       [array([0, 4]), 25077, 24917, 25162.0, 24844.0],\n",
              "       [array([0, 7]), 25061, 24958, 25172.0, 24809.0],\n",
              "       [array([0, 9]), 2302, 2400, 47670.0, 47628.0],\n",
              "       [array([0, 0]), 24951, 24746, 25288.0, 25015.0],\n",
              "       [array([ 1, 17]), 25068, 24999, 24881.0, 25052.0],\n",
              "       [array([ 1, 17]), 24944, 25153, 24771.0, 25132.0],\n",
              "       [array([1, 0]), 25117, 25080, 24615.0, 25188.0],\n",
              "       [array([ 1, 12]), 2419, 2391, 47644.0, 47546.0],\n",
              "       [array([ 1, 15]), 47657, 47567, 2389.0, 2387.0],\n",
              "       [array([1, 7]), 25025, 24809, 24904.0, 25262.0],\n",
              "       [array([ 1, 12]), 2333, 2315, 47814.0, 47538.0],\n",
              "       [array([1, 3]), 25137, 24821, 24915.0, 25127.0],\n",
              "       [array([ 1, 12]), 2401, 2376, 47640.0, 47583.0],\n",
              "       [array([1, 0]), 25073, 24937, 24839.0, 25151.0]], dtype=object)"
            ]
          },
          "metadata": {
            "tags": []
          },
          "execution_count": 5
        }
      ]
    }
  ]
}