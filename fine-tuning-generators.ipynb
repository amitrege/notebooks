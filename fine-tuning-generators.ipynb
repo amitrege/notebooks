{
  "nbformat": 4,
  "nbformat_minor": 0,
  "metadata": {
    "colab": {
      "name": "fine-tuning-generators.ipynb",
      "provenance": []
    },
    "kernelspec": {
      "name": "python3",
      "display_name": "Python 3"
    },
    "accelerator": "GPU"
  },
  "cells": [
    {
      "cell_type": "markdown",
      "metadata": {
        "id": "skFOEJD6BL2A",
        "colab_type": "text"
      },
      "source": [
        "# Imports"
      ]
    },
    {
      "cell_type": "code",
      "metadata": {
        "id": "FsLKlwYOBMLv",
        "colab_type": "code",
        "colab": {}
      },
      "source": [
        "import torch \n",
        "import torchvision\n",
        "import torch.nn as nn\n",
        "import numpy as np\n",
        "import torchvision.transforms as transforms\n",
        "import matplotlib.pyplot as plt\n",
        "from PIL import Image"
      ],
      "execution_count": 0,
      "outputs": []
    },
    {
      "cell_type": "markdown",
      "metadata": {
        "id": "3GOR3gBLDJ0e",
        "colab_type": "text"
      },
      "source": [
        "# Login "
      ]
    },
    {
      "cell_type": "code",
      "metadata": {
        "id": "CT3dQ-A4DJqq",
        "colab_type": "code",
        "colab": {
          "base_uri": "https://localhost:8080/",
          "height": 122
        },
        "outputId": "b92c4fc4-44c1-4968-bb1f-8d7d0028677d"
      },
      "source": [
        "from google.colab import drive\n",
        "drive.mount('/content/gdrive')"
      ],
      "execution_count": 2,
      "outputs": [
        {
          "output_type": "stream",
          "text": [
            "Go to this URL in a browser: https://accounts.google.com/o/oauth2/auth?client_id=947318989803-6bn6qk8qdgf4n4g3pfee6491hc0brc4i.apps.googleusercontent.com&redirect_uri=urn%3aietf%3awg%3aoauth%3a2.0%3aoob&response_type=code&scope=email%20https%3a%2f%2fwww.googleapis.com%2fauth%2fdocs.test%20https%3a%2f%2fwww.googleapis.com%2fauth%2fdrive%20https%3a%2f%2fwww.googleapis.com%2fauth%2fdrive.photos.readonly%20https%3a%2f%2fwww.googleapis.com%2fauth%2fpeopleapi.readonly\n",
            "\n",
            "Enter your authorization code:\n",
            "··········\n",
            "Mounted at /content/gdrive\n"
          ],
          "name": "stdout"
        }
      ]
    },
    {
      "cell_type": "code",
      "metadata": {
        "id": "RUIYQRTkDcns",
        "colab_type": "code",
        "colab": {}
      },
      "source": [
        ""
      ],
      "execution_count": 0,
      "outputs": []
    },
    {
      "cell_type": "markdown",
      "metadata": {
        "id": "DlWW18WZBRpK",
        "colab_type": "text"
      },
      "source": [
        "# Basic GAN (FF+ MNIST)"
      ]
    },
    {
      "cell_type": "markdown",
      "metadata": {
        "id": "_YIb0no_x1OZ",
        "colab_type": "text"
      },
      "source": [
        "## Training Setup"
      ]
    },
    {
      "cell_type": "code",
      "metadata": {
        "id": "OUfPCw2-BRzd",
        "colab_type": "code",
        "colab": {}
      },
      "source": [
        "# Device configuration\n",
        "device = torch.device('cuda' if torch.cuda.is_available() else 'cpu')\n",
        "\n",
        "# Hyper-parameters\n",
        "latent_size = 64\n",
        "hidden_size = 256\n",
        "image_size = 784\n",
        "num_epochs = 200\n",
        "batch_size = 100\n",
        "sample_dir = 'samples'\n",
        "\n",
        "# Discriminator\n",
        "D = nn.Sequential(\n",
        "    nn.Linear(image_size, hidden_size),\n",
        "    nn.LeakyReLU(0.2),\n",
        "    nn.Linear(hidden_size, hidden_size),\n",
        "    nn.LeakyReLU(0.2),\n",
        "    nn.Linear(hidden_size, 1),\n",
        "    nn.Sigmoid())\n",
        "\n",
        "# Generator \n",
        "G = nn.Sequential(\n",
        "    nn.Linear(latent_size, hidden_size),\n",
        "    nn.ReLU(),\n",
        "    nn.Linear(hidden_size, hidden_size),\n",
        "    nn.ReLU(),\n",
        "    nn.Linear(hidden_size, image_size),\n",
        "    nn.Tanh())\n",
        "\n",
        "# Device setting\n",
        "D = D.to(device)\n",
        "G = G.to(device)\n",
        "\n",
        "# Binary cross entropy loss and optimizer\n",
        "criterion = nn.BCELoss()\n",
        "d_optimizer = torch.optim.Adam(D.parameters(), lr=0.0002)\n",
        "g_optimizer = torch.optim.Adam(G.parameters(), lr=0.0002)\n",
        "\n",
        "def denorm(x):\n",
        "    out = (x + 1) / 2\n",
        "    return out.clamp(0, 1)\n",
        "\n",
        "def reset_grad():\n",
        "    d_optimizer.zero_grad()\n",
        "    g_optimizer.zero_grad()"
      ],
      "execution_count": 0,
      "outputs": []
    },
    {
      "cell_type": "markdown",
      "metadata": {
        "id": "_koXChXGyg96",
        "colab_type": "text"
      },
      "source": [
        "## Load Mnist dataset (and data loader)"
      ]
    },
    {
      "cell_type": "code",
      "metadata": {
        "id": "MFpS1fHwyfAC",
        "colab_type": "code",
        "colab": {
          "base_uri": "https://localhost:8080/",
          "height": 255
        },
        "outputId": "83d1a338-7cc3-4004-84e7-e1f4d0aa2a72"
      },
      "source": [
        "# Image processing\n",
        "transform = transforms.Compose([\n",
        "                transforms.ToTensor(),\n",
        "                transforms.Normalize(mean=(0.5,), \n",
        "                                     std=(0.5,))])\n",
        "\n",
        "# MNIST dataset\n",
        "mnist = torchvision.datasets.MNIST(root='../../data/',\n",
        "                                   train=True,\n",
        "                                   transform=transform,\n",
        "                                   download=True)\n",
        "\n",
        "# Data loader\n",
        "data_loader = torch.utils.data.DataLoader(dataset=mnist,\n",
        "                                          batch_size=batch_size, \n",
        "                                          shuffle=True)\n",
        "\n",
        "total_step = len(data_loader)"
      ],
      "execution_count": 5,
      "outputs": [
        {
          "output_type": "stream",
          "text": [
            "\r0it [00:00, ?it/s]"
          ],
          "name": "stderr"
        },
        {
          "output_type": "stream",
          "text": [
            "Downloading http://yann.lecun.com/exdb/mnist/train-images-idx3-ubyte.gz to ../../data/MNIST/raw/train-images-idx3-ubyte.gz\n"
          ],
          "name": "stdout"
        },
        {
          "output_type": "stream",
          "text": [
            "9920512it [00:00, 10891290.89it/s]                           \n"
          ],
          "name": "stderr"
        },
        {
          "output_type": "stream",
          "text": [
            "Extracting ../../data/MNIST/raw/train-images-idx3-ubyte.gz to ../../data/MNIST/raw\n"
          ],
          "name": "stdout"
        },
        {
          "output_type": "stream",
          "text": [
            "  0%|          | 0/28881 [00:00<?, ?it/s]"
          ],
          "name": "stderr"
        },
        {
          "output_type": "stream",
          "text": [
            "Downloading http://yann.lecun.com/exdb/mnist/train-labels-idx1-ubyte.gz to ../../data/MNIST/raw/train-labels-idx1-ubyte.gz\n"
          ],
          "name": "stdout"
        },
        {
          "output_type": "stream",
          "text": [
            "32768it [00:00, 164634.22it/s]           \n",
            "  0%|          | 0/1648877 [00:00<?, ?it/s]"
          ],
          "name": "stderr"
        },
        {
          "output_type": "stream",
          "text": [
            "Extracting ../../data/MNIST/raw/train-labels-idx1-ubyte.gz to ../../data/MNIST/raw\n",
            "Downloading http://yann.lecun.com/exdb/mnist/t10k-images-idx3-ubyte.gz to ../../data/MNIST/raw/t10k-images-idx3-ubyte.gz\n"
          ],
          "name": "stdout"
        },
        {
          "output_type": "stream",
          "text": [
            "1654784it [00:00, 2671396.39it/s]                           \n",
            "8192it [00:00, 62933.15it/s]            \n"
          ],
          "name": "stderr"
        },
        {
          "output_type": "stream",
          "text": [
            "Extracting ../../data/MNIST/raw/t10k-images-idx3-ubyte.gz to ../../data/MNIST/raw\n",
            "Downloading http://yann.lecun.com/exdb/mnist/t10k-labels-idx1-ubyte.gz to ../../data/MNIST/raw/t10k-labels-idx1-ubyte.gz\n",
            "Extracting ../../data/MNIST/raw/t10k-labels-idx1-ubyte.gz to ../../data/MNIST/raw\n",
            "Processing...\n",
            "Done!\n"
          ],
          "name": "stdout"
        }
      ]
    },
    {
      "cell_type": "markdown",
      "metadata": {
        "id": "_kdUHLtoy47Q",
        "colab_type": "text"
      },
      "source": [
        "## Load Pretrained Model (Optional)"
      ]
    },
    {
      "cell_type": "code",
      "metadata": {
        "id": "2cewvNzHy5QR",
        "colab_type": "code",
        "colab": {
          "base_uri": "https://localhost:8080/",
          "height": 34
        },
        "outputId": "f92c3c36-c532-45e1-bc2b-a4faf8e47ab1"
      },
      "source": [
        "# Load D and G\n",
        "D.load_state_dict(torch.load('gdrive/My Drive/fine-tuning-generators/ff+mnist/D_200.ckpt'))\n",
        "G.load_state_dict(torch.load('gdrive/My Drive/fine-tuning-generators/ff+mnist/G_200.ckpt'))"
      ],
      "execution_count": 6,
      "outputs": [
        {
          "output_type": "execute_result",
          "data": {
            "text/plain": [
              "<All keys matched successfully>"
            ]
          },
          "metadata": {
            "tags": []
          },
          "execution_count": 6
        }
      ]
    },
    {
      "cell_type": "markdown",
      "metadata": {
        "id": "ah8tUIYlyrJd",
        "colab_type": "text"
      },
      "source": [
        "## Main Training Loop"
      ]
    },
    {
      "cell_type": "code",
      "metadata": {
        "id": "6f_fAgdIy0Tk",
        "colab_type": "code",
        "colab": {
          "base_uri": "https://localhost:8080/",
          "height": 1000
        },
        "outputId": "5b4fa1e5-c567-433f-df2b-b35a3b6c5dba"
      },
      "source": [
        "g_loss_list = []\n",
        "e = []\n",
        "d_loss_real_list = []\n",
        "d_loss_fake_list = []\n",
        "for epoch in range(num_epochs):\n",
        "    e.append(epoch)\n",
        "    for i, (images, _) in enumerate(data_loader):\n",
        "        print(images.shape)\n",
        "        images = images.reshape(batch_size, -1).to(device)\n",
        "        # Create the labels which are later used as input for the BCE loss\n",
        "        real_labels = torch.ones(batch_size, 1).to(device)\n",
        "        fake_labels = torch.zeros(batch_size, 1).to(device)\n",
        "\n",
        "        # ================================================================== #\n",
        "        #                      Train the discriminator                       #\n",
        "        # ================================================================== #\n",
        "\n",
        "        # Compute BCE_Loss using real images where BCE_Loss(x, y): - y * log(D(x)) - (1-y) * log(1 - D(x))\n",
        "        # Second term of the loss is always zero since real_labels == 1\n",
        "        outputs = D(images)\n",
        "        d_loss_real = criterion(outputs, real_labels)\n",
        "        if i == total_step - 1:\n",
        "            d_loss_real_list.append(d_loss_real)\n",
        "        real_score = outputs\n",
        "        \n",
        "        # Compute BCELoss using fake images\n",
        "        # First term of the loss is always zero since fake_labels == 0\n",
        "        z = torch.randn(batch_size, latent_size).to(device)\n",
        "        fake_images = G(z)\n",
        "        outputs = D(fake_images)\n",
        "        d_loss_fake = criterion(outputs, fake_labels)\n",
        "        if i == total_step - 1:\n",
        "            d_loss_fake_list.append(d_loss_fake)\n",
        "        fake_score = outputs\n",
        "        \n",
        "        # Backprop and optimize\n",
        "        d_loss = d_loss_real + d_loss_fake\n",
        "        reset_grad()\n",
        "        d_loss.backward()\n",
        "        d_optimizer.step()\n",
        "        \n",
        "        # ================================================================== #\n",
        "        #                        Train the generator                         #\n",
        "        # ================================================================== #\n",
        "\n",
        "        # Compute loss with fake images\n",
        "        z = torch.randn(batch_size, latent_size).to(device)\n",
        "        fake_images = G(z)\n",
        "        outputs = D(fake_images)\n",
        "        \n",
        "        # We train G to maximize log(D(G(z)) instead of minimizing log(1-D(G(z)))\n",
        "        # For the reason, see the last paragraph of section 3. https://arxiv.org/pdf/1406.2661.pdf\n",
        "        g_loss = criterion(outputs, real_labels)\n",
        "        if i == total_step - 1:\n",
        "            g_loss_list.append(g_loss)\n",
        "\n",
        "        # Backprop and optimize\n",
        "        reset_grad()\n",
        "        g_loss.backward()\n",
        "        g_optimizer.step()\n",
        "        \n",
        "        if (i+1) % 200 == 0:\n",
        "            print('Epoch [{}/{}], Step [{}/{}], d_loss: {:.4f}, g_loss: {:.4f}, D(x): {:.2f}, D(G(z)): {:.2f}' \n",
        "                  .format(epoch, num_epochs, i+1, total_step, d_loss.item(), g_loss.item(), \n",
        "                          real_score.mean().item(), fake_score.mean().item()))\n",
        "    \n",
        "    \n",
        "    # Reshape sampled images\n",
        "    fake_images = fake_images.reshape(fake_images.size(0), 1, 28, 28)\n",
        "\n",
        "    fake_images_clone = fake_images.clone()\n",
        "    im = denorm(fake_images_clone[0]).cpu().detach().numpy()\n",
        "    im = (im * 255).astype(np.uint8)\n",
        "    im = im.reshape((28, 28))\n",
        "    imgplot = plt.imshow(im, cmap='gray')\n",
        "    plt.show()\n",
        "\n",
        "    plt.plot(e, d_loss_real_list, 'b-', label = 'd_loss_real')\n",
        "    plt.plot(e, d_loss_fake_list, 'g-', label = 'd_loss_fake') \n",
        "    plt.plot(e, g_loss_list, 'r-', label = 'g_loss')\n",
        "    plt.legend()\n",
        "    plt.show()\n",
        "\n",
        "# Save the model checkpoints \n",
        "torch.save(G.state_dict(), 'gdrive/My Drive/fine-tuning-generators/ff+mnist/G_200.ckpt')\n",
        "torch.save(D.state_dict(), 'gdrive/My Drive/fine-tuning-generators/ff+mnist/D_200.ckpt')"
      ],
      "execution_count": 16,
      "outputs": [
        {
          "output_type": "stream",
          "text": [
            "torch.Size([100, 1, 28, 28])\n",
            "torch.Size([100, 1, 28, 28])\n",
            "torch.Size([100, 1, 28, 28])\n",
            "torch.Size([100, 1, 28, 28])\n",
            "torch.Size([100, 1, 28, 28])\n",
            "torch.Size([100, 1, 28, 28])\n",
            "torch.Size([100, 1, 28, 28])\n",
            "torch.Size([100, 1, 28, 28])\n",
            "torch.Size([100, 1, 28, 28])\n",
            "torch.Size([100, 1, 28, 28])\n",
            "torch.Size([100, 1, 28, 28])\n",
            "torch.Size([100, 1, 28, 28])\n",
            "torch.Size([100, 1, 28, 28])\n",
            "torch.Size([100, 1, 28, 28])\n",
            "torch.Size([100, 1, 28, 28])\n",
            "torch.Size([100, 1, 28, 28])\n",
            "torch.Size([100, 1, 28, 28])\n",
            "torch.Size([100, 1, 28, 28])\n",
            "torch.Size([100, 1, 28, 28])\n",
            "torch.Size([100, 1, 28, 28])\n",
            "torch.Size([100, 1, 28, 28])\n",
            "torch.Size([100, 1, 28, 28])\n",
            "torch.Size([100, 1, 28, 28])\n",
            "torch.Size([100, 1, 28, 28])\n",
            "torch.Size([100, 1, 28, 28])\n",
            "torch.Size([100, 1, 28, 28])\n",
            "torch.Size([100, 1, 28, 28])\n",
            "torch.Size([100, 1, 28, 28])\n",
            "torch.Size([100, 1, 28, 28])\n",
            "torch.Size([100, 1, 28, 28])\n",
            "torch.Size([100, 1, 28, 28])\n",
            "torch.Size([100, 1, 28, 28])\n",
            "torch.Size([100, 1, 28, 28])\n",
            "torch.Size([100, 1, 28, 28])\n",
            "torch.Size([100, 1, 28, 28])\n",
            "torch.Size([100, 1, 28, 28])\n",
            "torch.Size([100, 1, 28, 28])\n",
            "torch.Size([100, 1, 28, 28])\n",
            "torch.Size([100, 1, 28, 28])\n",
            "torch.Size([100, 1, 28, 28])\n",
            "torch.Size([100, 1, 28, 28])\n",
            "torch.Size([100, 1, 28, 28])\n",
            "torch.Size([100, 1, 28, 28])\n",
            "torch.Size([100, 1, 28, 28])\n",
            "torch.Size([100, 1, 28, 28])\n",
            "torch.Size([100, 1, 28, 28])\n",
            "torch.Size([100, 1, 28, 28])\n",
            "torch.Size([100, 1, 28, 28])\n",
            "torch.Size([100, 1, 28, 28])\n",
            "torch.Size([100, 1, 28, 28])\n",
            "torch.Size([100, 1, 28, 28])\n",
            "torch.Size([100, 1, 28, 28])\n",
            "torch.Size([100, 1, 28, 28])\n",
            "torch.Size([100, 1, 28, 28])\n",
            "torch.Size([100, 1, 28, 28])\n",
            "torch.Size([100, 1, 28, 28])\n",
            "torch.Size([100, 1, 28, 28])\n",
            "torch.Size([100, 1, 28, 28])\n",
            "torch.Size([100, 1, 28, 28])\n",
            "torch.Size([100, 1, 28, 28])\n",
            "torch.Size([100, 1, 28, 28])\n",
            "torch.Size([100, 1, 28, 28])\n",
            "torch.Size([100, 1, 28, 28])\n",
            "torch.Size([100, 1, 28, 28])\n",
            "torch.Size([100, 1, 28, 28])\n",
            "torch.Size([100, 1, 28, 28])\n",
            "torch.Size([100, 1, 28, 28])\n",
            "torch.Size([100, 1, 28, 28])\n",
            "torch.Size([100, 1, 28, 28])\n",
            "torch.Size([100, 1, 28, 28])\n",
            "torch.Size([100, 1, 28, 28])\n",
            "torch.Size([100, 1, 28, 28])\n",
            "torch.Size([100, 1, 28, 28])\n",
            "torch.Size([100, 1, 28, 28])\n",
            "torch.Size([100, 1, 28, 28])\n",
            "torch.Size([100, 1, 28, 28])\n",
            "torch.Size([100, 1, 28, 28])\n",
            "torch.Size([100, 1, 28, 28])\n",
            "torch.Size([100, 1, 28, 28])\n",
            "torch.Size([100, 1, 28, 28])\n",
            "torch.Size([100, 1, 28, 28])\n",
            "torch.Size([100, 1, 28, 28])\n",
            "torch.Size([100, 1, 28, 28])\n",
            "torch.Size([100, 1, 28, 28])\n",
            "torch.Size([100, 1, 28, 28])\n",
            "torch.Size([100, 1, 28, 28])\n",
            "torch.Size([100, 1, 28, 28])\n",
            "torch.Size([100, 1, 28, 28])\n",
            "torch.Size([100, 1, 28, 28])\n",
            "torch.Size([100, 1, 28, 28])\n",
            "torch.Size([100, 1, 28, 28])\n",
            "torch.Size([100, 1, 28, 28])\n",
            "torch.Size([100, 1, 28, 28])\n",
            "torch.Size([100, 1, 28, 28])\n",
            "torch.Size([100, 1, 28, 28])\n",
            "torch.Size([100, 1, 28, 28])\n",
            "torch.Size([100, 1, 28, 28])\n",
            "torch.Size([100, 1, 28, 28])\n",
            "torch.Size([100, 1, 28, 28])\n",
            "torch.Size([100, 1, 28, 28])\n",
            "torch.Size([100, 1, 28, 28])\n",
            "torch.Size([100, 1, 28, 28])\n",
            "torch.Size([100, 1, 28, 28])\n",
            "torch.Size([100, 1, 28, 28])\n",
            "torch.Size([100, 1, 28, 28])\n",
            "torch.Size([100, 1, 28, 28])\n",
            "torch.Size([100, 1, 28, 28])\n",
            "torch.Size([100, 1, 28, 28])\n",
            "torch.Size([100, 1, 28, 28])\n",
            "torch.Size([100, 1, 28, 28])\n",
            "torch.Size([100, 1, 28, 28])\n",
            "torch.Size([100, 1, 28, 28])\n",
            "torch.Size([100, 1, 28, 28])\n",
            "torch.Size([100, 1, 28, 28])\n",
            "torch.Size([100, 1, 28, 28])\n",
            "torch.Size([100, 1, 28, 28])\n",
            "torch.Size([100, 1, 28, 28])\n",
            "torch.Size([100, 1, 28, 28])\n",
            "torch.Size([100, 1, 28, 28])\n",
            "torch.Size([100, 1, 28, 28])\n",
            "torch.Size([100, 1, 28, 28])\n",
            "torch.Size([100, 1, 28, 28])\n",
            "torch.Size([100, 1, 28, 28])\n",
            "torch.Size([100, 1, 28, 28])\n",
            "torch.Size([100, 1, 28, 28])\n",
            "torch.Size([100, 1, 28, 28])\n",
            "torch.Size([100, 1, 28, 28])\n",
            "torch.Size([100, 1, 28, 28])\n",
            "torch.Size([100, 1, 28, 28])\n",
            "torch.Size([100, 1, 28, 28])\n",
            "torch.Size([100, 1, 28, 28])\n",
            "torch.Size([100, 1, 28, 28])\n",
            "torch.Size([100, 1, 28, 28])\n",
            "torch.Size([100, 1, 28, 28])\n",
            "torch.Size([100, 1, 28, 28])\n",
            "torch.Size([100, 1, 28, 28])\n",
            "torch.Size([100, 1, 28, 28])\n",
            "torch.Size([100, 1, 28, 28])\n",
            "torch.Size([100, 1, 28, 28])\n",
            "torch.Size([100, 1, 28, 28])\n",
            "torch.Size([100, 1, 28, 28])\n",
            "torch.Size([100, 1, 28, 28])\n",
            "torch.Size([100, 1, 28, 28])\n",
            "torch.Size([100, 1, 28, 28])\n",
            "torch.Size([100, 1, 28, 28])\n",
            "torch.Size([100, 1, 28, 28])\n",
            "torch.Size([100, 1, 28, 28])\n",
            "torch.Size([100, 1, 28, 28])\n",
            "torch.Size([100, 1, 28, 28])\n",
            "torch.Size([100, 1, 28, 28])\n",
            "torch.Size([100, 1, 28, 28])\n",
            "torch.Size([100, 1, 28, 28])\n",
            "torch.Size([100, 1, 28, 28])\n",
            "torch.Size([100, 1, 28, 28])\n",
            "torch.Size([100, 1, 28, 28])\n",
            "torch.Size([100, 1, 28, 28])\n",
            "torch.Size([100, 1, 28, 28])\n",
            "torch.Size([100, 1, 28, 28])\n",
            "torch.Size([100, 1, 28, 28])\n",
            "torch.Size([100, 1, 28, 28])\n",
            "torch.Size([100, 1, 28, 28])\n",
            "torch.Size([100, 1, 28, 28])\n",
            "torch.Size([100, 1, 28, 28])\n",
            "torch.Size([100, 1, 28, 28])\n",
            "torch.Size([100, 1, 28, 28])\n",
            "torch.Size([100, 1, 28, 28])\n",
            "torch.Size([100, 1, 28, 28])\n",
            "torch.Size([100, 1, 28, 28])\n",
            "torch.Size([100, 1, 28, 28])\n",
            "torch.Size([100, 1, 28, 28])\n",
            "torch.Size([100, 1, 28, 28])\n",
            "torch.Size([100, 1, 28, 28])\n",
            "torch.Size([100, 1, 28, 28])\n",
            "torch.Size([100, 1, 28, 28])\n",
            "torch.Size([100, 1, 28, 28])\n",
            "torch.Size([100, 1, 28, 28])\n",
            "torch.Size([100, 1, 28, 28])\n",
            "torch.Size([100, 1, 28, 28])\n",
            "torch.Size([100, 1, 28, 28])\n",
            "torch.Size([100, 1, 28, 28])\n",
            "torch.Size([100, 1, 28, 28])\n",
            "torch.Size([100, 1, 28, 28])\n",
            "torch.Size([100, 1, 28, 28])\n",
            "torch.Size([100, 1, 28, 28])\n",
            "torch.Size([100, 1, 28, 28])\n",
            "torch.Size([100, 1, 28, 28])\n",
            "torch.Size([100, 1, 28, 28])\n",
            "torch.Size([100, 1, 28, 28])\n",
            "torch.Size([100, 1, 28, 28])\n",
            "torch.Size([100, 1, 28, 28])\n",
            "torch.Size([100, 1, 28, 28])\n",
            "torch.Size([100, 1, 28, 28])\n",
            "torch.Size([100, 1, 28, 28])\n",
            "torch.Size([100, 1, 28, 28])\n",
            "torch.Size([100, 1, 28, 28])\n",
            "torch.Size([100, 1, 28, 28])\n",
            "torch.Size([100, 1, 28, 28])\n",
            "torch.Size([100, 1, 28, 28])\n",
            "torch.Size([100, 1, 28, 28])\n",
            "torch.Size([100, 1, 28, 28])\n",
            "Epoch [0/200], Step [200/600], d_loss: 1.0601, g_loss: 2.0061, D(x): 0.60, D(G(z)): 0.22\n",
            "torch.Size([100, 1, 28, 28])\n",
            "torch.Size([100, 1, 28, 28])\n",
            "torch.Size([100, 1, 28, 28])\n",
            "torch.Size([100, 1, 28, 28])\n",
            "torch.Size([100, 1, 28, 28])\n",
            "torch.Size([100, 1, 28, 28])\n",
            "torch.Size([100, 1, 28, 28])\n",
            "torch.Size([100, 1, 28, 28])\n",
            "torch.Size([100, 1, 28, 28])\n",
            "torch.Size([100, 1, 28, 28])\n",
            "torch.Size([100, 1, 28, 28])\n",
            "torch.Size([100, 1, 28, 28])\n",
            "torch.Size([100, 1, 28, 28])\n",
            "torch.Size([100, 1, 28, 28])\n",
            "torch.Size([100, 1, 28, 28])\n",
            "torch.Size([100, 1, 28, 28])\n",
            "torch.Size([100, 1, 28, 28])\n",
            "torch.Size([100, 1, 28, 28])\n",
            "torch.Size([100, 1, 28, 28])\n",
            "torch.Size([100, 1, 28, 28])\n",
            "torch.Size([100, 1, 28, 28])\n",
            "torch.Size([100, 1, 28, 28])\n",
            "torch.Size([100, 1, 28, 28])\n",
            "torch.Size([100, 1, 28, 28])\n",
            "torch.Size([100, 1, 28, 28])\n",
            "torch.Size([100, 1, 28, 28])\n",
            "torch.Size([100, 1, 28, 28])\n",
            "torch.Size([100, 1, 28, 28])\n",
            "torch.Size([100, 1, 28, 28])\n",
            "torch.Size([100, 1, 28, 28])\n",
            "torch.Size([100, 1, 28, 28])\n",
            "torch.Size([100, 1, 28, 28])\n",
            "torch.Size([100, 1, 28, 28])\n",
            "torch.Size([100, 1, 28, 28])\n",
            "torch.Size([100, 1, 28, 28])\n",
            "torch.Size([100, 1, 28, 28])\n",
            "torch.Size([100, 1, 28, 28])\n",
            "torch.Size([100, 1, 28, 28])\n",
            "torch.Size([100, 1, 28, 28])\n",
            "torch.Size([100, 1, 28, 28])\n",
            "torch.Size([100, 1, 28, 28])\n",
            "torch.Size([100, 1, 28, 28])\n",
            "torch.Size([100, 1, 28, 28])\n",
            "torch.Size([100, 1, 28, 28])\n",
            "torch.Size([100, 1, 28, 28])\n",
            "torch.Size([100, 1, 28, 28])\n",
            "torch.Size([100, 1, 28, 28])\n",
            "torch.Size([100, 1, 28, 28])\n",
            "torch.Size([100, 1, 28, 28])\n",
            "torch.Size([100, 1, 28, 28])\n",
            "torch.Size([100, 1, 28, 28])\n",
            "torch.Size([100, 1, 28, 28])\n",
            "torch.Size([100, 1, 28, 28])\n",
            "torch.Size([100, 1, 28, 28])\n",
            "torch.Size([100, 1, 28, 28])\n",
            "torch.Size([100, 1, 28, 28])\n",
            "torch.Size([100, 1, 28, 28])\n",
            "torch.Size([100, 1, 28, 28])\n",
            "torch.Size([100, 1, 28, 28])\n",
            "torch.Size([100, 1, 28, 28])\n",
            "torch.Size([100, 1, 28, 28])\n",
            "torch.Size([100, 1, 28, 28])\n",
            "torch.Size([100, 1, 28, 28])\n",
            "torch.Size([100, 1, 28, 28])\n",
            "torch.Size([100, 1, 28, 28])\n",
            "torch.Size([100, 1, 28, 28])\n",
            "torch.Size([100, 1, 28, 28])\n",
            "torch.Size([100, 1, 28, 28])\n",
            "torch.Size([100, 1, 28, 28])\n",
            "torch.Size([100, 1, 28, 28])\n",
            "torch.Size([100, 1, 28, 28])\n",
            "torch.Size([100, 1, 28, 28])\n",
            "torch.Size([100, 1, 28, 28])\n",
            "torch.Size([100, 1, 28, 28])\n",
            "torch.Size([100, 1, 28, 28])\n",
            "torch.Size([100, 1, 28, 28])\n",
            "torch.Size([100, 1, 28, 28])\n",
            "torch.Size([100, 1, 28, 28])\n",
            "torch.Size([100, 1, 28, 28])\n",
            "torch.Size([100, 1, 28, 28])\n",
            "torch.Size([100, 1, 28, 28])\n",
            "torch.Size([100, 1, 28, 28])\n",
            "torch.Size([100, 1, 28, 28])\n",
            "torch.Size([100, 1, 28, 28])\n",
            "torch.Size([100, 1, 28, 28])\n",
            "torch.Size([100, 1, 28, 28])\n",
            "torch.Size([100, 1, 28, 28])\n",
            "torch.Size([100, 1, 28, 28])\n",
            "torch.Size([100, 1, 28, 28])\n",
            "torch.Size([100, 1, 28, 28])\n",
            "torch.Size([100, 1, 28, 28])\n",
            "torch.Size([100, 1, 28, 28])\n",
            "torch.Size([100, 1, 28, 28])\n",
            "torch.Size([100, 1, 28, 28])\n",
            "torch.Size([100, 1, 28, 28])\n",
            "torch.Size([100, 1, 28, 28])\n",
            "torch.Size([100, 1, 28, 28])\n",
            "torch.Size([100, 1, 28, 28])\n",
            "torch.Size([100, 1, 28, 28])\n",
            "torch.Size([100, 1, 28, 28])\n",
            "torch.Size([100, 1, 28, 28])\n",
            "torch.Size([100, 1, 28, 28])\n",
            "torch.Size([100, 1, 28, 28])\n",
            "torch.Size([100, 1, 28, 28])\n",
            "torch.Size([100, 1, 28, 28])\n",
            "torch.Size([100, 1, 28, 28])\n",
            "torch.Size([100, 1, 28, 28])\n",
            "torch.Size([100, 1, 28, 28])\n",
            "torch.Size([100, 1, 28, 28])\n",
            "torch.Size([100, 1, 28, 28])\n",
            "torch.Size([100, 1, 28, 28])\n",
            "torch.Size([100, 1, 28, 28])\n",
            "torch.Size([100, 1, 28, 28])\n",
            "torch.Size([100, 1, 28, 28])\n",
            "torch.Size([100, 1, 28, 28])\n",
            "torch.Size([100, 1, 28, 28])\n",
            "torch.Size([100, 1, 28, 28])\n",
            "torch.Size([100, 1, 28, 28])\n",
            "torch.Size([100, 1, 28, 28])\n",
            "torch.Size([100, 1, 28, 28])\n",
            "torch.Size([100, 1, 28, 28])\n",
            "torch.Size([100, 1, 28, 28])\n",
            "torch.Size([100, 1, 28, 28])\n",
            "torch.Size([100, 1, 28, 28])\n",
            "torch.Size([100, 1, 28, 28])\n",
            "torch.Size([100, 1, 28, 28])\n",
            "torch.Size([100, 1, 28, 28])\n",
            "torch.Size([100, 1, 28, 28])\n",
            "torch.Size([100, 1, 28, 28])\n",
            "torch.Size([100, 1, 28, 28])\n",
            "torch.Size([100, 1, 28, 28])\n",
            "torch.Size([100, 1, 28, 28])\n",
            "torch.Size([100, 1, 28, 28])\n",
            "torch.Size([100, 1, 28, 28])\n",
            "torch.Size([100, 1, 28, 28])\n",
            "torch.Size([100, 1, 28, 28])\n",
            "torch.Size([100, 1, 28, 28])\n",
            "torch.Size([100, 1, 28, 28])\n",
            "torch.Size([100, 1, 28, 28])\n",
            "torch.Size([100, 1, 28, 28])\n",
            "torch.Size([100, 1, 28, 28])\n",
            "torch.Size([100, 1, 28, 28])\n",
            "torch.Size([100, 1, 28, 28])\n",
            "torch.Size([100, 1, 28, 28])\n",
            "torch.Size([100, 1, 28, 28])\n",
            "torch.Size([100, 1, 28, 28])\n",
            "torch.Size([100, 1, 28, 28])\n",
            "torch.Size([100, 1, 28, 28])\n",
            "torch.Size([100, 1, 28, 28])\n",
            "torch.Size([100, 1, 28, 28])\n",
            "torch.Size([100, 1, 28, 28])\n",
            "torch.Size([100, 1, 28, 28])\n",
            "torch.Size([100, 1, 28, 28])\n",
            "torch.Size([100, 1, 28, 28])\n",
            "torch.Size([100, 1, 28, 28])\n",
            "torch.Size([100, 1, 28, 28])\n",
            "torch.Size([100, 1, 28, 28])\n",
            "torch.Size([100, 1, 28, 28])\n",
            "torch.Size([100, 1, 28, 28])\n",
            "torch.Size([100, 1, 28, 28])\n",
            "torch.Size([100, 1, 28, 28])\n",
            "torch.Size([100, 1, 28, 28])\n",
            "torch.Size([100, 1, 28, 28])\n",
            "torch.Size([100, 1, 28, 28])\n",
            "torch.Size([100, 1, 28, 28])\n",
            "torch.Size([100, 1, 28, 28])\n",
            "torch.Size([100, 1, 28, 28])\n",
            "torch.Size([100, 1, 28, 28])\n",
            "torch.Size([100, 1, 28, 28])\n",
            "torch.Size([100, 1, 28, 28])\n",
            "torch.Size([100, 1, 28, 28])\n",
            "torch.Size([100, 1, 28, 28])\n",
            "torch.Size([100, 1, 28, 28])\n",
            "torch.Size([100, 1, 28, 28])\n",
            "torch.Size([100, 1, 28, 28])\n",
            "torch.Size([100, 1, 28, 28])\n",
            "torch.Size([100, 1, 28, 28])\n",
            "torch.Size([100, 1, 28, 28])\n",
            "torch.Size([100, 1, 28, 28])\n",
            "torch.Size([100, 1, 28, 28])\n",
            "torch.Size([100, 1, 28, 28])\n",
            "torch.Size([100, 1, 28, 28])\n",
            "torch.Size([100, 1, 28, 28])\n",
            "torch.Size([100, 1, 28, 28])\n",
            "torch.Size([100, 1, 28, 28])\n",
            "torch.Size([100, 1, 28, 28])\n",
            "torch.Size([100, 1, 28, 28])\n",
            "torch.Size([100, 1, 28, 28])\n"
          ],
          "name": "stdout"
        },
        {
          "output_type": "error",
          "ename": "KeyboardInterrupt",
          "evalue": "ignored",
          "traceback": [
            "\u001b[0;31m---------------------------------------------------------------------------\u001b[0m",
            "\u001b[0;31mKeyboardInterrupt\u001b[0m                         Traceback (most recent call last)",
            "\u001b[0;32m<ipython-input-16-b0ab5af34a59>\u001b[0m in \u001b[0;36m<module>\u001b[0;34m()\u001b[0m\n\u001b[1;32m      5\u001b[0m \u001b[0;32mfor\u001b[0m \u001b[0mepoch\u001b[0m \u001b[0;32min\u001b[0m \u001b[0mrange\u001b[0m\u001b[0;34m(\u001b[0m\u001b[0mnum_epochs\u001b[0m\u001b[0;34m)\u001b[0m\u001b[0;34m:\u001b[0m\u001b[0;34m\u001b[0m\u001b[0;34m\u001b[0m\u001b[0m\n\u001b[1;32m      6\u001b[0m     \u001b[0me\u001b[0m\u001b[0;34m.\u001b[0m\u001b[0mappend\u001b[0m\u001b[0;34m(\u001b[0m\u001b[0mepoch\u001b[0m\u001b[0;34m)\u001b[0m\u001b[0;34m\u001b[0m\u001b[0;34m\u001b[0m\u001b[0m\n\u001b[0;32m----> 7\u001b[0;31m     \u001b[0;32mfor\u001b[0m \u001b[0mi\u001b[0m\u001b[0;34m,\u001b[0m \u001b[0;34m(\u001b[0m\u001b[0mimages\u001b[0m\u001b[0;34m,\u001b[0m \u001b[0m_\u001b[0m\u001b[0;34m)\u001b[0m \u001b[0;32min\u001b[0m \u001b[0menumerate\u001b[0m\u001b[0;34m(\u001b[0m\u001b[0mdata_loader\u001b[0m\u001b[0;34m)\u001b[0m\u001b[0;34m:\u001b[0m\u001b[0;34m\u001b[0m\u001b[0;34m\u001b[0m\u001b[0m\n\u001b[0m\u001b[1;32m      8\u001b[0m         \u001b[0mprint\u001b[0m\u001b[0;34m(\u001b[0m\u001b[0mimages\u001b[0m\u001b[0;34m.\u001b[0m\u001b[0mshape\u001b[0m\u001b[0;34m)\u001b[0m\u001b[0;34m\u001b[0m\u001b[0;34m\u001b[0m\u001b[0m\n\u001b[1;32m      9\u001b[0m         \u001b[0mimages\u001b[0m \u001b[0;34m=\u001b[0m \u001b[0mimages\u001b[0m\u001b[0;34m.\u001b[0m\u001b[0mreshape\u001b[0m\u001b[0;34m(\u001b[0m\u001b[0mbatch_size\u001b[0m\u001b[0;34m,\u001b[0m \u001b[0;34m-\u001b[0m\u001b[0;36m1\u001b[0m\u001b[0;34m)\u001b[0m\u001b[0;34m.\u001b[0m\u001b[0mto\u001b[0m\u001b[0;34m(\u001b[0m\u001b[0mdevice\u001b[0m\u001b[0;34m)\u001b[0m\u001b[0;34m\u001b[0m\u001b[0;34m\u001b[0m\u001b[0m\n",
            "\u001b[0;32m/usr/local/lib/python3.6/dist-packages/torch/utils/data/dataloader.py\u001b[0m in \u001b[0;36m__next__\u001b[0;34m(self)\u001b[0m\n\u001b[1;32m    344\u001b[0m     \u001b[0;32mdef\u001b[0m \u001b[0m__next__\u001b[0m\u001b[0;34m(\u001b[0m\u001b[0mself\u001b[0m\u001b[0;34m)\u001b[0m\u001b[0;34m:\u001b[0m\u001b[0;34m\u001b[0m\u001b[0;34m\u001b[0m\u001b[0m\n\u001b[1;32m    345\u001b[0m         \u001b[0mindex\u001b[0m \u001b[0;34m=\u001b[0m \u001b[0mself\u001b[0m\u001b[0;34m.\u001b[0m\u001b[0m_next_index\u001b[0m\u001b[0;34m(\u001b[0m\u001b[0;34m)\u001b[0m  \u001b[0;31m# may raise StopIteration\u001b[0m\u001b[0;34m\u001b[0m\u001b[0;34m\u001b[0m\u001b[0m\n\u001b[0;32m--> 346\u001b[0;31m         \u001b[0mdata\u001b[0m \u001b[0;34m=\u001b[0m \u001b[0mself\u001b[0m\u001b[0;34m.\u001b[0m\u001b[0m_dataset_fetcher\u001b[0m\u001b[0;34m.\u001b[0m\u001b[0mfetch\u001b[0m\u001b[0;34m(\u001b[0m\u001b[0mindex\u001b[0m\u001b[0;34m)\u001b[0m  \u001b[0;31m# may raise StopIteration\u001b[0m\u001b[0;34m\u001b[0m\u001b[0;34m\u001b[0m\u001b[0m\n\u001b[0m\u001b[1;32m    347\u001b[0m         \u001b[0;32mif\u001b[0m \u001b[0mself\u001b[0m\u001b[0;34m.\u001b[0m\u001b[0m_pin_memory\u001b[0m\u001b[0;34m:\u001b[0m\u001b[0;34m\u001b[0m\u001b[0;34m\u001b[0m\u001b[0m\n\u001b[1;32m    348\u001b[0m             \u001b[0mdata\u001b[0m \u001b[0;34m=\u001b[0m \u001b[0m_utils\u001b[0m\u001b[0;34m.\u001b[0m\u001b[0mpin_memory\u001b[0m\u001b[0;34m.\u001b[0m\u001b[0mpin_memory\u001b[0m\u001b[0;34m(\u001b[0m\u001b[0mdata\u001b[0m\u001b[0;34m)\u001b[0m\u001b[0;34m\u001b[0m\u001b[0;34m\u001b[0m\u001b[0m\n",
            "\u001b[0;32m/usr/local/lib/python3.6/dist-packages/torch/utils/data/_utils/fetch.py\u001b[0m in \u001b[0;36mfetch\u001b[0;34m(self, possibly_batched_index)\u001b[0m\n\u001b[1;32m     42\u001b[0m     \u001b[0;32mdef\u001b[0m \u001b[0mfetch\u001b[0m\u001b[0;34m(\u001b[0m\u001b[0mself\u001b[0m\u001b[0;34m,\u001b[0m \u001b[0mpossibly_batched_index\u001b[0m\u001b[0;34m)\u001b[0m\u001b[0;34m:\u001b[0m\u001b[0;34m\u001b[0m\u001b[0;34m\u001b[0m\u001b[0m\n\u001b[1;32m     43\u001b[0m         \u001b[0;32mif\u001b[0m \u001b[0mself\u001b[0m\u001b[0;34m.\u001b[0m\u001b[0mauto_collation\u001b[0m\u001b[0;34m:\u001b[0m\u001b[0;34m\u001b[0m\u001b[0;34m\u001b[0m\u001b[0m\n\u001b[0;32m---> 44\u001b[0;31m             \u001b[0mdata\u001b[0m \u001b[0;34m=\u001b[0m \u001b[0;34m[\u001b[0m\u001b[0mself\u001b[0m\u001b[0;34m.\u001b[0m\u001b[0mdataset\u001b[0m\u001b[0;34m[\u001b[0m\u001b[0midx\u001b[0m\u001b[0;34m]\u001b[0m \u001b[0;32mfor\u001b[0m \u001b[0midx\u001b[0m \u001b[0;32min\u001b[0m \u001b[0mpossibly_batched_index\u001b[0m\u001b[0;34m]\u001b[0m\u001b[0;34m\u001b[0m\u001b[0;34m\u001b[0m\u001b[0m\n\u001b[0m\u001b[1;32m     45\u001b[0m         \u001b[0;32melse\u001b[0m\u001b[0;34m:\u001b[0m\u001b[0;34m\u001b[0m\u001b[0;34m\u001b[0m\u001b[0m\n\u001b[1;32m     46\u001b[0m             \u001b[0mdata\u001b[0m \u001b[0;34m=\u001b[0m \u001b[0mself\u001b[0m\u001b[0;34m.\u001b[0m\u001b[0mdataset\u001b[0m\u001b[0;34m[\u001b[0m\u001b[0mpossibly_batched_index\u001b[0m\u001b[0;34m]\u001b[0m\u001b[0;34m\u001b[0m\u001b[0;34m\u001b[0m\u001b[0m\n",
            "\u001b[0;32m/usr/local/lib/python3.6/dist-packages/torch/utils/data/_utils/fetch.py\u001b[0m in \u001b[0;36m<listcomp>\u001b[0;34m(.0)\u001b[0m\n\u001b[1;32m     42\u001b[0m     \u001b[0;32mdef\u001b[0m \u001b[0mfetch\u001b[0m\u001b[0;34m(\u001b[0m\u001b[0mself\u001b[0m\u001b[0;34m,\u001b[0m \u001b[0mpossibly_batched_index\u001b[0m\u001b[0;34m)\u001b[0m\u001b[0;34m:\u001b[0m\u001b[0;34m\u001b[0m\u001b[0;34m\u001b[0m\u001b[0m\n\u001b[1;32m     43\u001b[0m         \u001b[0;32mif\u001b[0m \u001b[0mself\u001b[0m\u001b[0;34m.\u001b[0m\u001b[0mauto_collation\u001b[0m\u001b[0;34m:\u001b[0m\u001b[0;34m\u001b[0m\u001b[0;34m\u001b[0m\u001b[0m\n\u001b[0;32m---> 44\u001b[0;31m             \u001b[0mdata\u001b[0m \u001b[0;34m=\u001b[0m \u001b[0;34m[\u001b[0m\u001b[0mself\u001b[0m\u001b[0;34m.\u001b[0m\u001b[0mdataset\u001b[0m\u001b[0;34m[\u001b[0m\u001b[0midx\u001b[0m\u001b[0;34m]\u001b[0m \u001b[0;32mfor\u001b[0m \u001b[0midx\u001b[0m \u001b[0;32min\u001b[0m \u001b[0mpossibly_batched_index\u001b[0m\u001b[0;34m]\u001b[0m\u001b[0;34m\u001b[0m\u001b[0;34m\u001b[0m\u001b[0m\n\u001b[0m\u001b[1;32m     45\u001b[0m         \u001b[0;32melse\u001b[0m\u001b[0;34m:\u001b[0m\u001b[0;34m\u001b[0m\u001b[0;34m\u001b[0m\u001b[0m\n\u001b[1;32m     46\u001b[0m             \u001b[0mdata\u001b[0m \u001b[0;34m=\u001b[0m \u001b[0mself\u001b[0m\u001b[0;34m.\u001b[0m\u001b[0mdataset\u001b[0m\u001b[0;34m[\u001b[0m\u001b[0mpossibly_batched_index\u001b[0m\u001b[0;34m]\u001b[0m\u001b[0;34m\u001b[0m\u001b[0;34m\u001b[0m\u001b[0m\n",
            "\u001b[0;32m/usr/local/lib/python3.6/dist-packages/torchvision/datasets/mnist.py\u001b[0m in \u001b[0;36m__getitem__\u001b[0;34m(self, index)\u001b[0m\n\u001b[1;32m     95\u001b[0m             \u001b[0mimg\u001b[0m \u001b[0;34m=\u001b[0m \u001b[0mself\u001b[0m\u001b[0;34m.\u001b[0m\u001b[0mtransform\u001b[0m\u001b[0;34m(\u001b[0m\u001b[0mimg\u001b[0m\u001b[0;34m)\u001b[0m\u001b[0;34m\u001b[0m\u001b[0;34m\u001b[0m\u001b[0m\n\u001b[1;32m     96\u001b[0m \u001b[0;34m\u001b[0m\u001b[0m\n\u001b[0;32m---> 97\u001b[0;31m         \u001b[0;32mif\u001b[0m \u001b[0mself\u001b[0m\u001b[0;34m.\u001b[0m\u001b[0mtarget_transform\u001b[0m \u001b[0;32mis\u001b[0m \u001b[0;32mnot\u001b[0m \u001b[0;32mNone\u001b[0m\u001b[0;34m:\u001b[0m\u001b[0;34m\u001b[0m\u001b[0;34m\u001b[0m\u001b[0m\n\u001b[0m\u001b[1;32m     98\u001b[0m             \u001b[0mtarget\u001b[0m \u001b[0;34m=\u001b[0m \u001b[0mself\u001b[0m\u001b[0;34m.\u001b[0m\u001b[0mtarget_transform\u001b[0m\u001b[0;34m(\u001b[0m\u001b[0mtarget\u001b[0m\u001b[0;34m)\u001b[0m\u001b[0;34m\u001b[0m\u001b[0;34m\u001b[0m\u001b[0m\n\u001b[1;32m     99\u001b[0m \u001b[0;34m\u001b[0m\u001b[0m\n",
            "\u001b[0;31mKeyboardInterrupt\u001b[0m: "
          ]
        }
      ]
    },
    {
      "cell_type": "markdown",
      "metadata": {
        "id": "8rKJDZLBz_X8",
        "colab_type": "text"
      },
      "source": [
        "## Create Augmented Dataset"
      ]
    },
    {
      "cell_type": "code",
      "metadata": {
        "id": "yuaiavdIwfTh",
        "colab_type": "code",
        "colab": {}
      },
      "source": [
        "# Device setting\n",
        "D = D.to(device)\n",
        "G = G.to(device)\n",
        "\n",
        "# Create an equal number of fake images\n",
        "aug_size = len(mnist)\n",
        "z = torch.randn(aug_size, latent_size).to(device)\n",
        "fake_dataset_images = G(z)\n",
        "fake_dataset_labels = torch.zeros(aug_size, 1)\n",
        "fake_dataset = (fake_dataset_images.clone().cpu().detach(), fake_dataset_labels.clone().cpu().detach())\n",
        "\n",
        "# Ugly code to pry out data from an existing dataset\n",
        "original_data = np.zeros((len(mnist), image_size))\n",
        "for i in range(len(mnist)):\n",
        "  original_data[i,:] = mnist[i][0].reshape(image_size,)\n"
      ],
      "execution_count": 0,
      "outputs": []
    },
    {
      "cell_type": "code",
      "metadata": {
        "id": "5tr5Tz1-Aq6_",
        "colab_type": "code",
        "colab": {}
      },
      "source": [
        "# Create augmented dataset\n",
        "class AugDataset(torch.utils.data.Dataset):\n",
        "    def __init__(self, original_data, generated_data):\n",
        "        # Load Data \n",
        "        self.x_train = np.vstack((original_data, generated_data[0].numpy()))\n",
        "      \n",
        "        self.y_train = np.vstack((np.ones(((original_data.shape[0], 1))), np.zeros(((generated_data[0].numpy().shape[0], 1)))))\n",
        "\n",
        "    def __getitem__(self, index):\n",
        "        return (self.x_train[index], self.y_train[index])\n",
        "\n",
        "    def __len__(self):\n",
        "        return self.x_train.shape[0]\n",
        "\n",
        "# Init dataset\n",
        "ds = AugDataset(original_data, fake_dataset)\n",
        "\n",
        "train_size = int(0.8 * len(ds))\n",
        "test_size = len(ds) - train_size\n",
        "train_ds, test_ds = torch.utils.data.random_split(ds, [train_size, test_size])\n",
        "\n",
        "train_loader = torch.utils.data.DataLoader(dataset=train_ds,\n",
        "                                           batch_size=batch_size, \n",
        "                                           shuffle=True)\n",
        "\n",
        "test_loader = torch.utils.data.DataLoader(dataset=test_ds,\n",
        "                                           batch_size=batch_size, \n",
        "                                           shuffle=True)"
      ],
      "execution_count": 0,
      "outputs": []
    },
    {
      "cell_type": "markdown",
      "metadata": {
        "id": "O4_TUVlz0tYk",
        "colab_type": "text"
      },
      "source": [
        "# Create Classifier"
      ]
    },
    {
      "cell_type": "code",
      "metadata": {
        "id": "eDT4CVpD017y",
        "colab_type": "code",
        "colab": {}
      },
      "source": [
        "# Fully connected neural network with the same architecture as the Discriminator\n",
        "class NeuralNet(nn.Module):\n",
        "\n",
        "    def __init__(self, image_size, hidden_size):\n",
        "        super(NeuralNet, self).__init__()\n",
        "        self.fc1 = nn.Linear(image_size, hidden_size) \n",
        "        self.relu1 = nn.LeakyReLU(0.2)\n",
        "        self.fc2 = nn.Linear(hidden_size, hidden_size) \n",
        "        self.relu2 = nn.LeakyReLU(0.2)\n",
        "        self.fc3 = nn.Linear(hidden_size, 1)\n",
        "        self.sig = nn.Sigmoid()\n",
        "\n",
        "        self.criterion = nn.BCELoss()\n",
        "        self.optimizer = torch.optim.Adam(self.parameters(), lr=0.0002)\n",
        "    \n",
        "    def forward(self, x):\n",
        "        out = self.fc1(x)\n",
        "        out = self.relu1(out)\n",
        "        out = self.fc2(out)\n",
        "        out = self.relu2(out)\n",
        "        out = self.fc3(out)\n",
        "        out = self.sig(out)\n",
        "        return out\n",
        "\n",
        "# Create model\n",
        "clf = NeuralNet(image_size, hidden_size).to(device)"
      ],
      "execution_count": 0,
      "outputs": []
    },
    {
      "cell_type": "markdown",
      "metadata": {
        "id": "RcmJyaci2xEU",
        "colab_type": "text"
      },
      "source": [
        "## Train Classifier"
      ]
    },
    {
      "cell_type": "code",
      "metadata": {
        "id": "WP9C0gJN2xNe",
        "colab_type": "code",
        "colab": {}
      },
      "source": [
        "# Train the model\n",
        "num_epochs_clf = 1\n",
        "total_step = len(train_loader)\n",
        "for epoch in range(num_epochs_clf):\n",
        "    for i, (images, labels) in enumerate(train_loader):  \n",
        "        # Move tensors to the configured device\n",
        "        images = images.reshape(batch_size, -1).to(device)\n",
        "        #images = images.reshape(-1, 28*28).to(device)\n",
        "        labels = labels.reshape(batch_size, -1).to(device)\n",
        "        \n",
        "        # Forward pass\n",
        "        outputs = clf(images.float())\n",
        "        loss = clf.criterion(outputs, labels.float())\n",
        "        \n",
        "        # Backward and optimize\n",
        "        clf.optimizer.zero_grad()\n",
        "        loss.backward()\n",
        "        clf.optimizer.step()\n",
        "\n",
        "        if i == 300:\n",
        "          break\n",
        "        \n",
        "        if (i+1) % 500 == 0:\n",
        "            print ('Epoch [{}/{}], Step [{}/{}], Loss: {:.4f}' \n",
        "                   .format(epoch+1, num_epochs_clf, i+1, total_step, loss.item()))"
      ],
      "execution_count": 0,
      "outputs": []
    },
    {
      "cell_type": "markdown",
      "metadata": {
        "id": "bRbATuz75-L_",
        "colab_type": "text"
      },
      "source": [
        "## Test Classifier"
      ]
    },
    {
      "cell_type": "code",
      "metadata": {
        "id": "Sp8VHAUf6BuB",
        "colab_type": "code",
        "colab": {
          "base_uri": "https://localhost:8080/",
          "height": 34
        },
        "outputId": "b163d46b-5729-42af-ed7e-e3087c284b9f"
      },
      "source": [
        "# Test the model\n",
        "# In test phase, we don't need to compute gradients (for memory efficiency)\n",
        "clf = D\n",
        "with torch.no_grad():\n",
        "    correct = 0\n",
        "    total = 0\n",
        "    for images, labels in test_loader:\n",
        "        images = images.reshape(batch_size, -1).to(device)\n",
        "        #images = images.reshape(-1, 28*28).to(device)\n",
        "        labels = labels.reshape(batch_size, -1).to(device)\n",
        "\n",
        "        outputs = clf(images.float())\n",
        "        real_labels = torch.ones(batch_size, 1).to(device)\n",
        "        fake_labels = torch.zeros(batch_size, 1).to(device)\n",
        "        predicted_labels = torch.where(outputs > 0.5, real_labels, fake_labels)\n",
        "\n",
        "\n",
        "        total += labels.size(0)\n",
        "        correct += (predicted_labels == labels).sum().item()\n",
        "\n",
        "    print('Accuracy of the network on the {} test images: {} %'.format(total, 100 * correct / total))"
      ],
      "execution_count": 9,
      "outputs": [
        {
          "output_type": "stream",
          "text": [
            "Accuracy of the network on the 24000 test images: 75.11666666666666 %\n"
          ],
          "name": "stdout"
        }
      ]
    },
    {
      "cell_type": "markdown",
      "metadata": {
        "id": "rshTTOlFoUTc",
        "colab_type": "text"
      },
      "source": [
        "# Fine Tuning"
      ]
    },
    {
      "cell_type": "code",
      "metadata": {
        "id": "KGX5ojtBoUeb",
        "colab_type": "code",
        "colab": {}
      },
      "source": [
        "def train_gan(D, G, D_save_loc, G_save_loc, d_optimizer, g_optimizer, latent_size, data_loader, num_epochs, batch_size, criterion, device):\n",
        "    total_step = len(data_loader)\n",
        "    for epoch in range(num_epochs):\n",
        "        for i, (images, _) in enumerate(data_loader):\n",
        "            images = images.reshape(batch_size, -1).to(device)\n",
        "            \n",
        "            # Create the labels which are later used as input for the BCE loss\n",
        "            real_labels = torch.ones(batch_size, 1).to(device)\n",
        "            fake_labels = torch.zeros(batch_size, 1).to(device)\n",
        "            '''\n",
        "            # ================================================================== #\n",
        "            #                      Train the discriminator                       #\n",
        "            # ================================================================== #\n",
        "\n",
        "            # Compute BCE_Loss using real images where BCE_Loss(x, y): - y * log(D(x)) - (1-y) * log(1 - D(x))\n",
        "            # Second term of the loss is always zero since real_labels == 1\n",
        "            outputs = D(images)\n",
        "            d_loss_real = criterion(outputs, real_labels)\n",
        "            real_score = outputs\n",
        "            \n",
        "            \n",
        "            # Compute BCELoss using fake images\n",
        "            # First term of the loss is always zero since fake_labels == 0\n",
        "            z = torch.randn(batch_size, latent_size).to(device)\n",
        "            fake_images = G(z)\n",
        "            outputs = D(fake_images)\n",
        "            d_loss_fake = criterion(outputs, fake_labels)\n",
        "            fake_score = outputs\n",
        "            \n",
        "            # Backprop and optimize\n",
        "            d_loss = d_loss_real + d_loss_fake\n",
        "            reset_grad()\n",
        "            d_loss.backward()\n",
        "            d_optimizer.step()\n",
        "            '''\n",
        "            # ================================================================== #\n",
        "            #                        Train the generator                         #\n",
        "            # ================================================================== #\n",
        "\n",
        "            # Compute loss with fake images\n",
        "            z = torch.randn(batch_size, latent_size).to(device)\n",
        "            fake_images = G(z)\n",
        "            outputs = D(fake_images)\n",
        "            \n",
        "            # We train G to maximize log(D(G(z)) instead of minimizing log(1-D(G(z)))\n",
        "            # For the reason, see the last paragraph of section 3. https://arxiv.org/pdf/1406.2661.pdf\n",
        "            g_loss = criterion(outputs, real_labels)\n",
        "            \n",
        "            # Backprop and optimize\n",
        "            reset_grad()\n",
        "            g_loss.backward()\n",
        "            g_optimizer.step()\n",
        "            \n",
        "            if (i+1) % 200 == 0:\n",
        "                print('Epoch [{}/{}], Step [{}/{}], g_loss: {:.4f}' \n",
        "                      .format(epoch, num_epochs, i+1, total_step, g_loss.item(), \n",
        "                              ))\n",
        "        \n",
        "        \n",
        "        # Reshape sampled images\n",
        "        fake_images = fake_images.reshape(fake_images.size(0), 1, 28, 28)\n",
        "\n",
        "        fake_images_clone = fake_images.clone()\n",
        "        im = denorm(fake_images_clone[0]).cpu().detach().numpy()\n",
        "        im = (im * 255).astype(np.uint8)\n",
        "        im = im.reshape((28, 28))\n",
        "        imgplot = plt.imshow(im, cmap='gray')\n",
        "        plt.show()\n",
        "\n",
        "    # Save the model checkpoints \n",
        "    torch.save(G.state_dict(), G_save_loc)\n",
        "    torch.save(D.state_dict(), D_save_loc)\n",
        "\n",
        "    return D, G"
      ],
      "execution_count": 0,
      "outputs": []
    },
    {
      "cell_type": "code",
      "metadata": {
        "id": "iS3ePsTSqBkl",
        "colab_type": "code",
        "colab": {
          "base_uri": "https://localhost:8080/",
          "height": 1000
        },
        "outputId": "cc999195-8f97-4fb7-e026-57ba7ce9b21f"
      },
      "source": [
        "D, G = train_gan(clf, G, 'gdrive/My Drive/fine-tuning-generators/ff+mnist/D_200+ft1.ckpt', 'gdrive/My Drive/fine-tuning-generators/ff+mnist/G_200+ft1.ckpt', d_optimizer, g_optimizer, latent_size, data_loader, num_epochs, batch_size, criterion, device)"
      ],
      "execution_count": 29,
      "outputs": [
        {
          "output_type": "stream",
          "text": [
            "Epoch [0/200], Step [200/600], g_loss: 0.0001\n",
            "Epoch [0/200], Step [400/600], g_loss: 0.0002\n",
            "Epoch [0/200], Step [600/600], g_loss: 0.0001\n"
          ],
          "name": "stdout"
        },
        {
          "output_type": "display_data",
          "data": {
            "image/png": "[encoded data removed]",
            "text/plain": [
              "<Figure size 432x288 with 1 Axes>"
            ]
          },
          "metadata": {
            "tags": []
          }
        },
        {
          "output_type": "stream",
          "text": [
            "Epoch [1/200], Step [200/600], g_loss: 0.0001\n",
            "Epoch [1/200], Step [400/600], g_loss: 0.0002\n",
            "Epoch [1/200], Step [600/600], g_loss: 0.0000\n"
          ],
          "name": "stdout"
        },
        {
          "output_type": "display_data",
          "data": {
            "image/png": "[encoded data removed]",
            "text/plain": [
              "<Figure size 432x288 with 1 Axes>"
            ]
          },
          "metadata": {
            "tags": []
          }
        },
        {
          "output_type": "stream",
          "text": [
            "Epoch [2/200], Step [200/600], g_loss: 0.0001\n",
            "Epoch [2/200], Step [400/600], g_loss: 0.0000\n",
            "Epoch [2/200], Step [600/600], g_loss: 0.0000\n"
          ],
          "name": "stdout"
        },
        {
          "output_type": "display_data",
          "data": {
            "image/png": "[encoded data removed]",
            "text/plain": [
              "<Figure size 432x288 with 1 Axes>"
            ]
          },
          "metadata": {
            "tags": []
          }
        },
        {
          "output_type": "stream",
          "text": [
            "Epoch [3/200], Step [200/600], g_loss: 0.0001\n",
            "Epoch [3/200], Step [400/600], g_loss: 0.0000\n",
            "Epoch [3/200], Step [600/600], g_loss: 0.0000\n"
          ],
          "name": "stdout"
        },
        {
          "output_type": "display_data",
          "data": {
            "image/png": "[encoded data removed]",
            "text/plain": [
              "<Figure size 432x288 with 1 Axes>"
            ]
          },
          "metadata": {
            "tags": []
          }
        },
        {
          "output_type": "stream",
          "text": [
            "Epoch [4/200], Step [200/600], g_loss: 0.0000\n",
            "Epoch [4/200], Step [400/600], g_loss: 0.0000\n",
            "Epoch [4/200], Step [600/600], g_loss: 0.0001\n"
          ],
          "name": "stdout"
        },
        {
          "output_type": "display_data",
          "data": {
            "image/png": "[encoded data removed]",
            "text/plain": [
              "<Figure size 432x288 with 1 Axes>"
            ]
          },
          "metadata": {
            "tags": []
          }
        },
        {
          "output_type": "stream",
          "text": [
            "Epoch [5/200], Step [200/600], g_loss: 0.0000\n",
            "Epoch [5/200], Step [400/600], g_loss: 0.0000\n",
            "Epoch [5/200], Step [600/600], g_loss: 0.0000\n"
          ],
          "name": "stdout"
        },
        {
          "output_type": "display_data",
          "data": {
            "image/png": "[encoded data removed]",
            "text/plain": [
              "<Figure size 432x288 with 1 Axes>"
            ]
          },
          "metadata": {
            "tags": []
          }
        },
        {
          "output_type": "stream",
          "text": [
            "Epoch [6/200], Step [200/600], g_loss: 0.0000\n",
            "Epoch [6/200], Step [400/600], g_loss: 0.0000\n",
            "Epoch [6/200], Step [600/600], g_loss: 0.0000\n"
          ],
          "name": "stdout"
        },
        {
          "output_type": "display_data",
          "data": {
            "image/png": "[encoded data removed]",
            "text/plain": [
              "<Figure size 432x288 with 1 Axes>"
            ]
          },
          "metadata": {
            "tags": []
          }
        },
        {
          "output_type": "error",
          "ename": "KeyboardInterrupt",
          "evalue": "ignored",
          "traceback": [
            "\u001b[0;31m---------------------------------------------------------------------------\u001b[0m",
            "\u001b[0;31mKeyboardInterrupt\u001b[0m                         Traceback (most recent call last)",
            "\u001b[0;32m<ipython-input-29-720728e1da70>\u001b[0m in \u001b[0;36m<module>\u001b[0;34m()\u001b[0m\n\u001b[0;32m----> 1\u001b[0;31m \u001b[0mD\u001b[0m\u001b[0;34m,\u001b[0m \u001b[0mG\u001b[0m \u001b[0;34m=\u001b[0m \u001b[0mtrain_gan\u001b[0m\u001b[0;34m(\u001b[0m\u001b[0mclf\u001b[0m\u001b[0;34m,\u001b[0m \u001b[0mG\u001b[0m\u001b[0;34m,\u001b[0m \u001b[0;34m'gdrive/My Drive/fine-tuning-generators/ff+mnist/D_200+ft1.ckpt'\u001b[0m\u001b[0;34m,\u001b[0m \u001b[0;34m'gdrive/My Drive/fine-tuning-generators/ff+mnist/G_200+ft1.ckpt'\u001b[0m\u001b[0;34m,\u001b[0m \u001b[0md_optimizer\u001b[0m\u001b[0;34m,\u001b[0m \u001b[0mg_optimizer\u001b[0m\u001b[0;34m,\u001b[0m \u001b[0mlatent_size\u001b[0m\u001b[0;34m,\u001b[0m \u001b[0mdata_loader\u001b[0m\u001b[0;34m,\u001b[0m \u001b[0mnum_epochs\u001b[0m\u001b[0;34m,\u001b[0m \u001b[0mbatch_size\u001b[0m\u001b[0;34m,\u001b[0m \u001b[0mcriterion\u001b[0m\u001b[0;34m,\u001b[0m \u001b[0mdevice\u001b[0m\u001b[0;34m)\u001b[0m\u001b[0;34m\u001b[0m\u001b[0;34m\u001b[0m\u001b[0m\n\u001b[0m",
            "\u001b[0;32m<ipython-input-28-fd7a57f2bebc>\u001b[0m in \u001b[0;36mtrain_gan\u001b[0;34m(D, G, D_save_loc, G_save_loc, d_optimizer, g_optimizer, latent_size, data_loader, num_epochs, batch_size, criterion, device)\u001b[0m\n\u001b[1;32m      2\u001b[0m     \u001b[0mtotal_step\u001b[0m \u001b[0;34m=\u001b[0m \u001b[0mlen\u001b[0m\u001b[0;34m(\u001b[0m\u001b[0mdata_loader\u001b[0m\u001b[0;34m)\u001b[0m\u001b[0;34m\u001b[0m\u001b[0;34m\u001b[0m\u001b[0m\n\u001b[1;32m      3\u001b[0m     \u001b[0;32mfor\u001b[0m \u001b[0mepoch\u001b[0m \u001b[0;32min\u001b[0m \u001b[0mrange\u001b[0m\u001b[0;34m(\u001b[0m\u001b[0mnum_epochs\u001b[0m\u001b[0;34m)\u001b[0m\u001b[0;34m:\u001b[0m\u001b[0;34m\u001b[0m\u001b[0;34m\u001b[0m\u001b[0m\n\u001b[0;32m----> 4\u001b[0;31m         \u001b[0;32mfor\u001b[0m \u001b[0mi\u001b[0m\u001b[0;34m,\u001b[0m \u001b[0;34m(\u001b[0m\u001b[0mimages\u001b[0m\u001b[0;34m,\u001b[0m \u001b[0m_\u001b[0m\u001b[0;34m)\u001b[0m \u001b[0;32min\u001b[0m \u001b[0menumerate\u001b[0m\u001b[0;34m(\u001b[0m\u001b[0mdata_loader\u001b[0m\u001b[0;34m)\u001b[0m\u001b[0;34m:\u001b[0m\u001b[0;34m\u001b[0m\u001b[0;34m\u001b[0m\u001b[0m\n\u001b[0m\u001b[1;32m      5\u001b[0m             \u001b[0mimages\u001b[0m \u001b[0;34m=\u001b[0m \u001b[0mimages\u001b[0m\u001b[0;34m.\u001b[0m\u001b[0mreshape\u001b[0m\u001b[0;34m(\u001b[0m\u001b[0mbatch_size\u001b[0m\u001b[0;34m,\u001b[0m \u001b[0;34m-\u001b[0m\u001b[0;36m1\u001b[0m\u001b[0;34m)\u001b[0m\u001b[0;34m.\u001b[0m\u001b[0mto\u001b[0m\u001b[0;34m(\u001b[0m\u001b[0mdevice\u001b[0m\u001b[0;34m)\u001b[0m\u001b[0;34m\u001b[0m\u001b[0;34m\u001b[0m\u001b[0m\n\u001b[1;32m      6\u001b[0m \u001b[0;34m\u001b[0m\u001b[0m\n",
            "\u001b[0;32m/usr/local/lib/python3.6/dist-packages/torch/utils/data/dataloader.py\u001b[0m in \u001b[0;36m__next__\u001b[0;34m(self)\u001b[0m\n\u001b[1;32m    344\u001b[0m     \u001b[0;32mdef\u001b[0m \u001b[0m__next__\u001b[0m\u001b[0;34m(\u001b[0m\u001b[0mself\u001b[0m\u001b[0;34m)\u001b[0m\u001b[0;34m:\u001b[0m\u001b[0;34m\u001b[0m\u001b[0;34m\u001b[0m\u001b[0m\n\u001b[1;32m    345\u001b[0m         \u001b[0mindex\u001b[0m \u001b[0;34m=\u001b[0m \u001b[0mself\u001b[0m\u001b[0;34m.\u001b[0m\u001b[0m_next_index\u001b[0m\u001b[0;34m(\u001b[0m\u001b[0;34m)\u001b[0m  \u001b[0;31m# may raise StopIteration\u001b[0m\u001b[0;34m\u001b[0m\u001b[0;34m\u001b[0m\u001b[0m\n\u001b[0;32m--> 346\u001b[0;31m         \u001b[0mdata\u001b[0m \u001b[0;34m=\u001b[0m \u001b[0mself\u001b[0m\u001b[0;34m.\u001b[0m\u001b[0m_dataset_fetcher\u001b[0m\u001b[0;34m.\u001b[0m\u001b[0mfetch\u001b[0m\u001b[0;34m(\u001b[0m\u001b[0mindex\u001b[0m\u001b[0;34m)\u001b[0m  \u001b[0;31m# may raise StopIteration\u001b[0m\u001b[0;34m\u001b[0m\u001b[0;34m\u001b[0m\u001b[0m\n\u001b[0m\u001b[1;32m    347\u001b[0m         \u001b[0;32mif\u001b[0m \u001b[0mself\u001b[0m\u001b[0;34m.\u001b[0m\u001b[0m_pin_memory\u001b[0m\u001b[0;34m:\u001b[0m\u001b[0;34m\u001b[0m\u001b[0;34m\u001b[0m\u001b[0m\n\u001b[1;32m    348\u001b[0m             \u001b[0mdata\u001b[0m \u001b[0;34m=\u001b[0m \u001b[0m_utils\u001b[0m\u001b[0;34m.\u001b[0m\u001b[0mpin_memory\u001b[0m\u001b[0;34m.\u001b[0m\u001b[0mpin_memory\u001b[0m\u001b[0;34m(\u001b[0m\u001b[0mdata\u001b[0m\u001b[0;34m)\u001b[0m\u001b[0;34m\u001b[0m\u001b[0;34m\u001b[0m\u001b[0m\n",
            "\u001b[0;32m/usr/local/lib/python3.6/dist-packages/torch/utils/data/_utils/fetch.py\u001b[0m in \u001b[0;36mfetch\u001b[0;34m(self, possibly_batched_index)\u001b[0m\n\u001b[1;32m     42\u001b[0m     \u001b[0;32mdef\u001b[0m \u001b[0mfetch\u001b[0m\u001b[0;34m(\u001b[0m\u001b[0mself\u001b[0m\u001b[0;34m,\u001b[0m \u001b[0mpossibly_batched_index\u001b[0m\u001b[0;34m)\u001b[0m\u001b[0;34m:\u001b[0m\u001b[0;34m\u001b[0m\u001b[0;34m\u001b[0m\u001b[0m\n\u001b[1;32m     43\u001b[0m         \u001b[0;32mif\u001b[0m \u001b[0mself\u001b[0m\u001b[0;34m.\u001b[0m\u001b[0mauto_collation\u001b[0m\u001b[0;34m:\u001b[0m\u001b[0;34m\u001b[0m\u001b[0;34m\u001b[0m\u001b[0m\n\u001b[0;32m---> 44\u001b[0;31m             \u001b[0mdata\u001b[0m \u001b[0;34m=\u001b[0m \u001b[0;34m[\u001b[0m\u001b[0mself\u001b[0m\u001b[0;34m.\u001b[0m\u001b[0mdataset\u001b[0m\u001b[0;34m[\u001b[0m\u001b[0midx\u001b[0m\u001b[0;34m]\u001b[0m \u001b[0;32mfor\u001b[0m \u001b[0midx\u001b[0m \u001b[0;32min\u001b[0m \u001b[0mpossibly_batched_index\u001b[0m\u001b[0;34m]\u001b[0m\u001b[0;34m\u001b[0m\u001b[0;34m\u001b[0m\u001b[0m\n\u001b[0m\u001b[1;32m     45\u001b[0m         \u001b[0;32melse\u001b[0m\u001b[0;34m:\u001b[0m\u001b[0;34m\u001b[0m\u001b[0;34m\u001b[0m\u001b[0m\n\u001b[1;32m     46\u001b[0m             \u001b[0mdata\u001b[0m \u001b[0;34m=\u001b[0m \u001b[0mself\u001b[0m\u001b[0;34m.\u001b[0m\u001b[0mdataset\u001b[0m\u001b[0;34m[\u001b[0m\u001b[0mpossibly_batched_index\u001b[0m\u001b[0;34m]\u001b[0m\u001b[0;34m\u001b[0m\u001b[0;34m\u001b[0m\u001b[0m\n",
            "\u001b[0;32m/usr/local/lib/python3.6/dist-packages/torch/utils/data/_utils/fetch.py\u001b[0m in \u001b[0;36m<listcomp>\u001b[0;34m(.0)\u001b[0m\n\u001b[1;32m     42\u001b[0m     \u001b[0;32mdef\u001b[0m \u001b[0mfetch\u001b[0m\u001b[0;34m(\u001b[0m\u001b[0mself\u001b[0m\u001b[0;34m,\u001b[0m \u001b[0mpossibly_batched_index\u001b[0m\u001b[0;34m)\u001b[0m\u001b[0;34m:\u001b[0m\u001b[0;34m\u001b[0m\u001b[0;34m\u001b[0m\u001b[0m\n\u001b[1;32m     43\u001b[0m         \u001b[0;32mif\u001b[0m \u001b[0mself\u001b[0m\u001b[0;34m.\u001b[0m\u001b[0mauto_collation\u001b[0m\u001b[0;34m:\u001b[0m\u001b[0;34m\u001b[0m\u001b[0;34m\u001b[0m\u001b[0m\n\u001b[0;32m---> 44\u001b[0;31m             \u001b[0mdata\u001b[0m \u001b[0;34m=\u001b[0m \u001b[0;34m[\u001b[0m\u001b[0mself\u001b[0m\u001b[0;34m.\u001b[0m\u001b[0mdataset\u001b[0m\u001b[0;34m[\u001b[0m\u001b[0midx\u001b[0m\u001b[0;34m]\u001b[0m \u001b[0;32mfor\u001b[0m \u001b[0midx\u001b[0m \u001b[0;32min\u001b[0m \u001b[0mpossibly_batched_index\u001b[0m\u001b[0;34m]\u001b[0m\u001b[0;34m\u001b[0m\u001b[0;34m\u001b[0m\u001b[0m\n\u001b[0m\u001b[1;32m     45\u001b[0m         \u001b[0;32melse\u001b[0m\u001b[0;34m:\u001b[0m\u001b[0;34m\u001b[0m\u001b[0;34m\u001b[0m\u001b[0m\n\u001b[1;32m     46\u001b[0m             \u001b[0mdata\u001b[0m \u001b[0;34m=\u001b[0m \u001b[0mself\u001b[0m\u001b[0;34m.\u001b[0m\u001b[0mdataset\u001b[0m\u001b[0;34m[\u001b[0m\u001b[0mpossibly_batched_index\u001b[0m\u001b[0;34m]\u001b[0m\u001b[0;34m\u001b[0m\u001b[0;34m\u001b[0m\u001b[0m\n",
            "\u001b[0;32m/usr/local/lib/python3.6/dist-packages/torchvision/datasets/mnist.py\u001b[0m in \u001b[0;36m__getitem__\u001b[0;34m(self, index)\u001b[0m\n\u001b[1;32m     93\u001b[0m \u001b[0;34m\u001b[0m\u001b[0m\n\u001b[1;32m     94\u001b[0m         \u001b[0;32mif\u001b[0m \u001b[0mself\u001b[0m\u001b[0;34m.\u001b[0m\u001b[0mtransform\u001b[0m \u001b[0;32mis\u001b[0m \u001b[0;32mnot\u001b[0m \u001b[0;32mNone\u001b[0m\u001b[0;34m:\u001b[0m\u001b[0;34m\u001b[0m\u001b[0;34m\u001b[0m\u001b[0m\n\u001b[0;32m---> 95\u001b[0;31m             \u001b[0mimg\u001b[0m \u001b[0;34m=\u001b[0m \u001b[0mself\u001b[0m\u001b[0;34m.\u001b[0m\u001b[0mtransform\u001b[0m\u001b[0;34m(\u001b[0m\u001b[0mimg\u001b[0m\u001b[0;34m)\u001b[0m\u001b[0;34m\u001b[0m\u001b[0;34m\u001b[0m\u001b[0m\n\u001b[0m\u001b[1;32m     96\u001b[0m \u001b[0;34m\u001b[0m\u001b[0m\n\u001b[1;32m     97\u001b[0m         \u001b[0;32mif\u001b[0m \u001b[0mself\u001b[0m\u001b[0;34m.\u001b[0m\u001b[0mtarget_transform\u001b[0m \u001b[0;32mis\u001b[0m \u001b[0;32mnot\u001b[0m \u001b[0;32mNone\u001b[0m\u001b[0;34m:\u001b[0m\u001b[0;34m\u001b[0m\u001b[0;34m\u001b[0m\u001b[0m\n",
            "\u001b[0;32m/usr/local/lib/python3.6/dist-packages/torchvision/transforms/transforms.py\u001b[0m in \u001b[0;36m__call__\u001b[0;34m(self, img)\u001b[0m\n\u001b[1;32m     68\u001b[0m     \u001b[0;32mdef\u001b[0m \u001b[0m__call__\u001b[0m\u001b[0;34m(\u001b[0m\u001b[0mself\u001b[0m\u001b[0;34m,\u001b[0m \u001b[0mimg\u001b[0m\u001b[0;34m)\u001b[0m\u001b[0;34m:\u001b[0m\u001b[0;34m\u001b[0m\u001b[0;34m\u001b[0m\u001b[0m\n\u001b[1;32m     69\u001b[0m         \u001b[0;32mfor\u001b[0m \u001b[0mt\u001b[0m \u001b[0;32min\u001b[0m \u001b[0mself\u001b[0m\u001b[0;34m.\u001b[0m\u001b[0mtransforms\u001b[0m\u001b[0;34m:\u001b[0m\u001b[0;34m\u001b[0m\u001b[0;34m\u001b[0m\u001b[0m\n\u001b[0;32m---> 70\u001b[0;31m             \u001b[0mimg\u001b[0m \u001b[0;34m=\u001b[0m \u001b[0mt\u001b[0m\u001b[0;34m(\u001b[0m\u001b[0mimg\u001b[0m\u001b[0;34m)\u001b[0m\u001b[0;34m\u001b[0m\u001b[0;34m\u001b[0m\u001b[0m\n\u001b[0m\u001b[1;32m     71\u001b[0m         \u001b[0;32mreturn\u001b[0m \u001b[0mimg\u001b[0m\u001b[0;34m\u001b[0m\u001b[0;34m\u001b[0m\u001b[0m\n\u001b[1;32m     72\u001b[0m \u001b[0;34m\u001b[0m\u001b[0m\n",
            "\u001b[0;32m/usr/local/lib/python3.6/dist-packages/torchvision/transforms/transforms.py\u001b[0m in \u001b[0;36m__call__\u001b[0;34m(self, pic)\u001b[0m\n\u001b[1;32m     99\u001b[0m             \u001b[0mTensor\u001b[0m\u001b[0;34m:\u001b[0m \u001b[0mConverted\u001b[0m \u001b[0mimage\u001b[0m\u001b[0;34m.\u001b[0m\u001b[0;34m\u001b[0m\u001b[0;34m\u001b[0m\u001b[0m\n\u001b[1;32m    100\u001b[0m         \"\"\"\n\u001b[0;32m--> 101\u001b[0;31m         \u001b[0;32mreturn\u001b[0m \u001b[0mF\u001b[0m\u001b[0;34m.\u001b[0m\u001b[0mto_tensor\u001b[0m\u001b[0;34m(\u001b[0m\u001b[0mpic\u001b[0m\u001b[0;34m)\u001b[0m\u001b[0;34m\u001b[0m\u001b[0;34m\u001b[0m\u001b[0m\n\u001b[0m\u001b[1;32m    102\u001b[0m \u001b[0;34m\u001b[0m\u001b[0m\n\u001b[1;32m    103\u001b[0m     \u001b[0;32mdef\u001b[0m \u001b[0m__repr__\u001b[0m\u001b[0;34m(\u001b[0m\u001b[0mself\u001b[0m\u001b[0;34m)\u001b[0m\u001b[0;34m:\u001b[0m\u001b[0;34m\u001b[0m\u001b[0;34m\u001b[0m\u001b[0m\n",
            "\u001b[0;32m/usr/local/lib/python3.6/dist-packages/torchvision/transforms/functional.py\u001b[0m in \u001b[0;36mto_tensor\u001b[0;34m(pic)\u001b[0m\n\u001b[1;32m     84\u001b[0m         \u001b[0mimg\u001b[0m \u001b[0;34m=\u001b[0m \u001b[0;36m255\u001b[0m \u001b[0;34m*\u001b[0m \u001b[0mtorch\u001b[0m\u001b[0;34m.\u001b[0m\u001b[0mfrom_numpy\u001b[0m\u001b[0;34m(\u001b[0m\u001b[0mnp\u001b[0m\u001b[0;34m.\u001b[0m\u001b[0marray\u001b[0m\u001b[0;34m(\u001b[0m\u001b[0mpic\u001b[0m\u001b[0;34m,\u001b[0m \u001b[0mnp\u001b[0m\u001b[0;34m.\u001b[0m\u001b[0muint8\u001b[0m\u001b[0;34m,\u001b[0m \u001b[0mcopy\u001b[0m\u001b[0;34m=\u001b[0m\u001b[0;32mFalse\u001b[0m\u001b[0;34m)\u001b[0m\u001b[0;34m)\u001b[0m\u001b[0;34m\u001b[0m\u001b[0;34m\u001b[0m\u001b[0m\n\u001b[1;32m     85\u001b[0m     \u001b[0;32melse\u001b[0m\u001b[0;34m:\u001b[0m\u001b[0;34m\u001b[0m\u001b[0;34m\u001b[0m\u001b[0m\n\u001b[0;32m---> 86\u001b[0;31m         \u001b[0mimg\u001b[0m \u001b[0;34m=\u001b[0m \u001b[0mtorch\u001b[0m\u001b[0;34m.\u001b[0m\u001b[0mByteTensor\u001b[0m\u001b[0;34m(\u001b[0m\u001b[0mtorch\u001b[0m\u001b[0;34m.\u001b[0m\u001b[0mByteStorage\u001b[0m\u001b[0;34m.\u001b[0m\u001b[0mfrom_buffer\u001b[0m\u001b[0;34m(\u001b[0m\u001b[0mpic\u001b[0m\u001b[0;34m.\u001b[0m\u001b[0mtobytes\u001b[0m\u001b[0;34m(\u001b[0m\u001b[0;34m)\u001b[0m\u001b[0;34m)\u001b[0m\u001b[0;34m)\u001b[0m\u001b[0;34m\u001b[0m\u001b[0;34m\u001b[0m\u001b[0m\n\u001b[0m\u001b[1;32m     87\u001b[0m     \u001b[0;31m# PIL image mode: L, LA, P, I, F, RGB, YCbCr, RGBA, CMYK\u001b[0m\u001b[0;34m\u001b[0m\u001b[0;34m\u001b[0m\u001b[0;34m\u001b[0m\u001b[0m\n\u001b[1;32m     88\u001b[0m     \u001b[0;32mif\u001b[0m \u001b[0mpic\u001b[0m\u001b[0;34m.\u001b[0m\u001b[0mmode\u001b[0m \u001b[0;34m==\u001b[0m \u001b[0;34m'YCbCr'\u001b[0m\u001b[0;34m:\u001b[0m\u001b[0;34m\u001b[0m\u001b[0;34m\u001b[0m\u001b[0m\n",
            "\u001b[0;32m/usr/local/lib/python3.6/dist-packages/PIL/Image.py\u001b[0m in \u001b[0;36mtobytes\u001b[0;34m(self, encoder_name, *args)\u001b[0m\n\u001b[1;32m    719\u001b[0m \u001b[0;34m\u001b[0m\u001b[0m\n\u001b[1;32m    720\u001b[0m         \u001b[0;31m# unpack data\u001b[0m\u001b[0;34m\u001b[0m\u001b[0;34m\u001b[0m\u001b[0;34m\u001b[0m\u001b[0m\n\u001b[0;32m--> 721\u001b[0;31m         \u001b[0me\u001b[0m \u001b[0;34m=\u001b[0m \u001b[0m_getencoder\u001b[0m\u001b[0;34m(\u001b[0m\u001b[0mself\u001b[0m\u001b[0;34m.\u001b[0m\u001b[0mmode\u001b[0m\u001b[0;34m,\u001b[0m \u001b[0mencoder_name\u001b[0m\u001b[0;34m,\u001b[0m \u001b[0margs\u001b[0m\u001b[0;34m)\u001b[0m\u001b[0;34m\u001b[0m\u001b[0;34m\u001b[0m\u001b[0m\n\u001b[0m\u001b[1;32m    722\u001b[0m         \u001b[0me\u001b[0m\u001b[0;34m.\u001b[0m\u001b[0msetimage\u001b[0m\u001b[0;34m(\u001b[0m\u001b[0mself\u001b[0m\u001b[0;34m.\u001b[0m\u001b[0mim\u001b[0m\u001b[0;34m)\u001b[0m\u001b[0;34m\u001b[0m\u001b[0;34m\u001b[0m\u001b[0m\n\u001b[1;32m    723\u001b[0m \u001b[0;34m\u001b[0m\u001b[0m\n",
            "\u001b[0;32m/usr/local/lib/python3.6/dist-packages/PIL/Image.py\u001b[0m in \u001b[0;36m_getencoder\u001b[0;34m(mode, encoder_name, args, extra)\u001b[0m\n\u001b[1;32m    451\u001b[0m     \u001b[0;32mtry\u001b[0m\u001b[0;34m:\u001b[0m\u001b[0;34m\u001b[0m\u001b[0;34m\u001b[0m\u001b[0m\n\u001b[1;32m    452\u001b[0m         \u001b[0;31m# get encoder\u001b[0m\u001b[0;34m\u001b[0m\u001b[0;34m\u001b[0m\u001b[0;34m\u001b[0m\u001b[0m\n\u001b[0;32m--> 453\u001b[0;31m         \u001b[0mencoder\u001b[0m \u001b[0;34m=\u001b[0m \u001b[0mgetattr\u001b[0m\u001b[0;34m(\u001b[0m\u001b[0mcore\u001b[0m\u001b[0;34m,\u001b[0m \u001b[0mencoder_name\u001b[0m \u001b[0;34m+\u001b[0m \u001b[0;34m\"_encoder\"\u001b[0m\u001b[0;34m)\u001b[0m\u001b[0;34m\u001b[0m\u001b[0;34m\u001b[0m\u001b[0m\n\u001b[0m\u001b[1;32m    454\u001b[0m         \u001b[0;31m# print(encoder, mode, args + extra)\u001b[0m\u001b[0;34m\u001b[0m\u001b[0;34m\u001b[0m\u001b[0;34m\u001b[0m\u001b[0m\n\u001b[1;32m    455\u001b[0m         \u001b[0;32mreturn\u001b[0m \u001b[0mencoder\u001b[0m\u001b[0;34m(\u001b[0m\u001b[0mmode\u001b[0m\u001b[0;34m,\u001b[0m \u001b[0;34m*\u001b[0m\u001b[0margs\u001b[0m \u001b[0;34m+\u001b[0m \u001b[0mextra\u001b[0m\u001b[0;34m)\u001b[0m\u001b[0;34m\u001b[0m\u001b[0;34m\u001b[0m\u001b[0m\n",
            "\u001b[0;31mKeyboardInterrupt\u001b[0m: "
          ]
        }
      ]
    }
  ]
}