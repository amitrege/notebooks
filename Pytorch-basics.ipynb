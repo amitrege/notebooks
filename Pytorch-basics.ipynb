{
  "nbformat": 4,
  "nbformat_minor": 0,
  "metadata": {
    "kernelspec": {
      "name": "python3",
      "display_name": "Python 3"
    },
    "language_info": {
      "codemirror_mode": {
        "name": "ipython",
        "version": 3
      },
      "file_extension": ".py",
      "mimetype": "text/x-python",
      "name": "python",
      "nbconvert_exporter": "python",
      "pygments_lexer": "ipython3",
      "version": "3.6.8"
    },
    "colab": {
      "name": "Pytorch-basics.ipynb",
      "provenance": []
    },
    "accelerator": "GPU"
  },
  "cells": [
    {
      "cell_type": "markdown",
      "metadata": {
        "id": "ZATq1kLL9Lrn",
        "colab_type": "text"
      },
      "source": [
        "# Includes"
      ]
    },
    {
      "cell_type": "code",
      "metadata": {
        "id": "hPqgDuxJ80BA",
        "colab_type": "code",
        "colab": {}
      },
      "source": [
        "import torch \n",
        "import torchvision\n",
        "import torch.nn as nn\n",
        "import numpy as np\n",
        "import torchvision.transforms as transforms\n",
        "import matplotlib.pyplot as plt"
      ],
      "execution_count": 0,
      "outputs": []
    },
    {
      "cell_type": "markdown",
      "metadata": {
        "id": "4iQvFE9f9oO3",
        "colab_type": "text"
      },
      "source": [
        "# Basic Autograd "
      ]
    },
    {
      "cell_type": "code",
      "metadata": {
        "id": "IQo-Ih4E9S6x",
        "colab_type": "code",
        "colab": {
          "base_uri": "https://localhost:8080/",
          "height": 68
        },
        "outputId": "115a1e24-0eb4-4c5c-8077-ad4761994f53"
      },
      "source": [
        "# Example 1 (Linear 1D) \n",
        "x = torch.tensor(1., requires_grad=True)\n",
        "w = torch.tensor(2., requires_grad=True)\n",
        "b = torch.tensor(3., requires_grad=True)\n",
        "\n",
        "y = w*x + b\n",
        "\n",
        "# Backprop\n",
        "y.backward()\n",
        "\n",
        "# Print out the gradients.\n",
        "print(x.grad)    \n",
        "print(w.grad)    \n",
        "print(b.grad)"
      ],
      "execution_count": 3,
      "outputs": [
        {
          "output_type": "stream",
          "text": [
            "tensor(2.)\n",
            "tensor(1.)\n",
            "tensor(1.)\n"
          ],
          "name": "stdout"
        }
      ]
    },
    {
      "cell_type": "code",
      "metadata": {
        "id": "nQ1jXXQA-lme",
        "colab_type": "code",
        "colab": {
          "base_uri": "https://localhost:8080/",
          "height": 204
        },
        "outputId": "471f8ce8-6247-4853-d4f7-bbfdf3996dce"
      },
      "source": [
        "# Example 2 (Linear Regression)\n",
        "# Create tensors of shape (10, 3) and (10, 2).\n",
        "x = torch.randn(10, 3)\n",
        "y = torch.randn(10, 2)\n",
        "\n",
        "# Build a fully connected layer.\n",
        "linear = nn.Linear(3, 2)\n",
        "print ('w: ', linear.weight)\n",
        "print ('b: ', linear.bias)\n",
        "\n",
        "# Build loss function and optimizer.\n",
        "criterion = nn.MSELoss()\n",
        "optimizer = torch.optim.SGD(linear.parameters(), lr=0.01)\n",
        "\n",
        "# Forward pass.\n",
        "pred = linear(x)\n",
        "\n",
        "# Compute loss.\n",
        "loss = criterion(pred, y)\n",
        "print('loss: ', loss.item())\n",
        "\n",
        "# Backward pass.\n",
        "loss.backward()\n",
        "\n",
        "# Print out the gradients.\n",
        "print ('dL/dw: ', linear.weight.grad) \n",
        "print ('dL/db: ', linear.bias.grad)\n",
        "print(x.grad)\n",
        "\n",
        "# 1-step gradient descent.\n",
        "optimizer.step()\n",
        "\n",
        "# You can also perform gradient descent at the low level.\n",
        "# linear.weight.data.sub_(0.01 * linear.weight.grad.data)\n",
        "# linear.bias.data.sub_(0.01 * linear.bias.grad.data)\n",
        "\n",
        "# Print out the loss after 1-step gradient descent.\n",
        "pred = linear(x)\n",
        "loss = criterion(pred, y)\n",
        "print('loss after 1 step optimization: ', loss.item())"
      ],
      "execution_count": 9,
      "outputs": [
        {
          "output_type": "stream",
          "text": [
            "w:  Parameter containing:\n",
            "tensor([[ 0.3400, -0.4674,  0.4258],\n",
            "        [-0.1894,  0.1355,  0.5381]], requires_grad=True)\n",
            "b:  Parameter containing:\n",
            "tensor([ 0.4912, -0.1716], requires_grad=True)\n",
            "loss:  2.7776167392730713\n",
            "dL/dw:  tensor([[ 0.1939, -0.8835,  2.2192],\n",
            "        [ 0.1195, -0.0944,  1.6635]])\n",
            "dL/db:  tensor([-0.0812,  0.0424])\n",
            "None\n",
            "loss after 1 step optimization:  2.6930313110351562\n"
          ],
          "name": "stdout"
        }
      ]
    },
    {
      "cell_type": "markdown",
      "metadata": {
        "id": "XkkJtShhA8Ed",
        "colab_type": "text"
      },
      "source": [
        "# Misc"
      ]
    },
    {
      "cell_type": "code",
      "metadata": {
        "id": "u-W9-HEhA_KW",
        "colab_type": "code",
        "colab": {
          "base_uri": "https://localhost:8080/",
          "height": 238
        },
        "outputId": "1b59459e-c24f-484e-b1f8-62df58812e1c"
      },
      "source": [
        "x = np.array([[1,2],[3,4]])\n",
        "\n",
        "# Convert np array to tensor\n",
        "y = torch.from_numpy(x)\n",
        "\n",
        "# tensor to np array\n",
        "z = y.numpy()\n",
        "\n",
        "\n",
        "##### SETTING UP A PIPELINE FOR STANDARD DATASETS ######\n",
        "# Download and construct CIFAR-10 dataset.\n",
        "# The transforms.ToTenssor() option converts PIL images or np arrays in range 0 to 255 (HxWxC) to normalized [0,1] (CxHxW) \n",
        "train_dataset = torchvision.datasets.CIFAR10(root='../../data/',\n",
        "                                             train=True, \n",
        "                                             transform=transforms.ToTensor(),\n",
        "                                             download=True)\n",
        "\n",
        "# Fetch one data pair (read data from disk).\n",
        "image, label = train_dataset[0]\n",
        "print (image.size())\n",
        "print (label)\n",
        "\n",
        "# Data loader (this provides queues and threads in a very simple way).\n",
        "train_loader = torch.utils.data.DataLoader(dataset=train_dataset,\n",
        "                                           batch_size=64, \n",
        "                                           shuffle=True)\n",
        "\n",
        "# When iteration starts, queue and thread start to load data from files.\n",
        "data_iter = iter(train_loader)\n",
        "\n",
        "# Mini-batch images and labels.\n",
        "# every call to next() gives us 64 pairs\n",
        "images, labels = data_iter.next()\n",
        "print(labels.shape) # Will print 64\n",
        "\n",
        "# Actual usage of the data loader is as below.\n",
        "for images, labels in train_loader:\n",
        "    # Training code should be written here.\n",
        "    pass\n",
        "\n",
        "########### Pipeline for a custom dataset ############\n",
        "# You should build your custom dataset as below.\n",
        "class CustomDataset(torch.utils.data.Dataset):\n",
        "    def __init__(self):\n",
        "        # TODO\n",
        "        # 1. Initialize file paths or a list of file names. \n",
        "        pass\n",
        "    def __getitem__(self, index):\n",
        "        # TODO\n",
        "        # 1. Read one data from file (e.g. using numpy.fromfile, PIL.Image.open).\n",
        "        # 2. Preprocess the data (e.g. torchvision.Transform).\n",
        "        # 3. Return a data pair (e.g. image and label).\n",
        "        pass\n",
        "    def __len__(self):\n",
        "        # You should change 0 to the total size of your dataset.\n",
        "        return 0 \n",
        "\n",
        "# You can then use the prebuilt data loader. \n",
        "custom_dataset = CustomDataset()\n",
        "train_loader = torch.utils.data.DataLoader(dataset=custom_dataset,\n",
        "                                           batch_size=64, \n",
        "                                           shuffle=True)\n",
        "\n",
        "############### Loading a Pretrained model ###############\n",
        "# Download and load the pretrained ResNet-18.\n",
        "resnet = torchvision.models.resnet18(pretrained=True)\n",
        "\n",
        "# If you want to finetune only the top layer of the model, set as below.\n",
        "for param in resnet.parameters():\n",
        "    param.requires_grad = False\n",
        "\n",
        "# Replace the top layer for finetuning.\n",
        "resnet.fc = nn.Linear(resnet.fc.in_features, 100)  # 100 is an example.\n",
        "\n",
        "# Forward pass.\n",
        "images = torch.randn(64, 3, 224, 224)\n",
        "outputs = resnet(images)\n",
        "print (outputs.size())     # (64, 100)\n",
        "\n",
        "print(resnet.fc.out_features)\n",
        "\n",
        "####### Saving and Loading a model ##########\n",
        "# Save and load the entire model.\n",
        "torch.save(resnet, 'model.ckpt')\n",
        "model = torch.load('model.ckpt')\n",
        "\n",
        "# Save and load only the model parameters (recommended).\n",
        "torch.save(resnet.state_dict(), 'params.ckpt')\n",
        "resnet.load_state_dict(torch.load('params.ckpt'))"
      ],
      "execution_count": 19,
      "outputs": [
        {
          "output_type": "stream",
          "text": [
            "Files already downloaded and verified\n",
            "torch.Size([3, 32, 32])\n",
            "6\n",
            "torch.Size([64])\n"
          ],
          "name": "stdout"
        },
        {
          "output_type": "stream",
          "text": [
            "Downloading: \"https://download.pytorch.org/models/resnet18-5c106cde.pth\" to /root/.cache/torch/checkpoints/resnet18-5c106cde.pth\n",
            "\n",
            "  0%|          | 0.00/44.7M [00:00<?, ?B/s]\u001b[A\n",
            " 23%|██▎       | 10.1M/44.7M [00:00<00:00, 106MB/s]\u001b[A\n",
            " 45%|████▍     | 19.9M/44.7M [00:00<00:00, 105MB/s]\u001b[A\n",
            " 67%|██████▋   | 29.9M/44.7M [00:00<00:00, 105MB/s]\u001b[A\n",
            " 90%|████████▉ | 40.0M/44.7M [00:00<00:00, 105MB/s]\u001b[A\n",
            "100%|██████████| 44.7M/44.7M [00:00<00:00, 103MB/s]\u001b[A"
          ],
          "name": "stderr"
        },
        {
          "output_type": "stream",
          "text": [
            "torch.Size([64, 100])\n",
            "100\n"
          ],
          "name": "stdout"
        }
      ]
    },
    {
      "cell_type": "markdown",
      "metadata": {
        "id": "t0tIw0EQGYpN",
        "colab_type": "text"
      },
      "source": [
        "# Linear Regression"
      ]
    },
    {
      "cell_type": "code",
      "metadata": {
        "id": "qqau2RTUGfk8",
        "colab_type": "code",
        "colab": {
          "base_uri": "https://localhost:8080/",
          "height": 471
        },
        "outputId": "e6a8b3f8-a589-4ec5-9cc2-ffbeaaf68387"
      },
      "source": [
        "# Hyper-parameters\n",
        "input_size = 1\n",
        "output_size = 1\n",
        "num_epochs = 60\n",
        "learning_rate = 0.001\n",
        "\n",
        "# Toy dataset\n",
        "x_train = np.array([[3.3], [4.4], [5.5], [6.71], [6.93], [4.168], \n",
        "                    [9.779], [6.182], [7.59], [2.167], [7.042], \n",
        "                    [10.791], [5.313], [7.997], [3.1]], dtype=np.float32)\n",
        "\n",
        "y_train = np.array([[1.7], [2.76], [2.09], [3.19], [1.694], [1.573], \n",
        "                    [3.366], [2.596], [2.53], [1.221], [2.827], \n",
        "                    [3.465], [1.65], [2.904], [1.3]], dtype=np.float32)\n",
        "\n",
        "# Linear regression model (1x1 linear layer)\n",
        "model = nn.Linear(input_size, output_size)\n",
        "\n",
        "# Loss and optimizer\n",
        "criterion = nn.MSELoss()\n",
        "optimizer = torch.optim.SGD(model.parameters(), lr=learning_rate)  \n",
        "\n",
        "# Train the model\n",
        "for epoch in range(num_epochs):\n",
        "    # Convert numpy arrays to torch tensors\n",
        "    inputs = torch.from_numpy(x_train)\n",
        "    targets = torch.from_numpy(y_train)\n",
        "\n",
        "    # Forward pass\n",
        "    outputs = model(inputs)\n",
        "    loss = criterion(outputs, targets)\n",
        "    \n",
        "    # Backward and optimize\n",
        "    # Zero gradients from previous iterations\n",
        "    optimizer.zero_grad()\n",
        "    # Backprop\n",
        "    loss.backward()\n",
        "    optimizer.step()\n",
        "    \n",
        "    if (epoch+1) % 5 == 0:\n",
        "        print ('Epoch [{}/{}], Loss: {:.4f}'.format(epoch+1, num_epochs, loss.item()))\n",
        "\n",
        "# Plot the graph\n",
        "#Final predictions after training\n",
        "predicted = model(torch.from_numpy(x_train)).detach().numpy()\n",
        "# True graph\n",
        "plt.plot(x_train, y_train, 'ro', label='Original data')\n",
        "# Predicted graph\n",
        "plt.plot(x_train, predicted, label='Fitted line')\n",
        "plt.legend()\n",
        "plt.show()\n",
        "\n",
        "# Save the model checkpoint\n",
        "torch.save(model.state_dict(), 'model.ckpt')"
      ],
      "execution_count": 24,
      "outputs": [
        {
          "output_type": "stream",
          "text": [
            "Epoch [5/60], Loss: 0.5435\n",
            "Epoch [10/60], Loss: 0.4876\n",
            "Epoch [15/60], Loss: 0.4645\n",
            "Epoch [20/60], Loss: 0.4547\n",
            "Epoch [25/60], Loss: 0.4503\n",
            "Epoch [30/60], Loss: 0.4481\n",
            "Epoch [35/60], Loss: 0.4468\n",
            "Epoch [40/60], Loss: 0.4459\n",
            "Epoch [45/60], Loss: 0.4451\n",
            "Epoch [50/60], Loss: 0.4443\n",
            "Epoch [55/60], Loss: 0.4436\n",
            "Epoch [60/60], Loss: 0.4429\n"
          ],
          "name": "stdout"
        },
        {
          "output_type": "display_data",
          "data": {
            "image/png": "[encoded data removed]",
            "text/plain": [
              "<Figure size 432x288 with 1 Axes>"
            ]
          },
          "metadata": {
            "tags": []
          }
        }
      ]
    },
    {
      "cell_type": "markdown",
      "metadata": {
        "id": "-wlduHeYJfd-",
        "colab_type": "text"
      },
      "source": [
        "## Doing the same thing as above but using the Data Loader"
      ]
    },
    {
      "cell_type": "code",
      "metadata": {
        "id": "em9d41mCIANt",
        "colab_type": "code",
        "colab": {
          "base_uri": "https://localhost:8080/",
          "height": 877
        },
        "outputId": "9f8455fa-ca2d-4f2b-9289-5719214f3514"
      },
      "source": [
        "class ToyDataset(torch.utils.data.Dataset):\n",
        "    def __init__(self):\n",
        "        # Load Data \n",
        "        self.x_train = np.array([[3.3], [4.4], [5.5], [6.71], [6.93], [4.168], \n",
        "                    [9.779], [6.182], [7.59], [2.167], [7.042], \n",
        "                    [10.791], [5.313], [7.997], [3.1]], dtype=np.float32)\n",
        "\n",
        "        self.y_train = np.array([[1.7], [2.76], [2.09], [3.19], [1.694], [1.573], \n",
        "                    [3.366], [2.596], [2.53], [1.221], [2.827], \n",
        "                    [3.465], [1.65], [2.904], [1.3]], dtype=np.float32)\n",
        "\n",
        "    def __getitem__(self, index):\n",
        "        # 1. Read one data from file (e.g. using numpy.fromfile, PIL.Image.open).\n",
        "        # 2. Preprocess the data (e.g. torchvision.Transform).\n",
        "        # 3. Return a data pair (e.g. image and label).\n",
        "        return (self.x_train[index], self.y_train[index])\n",
        "\n",
        "    def __len__(self):\n",
        "        return x_train.shape[0]\n",
        "\n",
        "# You can then use the prebuilt data loader. \n",
        "ds = ToyDataset()\n",
        "train_loader = torch.utils.data.DataLoader(dataset=ds,\n",
        "                                           batch_size=5, \n",
        "                                           shuffle=True)\n",
        "# Hyper-parameters\n",
        "input_size = 1\n",
        "output_size = 1\n",
        "num_epochs = 60\n",
        "learning_rate = 0.001\n",
        "\n",
        "# Linear regression model (1x1 linear layer)\n",
        "model = nn.Linear(input_size, output_size)\n",
        "\n",
        "# Loss and optimizer\n",
        "criterion = nn.MSELoss()\n",
        "optimizer = torch.optim.SGD(model.parameters(), lr=learning_rate)  \n",
        "\n",
        "# Train the model\n",
        "for epoch in range(num_epochs):\n",
        "    for x, y in train_loader:\n",
        "        \n",
        "        # Convert numpy arrays to torch tensors (No need to convert here since dataloader returns tensors)\n",
        "        inputs = x\n",
        "        targets = y\n",
        "\n",
        "        # Forward pass\n",
        "        outputs = model(inputs)\n",
        "        loss = criterion(outputs, targets)\n",
        "    \n",
        "        # Backward and optimize\n",
        "        # Zero gradients from previous iterations\n",
        "        optimizer.zero_grad()\n",
        "        # Backprop\n",
        "        loss.backward()\n",
        "        optimizer.step()\n",
        "    \n",
        "        if (epoch+1) % 5 == 0:\n",
        "            print ('Epoch [{}/{}], Loss: {:.4f}'.format(epoch+1, num_epochs, loss.item()))\n",
        "\n",
        "# Plot the graph\n",
        "#Final predictions after training\n",
        "\n",
        "# Nice way to get entire daatset from a dataLoader\n",
        "x_train = ds[:][0]\n",
        "y_train = ds[:][1]\n",
        "\n",
        "predicted = model(torch.from_numpy(x_train)).detach().numpy()\n",
        "# True graph\n",
        "plt.plot(x_train, y_train, 'ro', label='Original data')\n",
        "# Predicted graph\n",
        "plt.plot(x_train, predicted, label='Fitted line')\n",
        "plt.legend()\n",
        "plt.show()\n",
        "\n",
        "# Save the model checkpoint\n",
        "torch.save(model.state_dict(), 'model.ckpt')"
      ],
      "execution_count": 35,
      "outputs": [
        {
          "output_type": "stream",
          "text": [
            "Epoch [5/60], Loss: 2.0839\n",
            "Epoch [5/60], Loss: 1.9971\n",
            "Epoch [5/60], Loss: 1.4121\n",
            "Epoch [10/60], Loss: 0.1599\n",
            "Epoch [10/60], Loss: 0.7120\n",
            "Epoch [10/60], Loss: 0.0704\n",
            "Epoch [15/60], Loss: 0.0272\n",
            "Epoch [15/60], Loss: 0.4703\n",
            "Epoch [15/60], Loss: 0.0801\n",
            "Epoch [20/60], Loss: 0.0605\n",
            "Epoch [20/60], Loss: 0.1237\n",
            "Epoch [20/60], Loss: 0.3729\n",
            "Epoch [25/60], Loss: 0.3257\n",
            "Epoch [25/60], Loss: 0.0673\n",
            "Epoch [25/60], Loss: 0.1789\n",
            "Epoch [30/60], Loss: 0.0309\n",
            "Epoch [30/60], Loss: 0.3922\n",
            "Epoch [30/60], Loss: 0.1386\n",
            "Epoch [35/60], Loss: 0.3064\n",
            "Epoch [35/60], Loss: 0.0649\n",
            "Epoch [35/60], Loss: 0.1919\n",
            "Epoch [40/60], Loss: 0.2527\n",
            "Epoch [40/60], Loss: 0.0501\n",
            "Epoch [40/60], Loss: 0.2524\n",
            "Epoch [45/60], Loss: 0.3756\n",
            "Epoch [45/60], Loss: 0.0081\n",
            "Epoch [45/60], Loss: 0.1697\n",
            "Epoch [50/60], Loss: 0.0234\n",
            "Epoch [50/60], Loss: 0.3210\n",
            "Epoch [50/60], Loss: 0.2258\n",
            "Epoch [55/60], Loss: 0.3341\n",
            "Epoch [55/60], Loss: 0.2239\n",
            "Epoch [55/60], Loss: 0.0048\n",
            "Epoch [60/60], Loss: 0.2697\n",
            "Epoch [60/60], Loss: 0.2531\n",
            "Epoch [60/60], Loss: 0.0305\n"
          ],
          "name": "stdout"
        },
        {
          "output_type": "display_data",
          "data": {
            "image/png": "[encoded data removed]",
            "text/plain": [
              "<Figure size 432x288 with 1 Axes>"
            ]
          },
          "metadata": {
            "tags": []
          }
        }
      ]
    },
    {
      "cell_type": "markdown",
      "metadata": {
        "id": "cp4PDxO7Nmoc",
        "colab_type": "text"
      },
      "source": [
        "# Logistic Regression"
      ]
    },
    {
      "cell_type": "code",
      "metadata": {
        "id": "W2zwWaRvN2LC",
        "colab_type": "code",
        "colab": {
          "base_uri": "https://localhost:8080/",
          "height": 527
        },
        "outputId": "7d41931e-d11c-498f-ddd3-eb697c40d2d7"
      },
      "source": [
        "# Hyper-parameters \n",
        "input_size = 784\n",
        "num_classes = 10\n",
        "num_epochs = 5\n",
        "batch_size = 100\n",
        "learning_rate = 0.001\n",
        "\n",
        "# MNIST dataset (images and labels)\n",
        "train_dataset = torchvision.datasets.MNIST(root='../../data', \n",
        "                                           train=True, \n",
        "                                           transform=transforms.ToTensor(),\n",
        "                                           download=True)\n",
        "\n",
        "test_dataset = torchvision.datasets.MNIST(root='../../data', \n",
        "                                          train=False, \n",
        "                                          transform=transforms.ToTensor())\n",
        "\n",
        "# Data loader (input pipeline)\n",
        "train_loader = torch.utils.data.DataLoader(dataset=train_dataset, \n",
        "                                           batch_size=batch_size, \n",
        "                                           shuffle=True)\n",
        "\n",
        "test_loader = torch.utils.data.DataLoader(dataset=test_dataset, \n",
        "                                          batch_size=batch_size, \n",
        "                                          shuffle=False)\n",
        "\n",
        "# Logistic regression model\n",
        "model = nn.Linear(input_size, num_classes)\n",
        "\n",
        "# Loss and optimizer\n",
        "# nn.CrossEntropyLoss() computes softmax internally\n",
        "criterion = nn.CrossEntropyLoss()  \n",
        "optimizer = torch.optim.SGD(model.parameters(), lr=learning_rate)  \n",
        "\n",
        "# Train the model\n",
        "total_step = len(train_loader)\n",
        "for epoch in range(num_epochs):\n",
        "    for i, (images, labels) in enumerate(train_loader):\n",
        "        # Reshape images to (batch_size, input_size)\n",
        "        # From (batch_size, 1, 28, 28) to (batch_size, 1, 28*28)\n",
        "        images = images.reshape(-1, 28*28)\n",
        "        \n",
        "        # Forward pass\n",
        "        outputs = model(images)\n",
        "        loss = criterion(outputs, labels)\n",
        "        \n",
        "        # Backward and optimize\n",
        "        optimizer.zero_grad()\n",
        "        loss.backward()\n",
        "        optimizer.step()\n",
        "        \n",
        "        if (i+1) % 100 == 0:\n",
        "            print ('Epoch [{}/{}], Step [{}/{}], Loss: {:.4f}' \n",
        "                   .format(epoch+1, num_epochs, i+1, total_step, loss.item()))"
      ],
      "execution_count": 37,
      "outputs": [
        {
          "output_type": "stream",
          "text": [
            "Epoch [1/5], Step [100/600], Loss: 2.2022\n",
            "Epoch [1/5], Step [200/600], Loss: 2.0750\n",
            "Epoch [1/5], Step [300/600], Loss: 2.0048\n",
            "Epoch [1/5], Step [400/600], Loss: 1.9185\n",
            "Epoch [1/5], Step [500/600], Loss: 1.8528\n",
            "Epoch [1/5], Step [600/600], Loss: 1.8422\n",
            "Epoch [2/5], Step [100/600], Loss: 1.7191\n",
            "Epoch [2/5], Step [200/600], Loss: 1.6464\n",
            "Epoch [2/5], Step [300/600], Loss: 1.6298\n",
            "Epoch [2/5], Step [400/600], Loss: 1.4922\n",
            "Epoch [2/5], Step [500/600], Loss: 1.5216\n",
            "Epoch [2/5], Step [600/600], Loss: 1.4065\n",
            "Epoch [3/5], Step [100/600], Loss: 1.4516\n",
            "Epoch [3/5], Step [200/600], Loss: 1.3581\n",
            "Epoch [3/5], Step [300/600], Loss: 1.3408\n",
            "Epoch [3/5], Step [400/600], Loss: 1.2430\n",
            "Epoch [3/5], Step [500/600], Loss: 1.2801\n",
            "Epoch [3/5], Step [600/600], Loss: 1.2528\n",
            "Epoch [4/5], Step [100/600], Loss: 1.2563\n",
            "Epoch [4/5], Step [200/600], Loss: 1.2555\n",
            "Epoch [4/5], Step [300/600], Loss: 1.2521\n",
            "Epoch [4/5], Step [400/600], Loss: 1.1429\n",
            "Epoch [4/5], Step [500/600], Loss: 1.1269\n",
            "Epoch [4/5], Step [600/600], Loss: 1.0840\n",
            "Epoch [5/5], Step [100/600], Loss: 1.1231\n",
            "Epoch [5/5], Step [200/600], Loss: 1.0674\n",
            "Epoch [5/5], Step [300/600], Loss: 0.9796\n",
            "Epoch [5/5], Step [400/600], Loss: 1.1152\n",
            "Epoch [5/5], Step [500/600], Loss: 0.9802\n",
            "Epoch [5/5], Step [600/600], Loss: 0.9095\n"
          ],
          "name": "stdout"
        }
      ]
    },
    {
      "cell_type": "code",
      "metadata": {
        "id": "Gsw9ZYJ9SSyT",
        "colab_type": "code",
        "colab": {
          "base_uri": "https://localhost:8080/",
          "height": 34
        },
        "outputId": "c7273851-d44c-4912-fc02-6301eaa49068"
      },
      "source": [
        "# Test the model\n",
        "# In test phase, we don't need to compute gradients (for memory efficiency)\n",
        "with torch.no_grad():\n",
        "    correct = 0\n",
        "    total = 0\n",
        "    for images, labels in test_loader:\n",
        "        images = images.reshape(-1, 28*28)\n",
        "        outputs = model(images)\n",
        "        \n",
        "        # Why is .data required? Removing it seems to make no difference\n",
        "        # .max() returns the max element along axis = 1\n",
        "        _, predicted = torch.max(outputs.data, 1)\n",
        "        \n",
        "        total += labels.size(0)\n",
        "        correct += (predicted == labels).sum()\n",
        "\n",
        "    print('Accuracy of the model on the 10000 test images: {} %'.format(100 * correct / total))\n",
        "\n",
        "# Save the model checkpoint\n",
        "torch.save(model.state_dict(), 'model.ckpt')"
      ],
      "execution_count": 48,
      "outputs": [
        {
          "output_type": "stream",
          "text": [
            "Accuracy of the model on the 10000 test images: 82 %\n"
          ],
          "name": "stdout"
        }
      ]
    },
    {
      "cell_type": "markdown",
      "metadata": {
        "id": "xk4xzLY0N0xq",
        "colab_type": "text"
      },
      "source": [
        "# Feed Forward Neural Network"
      ]
    }
  ]
}